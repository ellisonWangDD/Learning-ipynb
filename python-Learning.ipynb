{
 "cells": [
  {
   "cell_type": "markdown",
   "metadata": {},
   "source": [
    "# 字典\n",
    "字典是一种通过名字或者关键字引用的数据结构，由关键字和其对应的变量值对应形成。其键可以是数字、字符串、元组，其值可以是多种对象元素。字典类似于映射关系<br/>\n",
    "字典使用`{}`来表示，\n",
    "字典每个键值对使用`：`来分割，如下形式\n",
    "`d={key1:value1,key2:value2.}`<br>\n",
    "对字典的遍历其实是对key的遍历，访问键对应值使用`[]`来访问其对应的值。"
   ]
  },
  {
   "cell_type": "code",
   "execution_count": 14,
   "metadata": {},
   "outputs": [
    {
     "name": "stdout",
     "output_type": "stream",
     "text": [
      "green\n",
      "5\n"
     ]
    }
   ],
   "source": [
    "alien={'color':'green','point':5}\n",
    "print(alien['color'])\n",
    "key='point'\n",
    "print(alien[key])#此处key相当于一个string"
   ]
  },
  {
   "cell_type": "markdown",
   "metadata": {},
   "source": [
    "## 修改字典中的元素\n",
    "向字典添加新内容的方法是增加新的键/值对，修改方法也是类似。删除可以使用`del`来执行，可以单独删除某一个键值对也可以删除整个字典。"
   ]
  },
  {
   "cell_type": "code",
   "execution_count": 16,
   "metadata": {},
   "outputs": [
    {
     "name": "stdout",
     "output_type": "stream",
     "text": [
      "{'point': 10, 'gender': 'male'}\n"
     ]
    }
   ],
   "source": [
    "alien['gender']='male'\n",
    "alien['point']=10\n",
    "del alien['color']\n",
    "print(alien)"
   ]
  },
  {
   "cell_type": "markdown",
   "metadata": {},
   "source": [
    "## 字典内置函数&方法\n",
    "`dict.clear()`删除字典内的所有元素\n",
    "`dict.copy()`返回一个字典的复制\n",
    "`dict.item()`以列表返回可遍历的(键值)元组、数组\n",
    "`dict.keys()`以列表形式返回字典所有的键\n",
    "`dict.values()`以列表形式返回字典中所有的值"
   ]
  },
  {
   "cell_type": "code",
   "execution_count": 19,
   "metadata": {},
   "outputs": [
    {
     "data": {
      "text/plain": [
       "dict_values([10, 'male'])"
      ]
     },
     "execution_count": 19,
     "metadata": {},
     "output_type": "execute_result"
    }
   ],
   "source": [
    "alien.keys()\n",
    "alien.values()"
   ]
  },
  {
   "cell_type": "markdown",
   "metadata": {},
   "source": [
    "# 函数\n",
    "如果函数有返回值，则可以把函数当作一个对象来直接使用"
   ]
  },
  {
   "cell_type": "code",
   "execution_count": 1,
   "metadata": {},
   "outputs": [
    {
     "data": {
      "text/plain": [
       "'Andy'"
      ]
     },
     "execution_count": 1,
     "metadata": {},
     "output_type": "execute_result"
    }
   ],
   "source": [
    "def fun1():\n",
    "    a=['Andy','July',3,4]\n",
    "    return a\n",
    "fun1()[0]"
   ]
  },
  {
   "cell_type": "code",
   "execution_count": 2,
   "metadata": {},
   "outputs": [
    {
     "ename": "TypeError",
     "evalue": "'function' object is not subscriptable",
     "output_type": "error",
     "traceback": [
      "\u001b[0;31m---------------------------------------------------------------------------\u001b[0m",
      "\u001b[0;31mTypeError\u001b[0m                                 Traceback (most recent call last)",
      "\u001b[0;32m<ipython-input-2-959f42ef36c4>\u001b[0m in \u001b[0;36m<module>\u001b[0;34m()\u001b[0m\n\u001b[0;32m----> 1\u001b[0;31m \u001b[0mfun1\u001b[0m\u001b[0;34m[\u001b[0m\u001b[0;36m0\u001b[0m\u001b[0;34m]\u001b[0m\u001b[0;31m#不加括号会报错，()相当于是一个callable调用，不加括号fun1只是一个指针\u001b[0m\u001b[0;34m\u001b[0m\u001b[0m\n\u001b[0m",
      "\u001b[0;31mTypeError\u001b[0m: 'function' object is not subscriptable"
     ]
    }
   ],
   "source": [
    "fun1[0]#不加括号会报错，()相当于是一个callable调用，不加括号fun1只是一个指针"
   ]
  },
  {
   "cell_type": "markdown",
   "metadata": {},
   "source": [
    "# 同时多个赋值——形参*args,**kwargs\n",
    "以*开头的形参，可以传入以元组形式的多个实参；**是按照关键字以字典的形式进行传值，\n",
    "*args:表示的就是将实参中按照位置传值，多出来的值都给args，且以元组的方式呈现\n",
    "**kwargs:表示形参中关键字传值把多余的值以字典的方式呈现\n",
    ">下面出现的位置参数是指：普通的形参，但是其所在位置决定了其传值的顺序\n",
    "\n",
    "### *args"
   ]
  },
  {
   "cell_type": "code",
   "execution_count": 25,
   "metadata": {},
   "outputs": [
    {
     "name": "stdout",
     "output_type": "stream",
     "text": [
      "1\n",
      "(2, 3, 4, 5, 6)\n",
      "type of args: <class 'tuple'>\n"
     ]
    }
   ],
   "source": [
    "def foo(x,*args):\n",
    "    print(x)\n",
    "    print(args)\n",
    "    print('type of args: '+ str(type(args)))\n",
    "foo(1,2,3,4,5,6)#除了第一个剩下的全部以元组的形式赋给args,args类型是tuple"
   ]
  },
  {
   "cell_type": "markdown",
   "metadata": {},
   "source": [
    "当args与位置参数和默认参数混用的情况：\n"
   ]
  },
  {
   "cell_type": "code",
   "execution_count": 26,
   "metadata": {},
   "outputs": [
    {
     "name": "stdout",
     "output_type": "stream",
     "text": [
      "1\n",
      "2\n",
      "(3, 4, 5)\n"
     ]
    }
   ],
   "source": [
    "#*args传参数是按位置进行传递，顺序是（位置参数、默认参数、*args）\n",
    "def foo(x,y=1,*args):\n",
    "    print(x)\n",
    "    print(y)\n",
    "    print(args)\n",
    "foo(1,2,3,4,5)"
   ]
  },
  {
   "cell_type": "code",
   "execution_count": 3,
   "metadata": {},
   "outputs": [
    {
     "name": "stdout",
     "output_type": "stream",
     "text": [
      "1\n",
      "2 3 4 5\n",
      "1\n",
      "---------------\n",
      "1\n",
      "(2, 3, 4, 5) 6\n",
      "1\n"
     ]
    }
   ],
   "source": [
    "#*args传参数是按位置进行传递，顺序是(位置参数、*args、默认参数)\n",
    "def foo(x,*args,z=1):#x算位置参数,在第一个位置\n",
    "    print(x)\n",
    "    print(*args)#注意看区别，如果加上了*,输出结果相当于是元组展开后，输出里面每一个元素\n",
    "    print(z)\n",
    "foo(1,2,3,4,5)#可以看到*args吸收了剩余所有的参数\n",
    "print('---------------')\n",
    "foo(1,(2,3,4,5),6)#通过这个可以看出，此处将(2,3,4,5)看成一个元素，不同的函数定义方式不同，有的使用元组进行收集参数，有的使用单个元素输入"
   ]
  },
  {
   "cell_type": "markdown",
   "metadata": {},
   "source": [
    "### **kwargs\n",
    "\n",
    "位置参数、*args、**kwargs三者的顺序必须是未知参数、*args、**kwargs，不然就会报错\n",
    "为什么呢，*args就像是一个黑洞，可以吸收所有的剩余值，普通的位置参数x放到其后面就会被屏蔽掉，"
   ]
  },
  {
   "cell_type": "code",
   "execution_count": 31,
   "metadata": {},
   "outputs": [
    {
     "name": "stdout",
     "output_type": "stream",
     "text": [
      "1\n",
      "(2, 3, 4)\n",
      "{'a': 1, 'b': 2, 'c': 3}\n"
     ]
    }
   ],
   "source": [
    "def foo(x,*args,**kwargs):\n",
    "    print(x)\n",
    "    print(args)\n",
    "    print(kwargs)\n",
    "foo(1,2,3,4,a=1,b=2,c=3)"
   ]
  },
  {
   "cell_type": "code",
   "execution_count": 32,
   "metadata": {},
   "outputs": [
    {
     "ename": "SyntaxError",
     "evalue": "invalid syntax (<ipython-input-32-2169e771290a>, line 1)",
     "output_type": "error",
     "traceback": [
      "\u001b[0;36m  File \u001b[0;32m\"<ipython-input-32-2169e771290a>\"\u001b[0;36m, line \u001b[0;32m1\u001b[0m\n\u001b[0;31m    def foo(x,**kwargs,*args):\u001b[0m\n\u001b[0m                       ^\u001b[0m\n\u001b[0;31mSyntaxError\u001b[0m\u001b[0;31m:\u001b[0m invalid syntax\n"
     ]
    }
   ],
   "source": [
    "def foo(x,**kwargs,*args):\n",
    "    print(x)\n",
    "    print(args)\n",
    "    print(kwargs)\n",
    "foo(1,2,3,4,5)"
   ]
  },
  {
   "cell_type": "markdown",
   "metadata": {},
   "source": [
    "### 关于`*`和`**`\n",
    "*相当于是列表或元组展开的意思"
   ]
  },
  {
   "cell_type": "code",
   "execution_count": 43,
   "metadata": {},
   "outputs": [
    {
     "name": "stdout",
     "output_type": "stream",
     "text": [
      "1 3 4 5 6\n",
      "a 2 3\n"
     ]
    }
   ],
   "source": [
    "tp=(1,3,4,5,6)\n",
    "ll=['a',2,3]\n",
    "print(*tp)\n",
    "print(*ll)"
   ]
  },
  {
   "cell_type": "code",
   "execution_count": 44,
   "metadata": {},
   "outputs": [
    {
     "name": "stdout",
     "output_type": "stream",
     "text": [
      "<__main__.C object at 0x7f8b8cff4cf8> <__main__.A object at 0x7f8b8cff4e80>\n"
     ]
    }
   ],
   "source": [
    "class C:\n",
    "    attr1='I am a C class'\n",
    "class A:\n",
    "    attr1='I am a A class'\n",
    "c=C()\n",
    "a=A()\n",
    "ll=[c,a]\n",
    "print(*ll)#可以将容器中的每个元素都抖出来"
   ]
  },
  {
   "cell_type": "code",
   "execution_count": null,
   "metadata": {
    "collapsed": true
   },
   "outputs": [],
   "source": [
    "a1,a2=[1,2],[3,4]#同时给多个赋值，其实，逗号，可以看成是元组的标志\n",
    "print (a1,a2)"
   ]
  },
  {
   "cell_type": "markdown",
   "metadata": {},
   "source": [
    "# 强大的[]\n",
    "[]里面支持iterable，可将iterable变成列表形式"
   ]
  },
  {
   "cell_type": "code",
   "execution_count": null,
   "metadata": {
    "collapsed": true
   },
   "outputs": [],
   "source": [
    "a=[[1,2],[3,4]]\n",
    "a[0,1]"
   ]
  },
  {
   "cell_type": "markdown",
   "metadata": {},
   "source": [
    "# 强大的迭代器iterable\n",
    "很多函数接受的参数都是迭代器类型，×/都支持迭代器操作，因此使用起来很是灵活"
   ]
  },
  {
   "cell_type": "code",
   "execution_count": null,
   "metadata": {
    "collapsed": true
   },
   "outputs": [],
   "source": [
    "a=[1,2,3,4,5,6]\n",
    "sum(x for x in a if x%2)#等价于下列表达式\n",
    "sum(filter(lambda x:x%2,a))"
   ]
  },
  {
   "cell_type": "markdown",
   "metadata": {},
   "source": [
    "# zip\n",
    "zip(seq1,seq2)<br>\n",
    "用两个序列合成，返回一个元祖序列[(),(),()...]每一个元组中的第一、二个元素对应两个序列中第i个值\n",
    ">注意：如果是返回元组类型，如果需要对每个元素进行分别接受，在等号左侧就应该有x，y，...多个元素对应tuple中的相应位置的元素，否则默认返回整个tuple"
   ]
  },
  {
   "cell_type": "code",
   "execution_count": null,
   "metadata": {
    "collapsed": true
   },
   "outputs": [],
   "source": [
    "a=[1,2,3,4]\n",
    "b=['a','b','c','d']\n",
    "list(zip(a,b))\n"
   ]
  },
  {
   "cell_type": "code",
   "execution_count": null,
   "metadata": {
    "collapsed": true
   },
   "outputs": [],
   "source": [
    "list(ab)"
   ]
  },
  {
   "cell_type": "markdown",
   "metadata": {},
   "source": [
    "# 强大的for循环\n",
    "python的for循环比c++更加强大和智能\n",
    "**迭代的思想要贯彻始终**\n",
    "```\n",
    "for iterating_var in *iterables:\n",
    "    statements\n",
    "```\n",
    "iterables是一个可迭代的容器，只要它可以迭代，它可以是列表，元祖，甚至函数"
   ]
  },
  {
   "cell_type": "code",
   "execution_count": null,
   "metadata": {
    "collapsed": true
   },
   "outputs": [],
   "source": [
    "favourite='FIshC'\n",
    "for i in favourite:\n",
    "    print (i,end='')"
   ]
  },
  {
   "cell_type": "markdown",
   "metadata": {},
   "source": [
    "## for循环用于列表的解析`[ for in ]`\n",
    "列表解析提供一种优雅的生成列表的方法，可读性高，而且性能还能快很多<br/>\n",
    "f(x) for x in iterable if x...条件<br/>\n",
    "需要注意的是x作为形参，iterable作为迭代器实参<br/>\n",
    ">f(x)是x的函数或表达式\n",
    "注意iterable只要是可迭代的序列就可以，不论他是列表抑或其他类型的数据\n",
    "相当于\n",
    "\n",
    "`for x in iterable:\n",
    "    blabla...\n",
    "    return f(x)`\n",
    "执行完循环，把f(x)放到[]中，也可以使用这种方式重复创建元素放入list中[1 for i in range(10)],相当于创建了10个1的list<br>"
   ]
  },
  {
   "cell_type": "code",
   "execution_count": 2,
   "metadata": {},
   "outputs": [
    {
     "data": {
      "text/plain": [
       "[4, 16, 36, 64]"
      ]
     },
     "execution_count": 2,
     "metadata": {},
     "output_type": "execute_result"
    }
   ],
   "source": [
    "one=range(1,9)\n",
    "[x for x in one if x%2==0]\n",
    "[x**2 for x in one if x%2==0]#根据规则生成了一个列表,"
   ]
  },
  {
   "cell_type": "code",
   "execution_count": 2,
   "metadata": {},
   "outputs": [
    {
     "name": "stdout",
     "output_type": "stream",
     "text": [
      "True\n"
     ]
    }
   ],
   "source": [
    "a=[0,1,2,3,4,5]\n",
    "print (a[:]!=0)"
   ]
  },
  {
   "cell_type": "markdown",
   "metadata": {},
   "source": [
    "* x：我们从列表中取得的结果,也可以为x的表达式或者函数func（x）\n",
    "* for x in one :x的来源--one列表\n",
    "* if x%2==0:x成立的条件，如果不能成立就不能放在返回的列表中了"
   ]
  },
  {
   "cell_type": "code",
   "execution_count": null,
   "metadata": {
    "collapsed": true
   },
   "outputs": [],
   "source": [
    "def func(var_x):\n",
    "    return (var_x**2)\n",
    "one=range(1,9)\n",
    "[func(x) for x in one if x%2==0]"
   ]
  },
  {
   "cell_type": "markdown",
   "metadata": {},
   "source": [
    "利用列表解析快速获得文本中所有单词的第一个字符"
   ]
  },
  {
   "cell_type": "code",
   "execution_count": null,
   "metadata": {
    "collapsed": true
   },
   "outputs": [],
   "source": [
    "text='My house is full of flowers'\n",
    "first_charts=[]\n",
    "for word in text.split():\n",
    "    first_charts.append(word[0])\n",
    "print (first_charts)\n",
    "[word[0] for word in text.split()]#两者输出都是一致的，但是利用列表解析能够大大增强代码的可读性\n"
   ]
  },
  {
   "cell_type": "markdown",
   "metadata": {},
   "source": [
    "# ` _`,`__`和`__xx__`区别"
   ]
  },
  {
   "cell_type": "markdown",
   "metadata": {},
   "source": [
    "## _ 单下划线\n",
    "单下划线类似c++中的私有方法，可以在类的**方法或属性**前面添加一个\"`_`\",表示该方法或蜀兴不应该去调用，他并不属于API"
   ]
  },
  {
   "cell_type": "code",
   "execution_count": 7,
   "metadata": {},
   "outputs": [],
   "source": [
    "class B():\n",
    "    def __init__(self,para):\n",
    "        print('I am B',para)\n",
    "        \n",
    "class A():\n",
    "    def __init__(self,para):\n",
    "        self.a=para\n",
    "\n",
    "    def _getValue(self):\n",
    "        return self._var1\n",
    "a=A(1)\n",
    "        "
   ]
  },
  {
   "cell_type": "markdown",
   "metadata": {},
   "source": [
    "# 返回函数的指针\n",
    "fun() 执行这个函数\n",
    "fun 函数的指针"
   ]
  },
  {
   "cell_type": "code",
   "execution_count": null,
   "metadata": {
    "collapsed": true
   },
   "outputs": [],
   "source": [
    "def fun1():\n",
    "    print (fun1)\n",
    "def fun2():\n",
    "    return fun1\n",
    "x=fun2()#\n",
    "print (fun1)#单纯的返回函数名是返回的函数指针，加括号是执行这个函数\n",
    "x()\n"
   ]
  },
  {
   "cell_type": "markdown",
   "metadata": {},
   "source": [
    "# python 作用域\n",
    "> * python能够改变作用域的代码段是def、class、lamda\n",
    "* if/elif/else、try/except/finally、for/while并不能设计变量作用域的改变，也就是说他们的代码快中的变量，在外部也是可以访问的\n",
    "* 变量搜索的路径是：本地变量->全局变量\n"
   ]
  },
  {
   "cell_type": "code",
   "execution_count": null,
   "metadata": {
    "collapsed": true
   },
   "outputs": [],
   "source": [
    "变量"
   ]
  },
  {
   "cell_type": "markdown",
   "metadata": {},
   "source": [
    "# global关键字\n"
   ]
  },
  {
   "cell_type": "code",
   "execution_count": null,
   "metadata": {
    "collapsed": true,
    "scrolled": true
   },
   "outputs": [],
   "source": [
    "count=5#全局变量\n",
    "def Myfun():\n",
    "    count=10\n",
    "    print (count)\n",
    "print (count)#局部变量不能更改全局变量\n",
    "Myfun()"
   ]
  },
  {
   "cell_type": "markdown",
   "metadata": {},
   "source": [
    "如果想在函数中使用全局变量，则可以使用global关键字"
   ]
  },
  {
   "cell_type": "code",
   "execution_count": null,
   "metadata": {
    "collapsed": true
   },
   "outputs": [],
   "source": [
    "def Myfun2():\n",
    "    global count#此处声明的是全局变量\n",
    "    count=5\n",
    "    print (count)\n",
    "print (count)"
   ]
  },
  {
   "cell_type": "markdown",
   "metadata": {},
   "source": [
    "# 闭包\n",
    "如果在一个内部函数中，定义了另外一个函数，形成了函数嵌套\n",
    "如果对内部嵌套的函数对外部函数的变量进行引用，就形成了闭包\n",
    ">需要用一个函数创建另一个函数，每次调用外层函数，内部的函数都会被重新绑定，再次向内部函数传入值就能调用内部函数"
   ]
  },
  {
   "cell_type": "code",
   "execution_count": null,
   "metadata": {
    "collapsed": true
   },
   "outputs": [],
   "source": [
    "def funX(x):#在内部函数中，外部作用域中，引用的变量达到这亮点需求之后\n",
    "    def funY(y):\n",
    "        return x*y\n",
    "    return funY\n",
    "x=funX(8)\n",
    "x(2)\n",
    "funX(2)(8)#两种形式都可以使用\n",
    "\n",
    "def Fun1():\n",
    "    x=[5]\n",
    "    def Fun2():\n",
    "        x[0]*=x[0]\n",
    "        return x[0]\n",
    "    return Fun2()\n",
    "\n",
    "a=Fun1()\n",
    "a"
   ]
  },
  {
   "cell_type": "markdown",
   "metadata": {},
   "source": [
    "# 绑定\n",
    "在python教程中，经常能看见绑定这个词语，绑定是指制定了一个实例化对象，就形成了绑定。"
   ]
  },
  {
   "cell_type": "code",
   "execution_count": null,
   "metadata": {
    "collapsed": true
   },
   "outputs": [],
   "source": []
  },
  {
   "cell_type": "markdown",
   "metadata": {},
   "source": [
    "# 类的实例和对象\n",
    "在定义的时候如果不加括号，定义的是类的实例，如果加了括号，相当于声明的是类的对象\n",
    "> 类的实例=类的对象"
   ]
  },
  {
   "cell_type": "code",
   "execution_count": null,
   "metadata": {
    "collapsed": true
   },
   "outputs": [],
   "source": [
    "class Fruit:\n",
    "    def prt ():\n",
    "        print ('hello world!')\n",
    "a=Fruit#在定义的时候如果不加括号，相当于定义的是类\n",
    "print (a)\n",
    "a.prt()"
   ]
  },
  {
   "cell_type": "code",
   "execution_count": null,
   "metadata": {
    "collapsed": true
   },
   "outputs": [],
   "source": [
    "b=Fruit()#如果加了括号，相当于定义的是类的对象\n",
    "print (b)"
   ]
  },
  {
   "cell_type": "markdown",
   "metadata": {},
   "source": [
    "## 一些常见的内建函数\n",
    "issubclass(class_one,class_two)  如果class_one是class_two的子类，则返回true"
   ]
  },
  {
   "cell_type": "code",
   "execution_count": null,
   "metadata": {
    "collapsed": true
   },
   "outputs": [],
   "source": [
    "class A:\n",
    "    pass\n",
    "class B(A):\n",
    "    pass\n",
    "print (issubclass(A,B))\n",
    "print (issubclass(B,A))#"
   ]
  },
  {
   "cell_type": "markdown",
   "metadata": {},
   "source": [
    "isinstance(object,classinfo) 检查object是否为classinfo的实例对象，如果第一个传入的不是object对象类型，则永远返回false"
   ]
  },
  {
   "cell_type": "code",
   "execution_count": null,
   "metadata": {
    "collapsed": true
   },
   "outputs": [],
   "source": [
    "b1=B()\n",
    "a1=A()\n",
    "print(isinstance(b1,B))\n",
    "print (isinstance(a1,B))"
   ]
  },
  {
   "cell_type": "markdown",
   "metadata": {},
   "source": [
    "## SELF\n",
    "对象元素和方法中都会有self这个关键字，相当于c++的this指针，类相当于是图纸，只有类的对象才是能住的房子，self相当于每个房子的门牌号,定义了self需要对象才能调用\n",
    "> * self需要人为声明一下它的形参，但是在调用时会自动传入\n",
    "* self总是指向传入的**类的实例(对象)**\n",
    "* 使用self必须定义的是类的对象，如果只是单纯的定义了类，则无法使用带有self的方法"
   ]
  },
  {
   "cell_type": "code",
   "execution_count": 1,
   "metadata": {},
   "outputs": [
    {
     "name": "stdout",
     "output_type": "stream",
     "text": [
      "<__main__.Test object at 0x7f8b94202160>\n",
      "<__main__.Test object at 0x7f8b94202160>\n"
     ]
    }
   ],
   "source": [
    "class Test:\n",
    "    def prt(self):\n",
    "        print (self)\n",
    "c=Test()\n",
    "print (c)\n",
    "c.prt()#可以看到，self指向的是一个类的对象位置，多次运行可以看到这个地址是会发生改变的"
   ]
  },
  {
   "cell_type": "code",
   "execution_count": null,
   "metadata": {
    "collapsed": true
   },
   "outputs": [],
   "source": [
    "b=Test\n",
    "b.prt()#可以看到程序报错，下面提示缺少参数self"
   ]
  },
  {
   "cell_type": "markdown",
   "metadata": {},
   "source": [
    "> attention!:  ()相当于是call调用，生成了一个对象实例，如果将上面的改成b().prt()同样可以输出 "
   ]
  },
  {
   "cell_type": "markdown",
   "metadata": {},
   "source": [
    "再举一个例子来说明这个问题"
   ]
  },
  {
   "cell_type": "code",
   "execution_count": null,
   "metadata": {
    "collapsed": true
   },
   "outputs": [],
   "source": [
    "class test():\n",
    "    def fun1():\n",
    "        print ('fun1')\n",
    "    def fun2():\n",
    "        print ('fun2')\n",
    "a=test()\n",
    "test.fun2()#这样是可以运行的，"
   ]
  },
  {
   "cell_type": "code",
   "execution_count": 6,
   "metadata": {},
   "outputs": [
    {
     "name": "stdout",
     "output_type": "stream",
     "text": [
      "fun1\n",
      "fun2\n"
     ]
    },
    {
     "ename": "TypeError",
     "evalue": "fun2() missing 1 required positional argument: 'self'",
     "output_type": "error",
     "traceback": [
      "\u001b[0;31m---------------------------------------------------------------------------\u001b[0m",
      "\u001b[0;31mTypeError\u001b[0m                                 Traceback (most recent call last)",
      "\u001b[0;32m<ipython-input-6-cfbb8a5d6f90>\u001b[0m in \u001b[0;36m<module>\u001b[0;34m()\u001b[0m\n\u001b[1;32m      7\u001b[0m \u001b[0ma\u001b[0m\u001b[0;34m.\u001b[0m\u001b[0mfun1\u001b[0m\u001b[0;34m(\u001b[0m\u001b[0;34m)\u001b[0m\u001b[0;34m\u001b[0m\u001b[0m\n\u001b[1;32m      8\u001b[0m \u001b[0ma\u001b[0m\u001b[0;34m.\u001b[0m\u001b[0mfun2\u001b[0m\u001b[0;34m(\u001b[0m\u001b[0;34m)\u001b[0m\u001b[0;34m\u001b[0m\u001b[0m\n\u001b[0;32m----> 9\u001b[0;31m \u001b[0mtest\u001b[0m\u001b[0;34m.\u001b[0m\u001b[0mfun2\u001b[0m\u001b[0;34m(\u001b[0m\u001b[0;34m)\u001b[0m\u001b[0;31m#不加括号是不能运行的，提示缺少传入的参数self\u001b[0m\u001b[0;34m\u001b[0m\u001b[0m\n\u001b[0m",
      "\u001b[0;31mTypeError\u001b[0m: fun2() missing 1 required positional argument: 'self'"
     ]
    }
   ],
   "source": [
    "class test():\n",
    "    def fun1(self):\n",
    "        print ('fun1')\n",
    "    def fun2(self):\n",
    "        print ('fun2')\n",
    "a=test()\n",
    "a.fun1()\n",
    "a.fun2()\n",
    "test.fun2()#test不加括号是不能运行的，提示缺少传入的参数self"
   ]
  },
  {
   "cell_type": "code",
   "execution_count": 7,
   "metadata": {},
   "outputs": [
    {
     "ename": "TypeError",
     "evalue": "fun1() takes 0 positional arguments but 1 was given",
     "output_type": "error",
     "traceback": [
      "\u001b[0;31m---------------------------------------------------------------------------\u001b[0m",
      "\u001b[0;31mTypeError\u001b[0m                                 Traceback (most recent call last)",
      "\u001b[0;32m<ipython-input-7-f5f64dfe6788>\u001b[0m in \u001b[0;36m<module>\u001b[0;34m()\u001b[0m\n\u001b[1;32m      4\u001b[0m     \u001b[0;32mdef\u001b[0m \u001b[0mfun2\u001b[0m\u001b[0;34m(\u001b[0m\u001b[0;34m)\u001b[0m\u001b[0;34m:\u001b[0m\u001b[0;34m\u001b[0m\u001b[0m\n\u001b[1;32m      5\u001b[0m         \u001b[0mprint\u001b[0m \u001b[0;34m(\u001b[0m\u001b[0;34m'fun2'\u001b[0m\u001b[0;34m)\u001b[0m\u001b[0;34m\u001b[0m\u001b[0m\n\u001b[0;32m----> 6\u001b[0;31m \u001b[0mtest\u001b[0m\u001b[0;34m(\u001b[0m\u001b[0;34m)\u001b[0m\u001b[0;34m.\u001b[0m\u001b[0mfun1\u001b[0m\u001b[0;34m(\u001b[0m\u001b[0;34m)\u001b[0m\u001b[0;31m#加括号反而是用不了，因为此处定义的两个都是静态方法，test()相当于传入了参数self，这样会看到下面的报错，提示多传入了一个参数\u001b[0m\u001b[0;34m\u001b[0m\u001b[0m\n\u001b[0m",
      "\u001b[0;31mTypeError\u001b[0m: fun1() takes 0 positional arguments but 1 was given"
     ]
    }
   ],
   "source": [
    "class test():\n",
    "    def fun1():\n",
    "        print ('fun1')\n",
    "    def fun2():\n",
    "        print ('fun2')\n",
    "test().fun1()#加括号反而是用不了，因为此处定义的两个都是静态方法，test()相当于传入了参数self，这样会看到下面的报错，提示多传入了一个参数"
   ]
  },
  {
   "cell_type": "code",
   "execution_count": null,
   "metadata": {
    "collapsed": true
   },
   "outputs": [],
   "source": [
    "class test():\n",
    "    def fun1(self):\n",
    "        print ('fun1')\n",
    "    def fun2(self):\n",
    "        test.fun1(self)\n",
    "        print ('fun2')\n",
    "a=test()\n",
    "a.fun2()"
   ]
  },
  {
   "cell_type": "code",
   "execution_count": null,
   "metadata": {
    "collapsed": true
   },
   "outputs": [],
   "source": [
    "class Ball:\n",
    "    def setName(self,name):\n",
    "        self.name=name\n",
    "    def kick(self):\n",
    "        print ('我叫%s'%self.name) \n",
    "a=Ball()\n",
    "a.setName('Ball A')#self自动传入值\n",
    "b=Ball()\n",
    "b.setName('Ball B')\n",
    "b.kick()"
   ]
  },
  {
   "cell_type": "markdown",
   "metadata": {},
   "source": [
    ">在继承时，传入的是那个实例，slef就是哪个实例，而不是根据定义的时候self所属哪个类"
   ]
  },
  {
   "cell_type": "code",
   "execution_count": null,
   "metadata": {
    "collapsed": true
   },
   "outputs": [],
   "source": [
    "class Parent:\n",
    "    def pprt(self):\n",
    "        print (self)\n",
    "class Child(Parent):\n",
    "    def cprt(self):\n",
    "        print (self)\n",
    "c=Child()\n",
    "c.cprt()\n",
    "c.pprt()#可以看到，当调用父类的函数时，print的腾哦你同样是自己c的对象地址\n",
    "p=Parent()\n",
    "p.pprt()"
   ]
  },
  {
   "cell_type": "markdown",
   "metadata": {},
   "source": [
    "### 类的self属性\n",
    "举个栗子,car 是一个类,car的公共属性可以是车轮数量,排量..每一辆车都能去使用这些属性.如果具体到每一辆私家车(对象),还可以有更其独有的属性,例如涡轮增压,bose音响,pdk双离合变速.用类声明一个对象的时候,我们需要把一些具体参数属性绑定在新的对象,这就要用self进行绑定,绑定的参数是给对象的,不会影响类的属性\n",
    ">注意:函数如果进行绑定self属性需要def fun(self),在参数中声明self形参<br/>\n",
    "声明对象之后,类的公共属性相当于绑定给对象了\n"
   ]
  },
  {
   "cell_type": "code",
   "execution_count": 16,
   "metadata": {},
   "outputs": [
    {
     "ename": "TypeError",
     "evalue": "load() takes 0 positional arguments but 1 was given",
     "output_type": "error",
     "traceback": [
      "\u001b[0;31m---------------------------------------------------------------------------\u001b[0m",
      "\u001b[0;31mTypeError\u001b[0m                                 Traceback (most recent call last)",
      "\u001b[0;32m<ipython-input-16-ddd1b7af047e>\u001b[0m in \u001b[0;36m<module>\u001b[0;34m()\u001b[0m\n\u001b[1;32m     13\u001b[0m \u001b[0mlamborghini\u001b[0m\u001b[0;34m=\u001b[0m\u001b[0mCar\u001b[0m\u001b[0;34m(\u001b[0m\u001b[0;34m)\u001b[0m\u001b[0;34m\u001b[0m\u001b[0m\n\u001b[1;32m     14\u001b[0m \u001b[0mlamborghini\u001b[0m\u001b[0;34m.\u001b[0m\u001b[0maccelerate\u001b[0m\u001b[0;34m(\u001b[0m\u001b[0;34m)\u001b[0m\u001b[0;34m\u001b[0m\u001b[0m\n\u001b[0;32m---> 15\u001b[0;31m \u001b[0mlamborghini\u001b[0m\u001b[0;34m.\u001b[0m\u001b[0mload\u001b[0m\u001b[0;34m(\u001b[0m\u001b[0;34m)\u001b[0m\u001b[0;34m\u001b[0m\u001b[0m\n\u001b[0m",
      "\u001b[0;31mTypeError\u001b[0m: load() takes 0 positional arguments but 1 was given"
     ]
    }
   ],
   "source": [
    "class Car():\n",
    "    wheel=4\n",
    "    capacity=20000\n",
    "    seat=7\n",
    "    acceleration=4.5\n",
    "    def accelerate(self):#如果没有加self进行绑定,函数无法输出Car的属性\n",
    "        return self.acceleration\n",
    "    def __init__(self):\n",
    "        self.sound='Bose'\n",
    "    def load():\n",
    "        return capacity#要想使用之前的属性，必须给当前方法传入self参数\n",
    "        \n",
    "lamborghini=Car()\n",
    "lamborghini.accelerate()\n",
    "lamborghini.load()"
   ]
  },
  {
   "cell_type": "code",
   "execution_count": 9,
   "metadata": {},
   "outputs": [
    {
     "name": "stdout",
     "output_type": "stream",
     "text": [
      "3\n"
     ]
    }
   ],
   "source": [
    "lamborghini.wheel=3\n",
    "print(lamborghini.wheel)#可以更改自己的属性,不会对类的公用属性造成影响"
   ]
  },
  {
   "cell_type": "code",
   "execution_count": 8,
   "metadata": {},
   "outputs": [
    {
     "data": {
      "text/plain": [
       "4"
      ]
     },
     "execution_count": 8,
     "metadata": {},
     "output_type": "execute_result"
    }
   ],
   "source": [
    "Car.wheel"
   ]
  },
  {
   "cell_type": "code",
   "execution_count": 11,
   "metadata": {},
   "outputs": [
    {
     "ename": "AttributeError",
     "evalue": "type object 'Car' has no attribute 'sound'",
     "output_type": "error",
     "traceback": [
      "\u001b[0;31m---------------------------------------------------------------------------\u001b[0m",
      "\u001b[0;31mAttributeError\u001b[0m                            Traceback (most recent call last)",
      "\u001b[0;32m<ipython-input-11-84ca45487885>\u001b[0m in \u001b[0;36m<module>\u001b[0;34m()\u001b[0m\n\u001b[0;32m----> 1\u001b[0;31m \u001b[0mCar\u001b[0m\u001b[0;34m.\u001b[0m\u001b[0msound\u001b[0m\u001b[0;34m\u001b[0m\u001b[0m\n\u001b[0m",
      "\u001b[0;31mAttributeError\u001b[0m: type object 'Car' has no attribute 'sound'"
     ]
    }
   ],
   "source": [
    "Car.sound#这个是对象self绑定属性,不属于类公用的"
   ]
  },
  {
   "cell_type": "markdown",
   "metadata": {},
   "source": [
    "## 类的继承与父类方法的重写"
   ]
  },
  {
   "cell_type": "markdown",
   "metadata": {},
   "source": [
    "子类重写父类的方法后，调用子类对象的该方法会自动使用子类的方法，如果子类不重写该方法，将自动调用父类的方法"
   ]
  },
  {
   "cell_type": "code",
   "execution_count": null,
   "metadata": {
    "collapsed": true
   },
   "outputs": [],
   "source": [
    "class Bird:\n",
    "    def __init__(self):\n",
    "        self.hungry=True\n",
    "    def eat(self):\n",
    "        if self.hungry:\n",
    "            print('Aaaaah')\n",
    "            self.hungry=False\n",
    "        else:\n",
    "            print ('No,thanks')\n",
    "class SongBird(Bird):\n",
    "    def __init__(self):\n",
    "        super(SongBird,self).__init__()\n",
    "        self.sound='Squawk'\n",
    "    def sing(self):\n",
    "        print (self.sound)\n",
    "    def eat(self):\n",
    "        if self.hungry:\n",
    "            print('Yummy')\n",
    "            self.hungry=False\n",
    "        else:\n",
    "            print ('No,thanks')\n",
    "sb=SongBird()\n",
    "sb.sing()\n",
    "sb.eat()#子类重写父类存在的eat方法后，调用子类对象会自动使用子类自己的方法\n",
    "sb.hungry"
   ]
  },
  {
   "cell_type": "code",
   "execution_count": null,
   "metadata": {
    "collapsed": true
   },
   "outputs": [],
   "source": [
    "sq=Bird()\n",
    "sq.eat()"
   ]
  },
  {
   "cell_type": "markdown",
   "metadata": {},
   "source": [
    "## `super()`函数\n",
    "在这里详细介绍一下`super()`函数，这是一个用于调用父类(超类)的一个方法。super是用来解决多重继承问题的，直接用类名调用父类方法在使用单继承的时候没问题，但是如果使用多继承，会涉及到查找顺序、重复调用等种种问题。\n"
   ]
  },
  {
   "cell_type": "markdown",
   "metadata": {},
   "source": [
    "# 魔法方法\n",
    "如果你的对象实现了这些方法的某一个"
   ]
  },
  {
   "cell_type": "markdown",
   "metadata": {},
   "source": [
    "## `__init__(self)：`         \n",
    "类似构造函数，注意使用self进行绑定，`__init__()`\n",
    "在对类进行实例化的时候，会调用`__init__`方法，但不是第一个调用的，其实，第一个调用的魔法方法是__new__(cls[,...])"
   ]
  },
  {
   "cell_type": "code",
   "execution_count": 3,
   "metadata": {},
   "outputs": [
    {
     "name": "stdout",
     "output_type": "stream",
     "text": [
      "我是__init__方法\n"
     ]
    },
    {
     "data": {
      "text/plain": [
       "'I LOVE CHINA'"
      ]
     },
     "execution_count": 3,
     "metadata": {},
     "output_type": "execute_result"
    }
   ],
   "source": [
    "class Rectangle:\n",
    "    def __init__(self,x,y):\n",
    "        self.x=x\n",
    "        self.y=y\n",
    "        print (\"我是__init__方法\")\n",
    "    def getPeri(self):\n",
    "        return (self.x+self.y)*2\n",
    "    def getArea(self):\n",
    "        return self.x*self.y\n",
    "class CapStr(str):\n",
    "    def __new__(cls,string):\n",
    "        string =string.upper()\n",
    "        return str.__new__(cls,string)\n",
    "a=Rectangle(1,2)\n",
    "a=CapStr(\"I love china\")\n",
    "a"
   ]
  },
  {
   "cell_type": "code",
   "execution_count": null,
   "metadata": {
    "collapsed": true
   },
   "outputs": [],
   "source": [
    "class Fun():\n",
    "    def __init__(self,name='Dog'):#name=‘  ’默认参数\n",
    "        self.name=name\n",
    "    def kick(self):\n",
    "        print ('My name is %s'%self.name)\n",
    "a=Fun('Koala')\n",
    "a.kick()\n",
    "b=Fun()#如果进行构造函数初始化，就默认使用构造的函数\n",
    "b.kick()"
   ]
  },
  {
   "cell_type": "code",
   "execution_count": null,
   "metadata": {
    "collapsed": true
   },
   "outputs": [],
   "source": [
    "b.kick#不加括号返回的是kick函数的地址"
   ]
  },
  {
   "cell_type": "markdown",
   "metadata": {},
   "source": [
    "## `__getitem__()`\n",
    "凡是在类中定义了这个__getitem__方法，那么他的实例对象p，可以向这样p[key]取值，当实例对象在p[key]运算时，会调用类中的方法__getitem__()\n",
    "<br/>\n",
    "**想使用索引进行访问元素时，就要在类中定义这个方法__getitem__(self,key)**"
   ]
  },
  {
   "cell_type": "code",
   "execution_count": null,
   "metadata": {
    "collapsed": true
   },
   "outputs": [],
   "source": [
    "class DataBase:\n",
    "    def __init__(self,ID,address):\n",
    "        self.ID=ID\n",
    "        self.address=address\n",
    "        self.address={self.ID:1,self.address:\"192.168.1.1\"}\n",
    "    def __getitem__(self,key):\n",
    "        return key\n",
    "database=DataBase(1,'192.168.1.0')\n",
    "print (database[0])\n"
   ]
  },
  {
   "cell_type": "markdown",
   "metadata": {},
   "source": [
    "## `__name__()`\n",
    "if __name__=='__main__'\n"
   ]
  },
  {
   "cell_type": "code",
   "execution_count": 3,
   "metadata": {},
   "outputs": [
    {
     "name": "stdout",
     "output_type": "stream",
     "text": [
      "aaaaa\n"
     ]
    }
   ],
   "source": [
    "\n",
    "def fun1():\n",
    "    print ('aaaaa')\n",
    "if __name__=='__main__':\n",
    "    fun1()"
   ]
  },
  {
   "cell_type": "markdown",
   "metadata": {},
   "source": [
    "## `__call__()` 类的调用()\n",
    "在python中，函数其实是一个对象：\n",
    "所有的函数都是可调用的对象，一个类实例也可以变成一个可调用的对象，只需要一个特殊的方法`__call__()`"
   ]
  },
  {
   "cell_type": "code",
   "execution_count": 3,
   "metadata": {},
   "outputs": [
    {
     "name": "stdout",
     "output_type": "stream",
     "text": [
      "My name is Bob..\n",
      "My friend Time is male..\n"
     ]
    }
   ],
   "source": [
    "class Person(object):\n",
    "    def __init__(self, name, gender):\n",
    "        self.name = name\n",
    "        self.gender = gender\n",
    "    def __call__(self, friend):\n",
    "        print ('My name is %s..'%self.name)\n",
    "        print ('My friend %s is %s..'%(friend, self.gender))\n",
    "p=Person('Bob','male')\n",
    "p('Time')#但看p('Time')无法确定p是一个函数还是类实例，在Python中，函数也是对象，对象和函数的区别并不显著"
   ]
  },
  {
   "cell_type": "markdown",
   "metadata": {},
   "source": [
    "## `__iter__`迭代器\n",
    "一种特殊的魔法方法，类型可以进行迭代，其实就是这个特殊的魔法方法`__iter__`起到的作用<br/>\n",
    "`__iter__（）`方法会返回一个迭代器iterator,所谓的迭代器就是具有next方法的对象"
   ]
  },
  {
   "cell_type": "code",
   "execution_count": null,
   "metadata": {},
   "outputs": [],
   "source": [
    "class TestIterator:\n",
    "    value=0\n",
    "    def next(self):\n",
    "        self.value+=1\n",
    "        if self.value>10:\n",
    "            raise StopItetation\n",
    "        return self.value\n",
    "    def __iter__(self):\n",
    "        return self\n",
    "ti=TestIterator()\n",
    "for i in ti:\n",
    "    print (i)"
   ]
  },
  {
   "cell_type": "markdown",
   "metadata": {},
   "source": [
    "# 公有和私有\n",
    "对象无法直接进行访问，需要调用其他的方法进行操作，定义私有化只需要在其名字前面加上双__"
   ]
  },
  {
   "cell_type": "code",
   "execution_count": 18,
   "metadata": {},
   "outputs": [
    {
     "data": {
      "text/plain": [
       "'WDD'"
      ]
     },
     "execution_count": 18,
     "metadata": {},
     "output_type": "execute_result"
    }
   ],
   "source": [
    "class Person:\n",
    "    __name='WDD'#私有属性\n",
    "    def get_name(self):\n",
    "        return self.__name\n",
    "p=Person()\n",
    "p.get_name()\n"
   ]
  },
  {
   "cell_type": "code",
   "execution_count": 20,
   "metadata": {},
   "outputs": [
    {
     "name": "stdout",
     "output_type": "stream",
     "text": [
      "the secret message is:\n",
      "Bet you cannot see me\n"
     ]
    }
   ],
   "source": [
    "class Secretive:\n",
    "    def __inaccess(self):#私有方法\n",
    "        print ('Bet you cannot see me')\n",
    "    def accessible(self):\n",
    "        print (\"the secret message is:\")\n",
    "        self.__inaccess()\n",
    "s=Secretive()\n",
    "s.accessible()"
   ]
  },
  {
   "cell_type": "markdown",
   "metadata": {},
   "source": [
    "# 参数收集\n"
   ]
  },
  {
   "cell_type": "code",
   "execution_count": null,
   "metadata": {
    "collapsed": true
   },
   "outputs": [],
   "source": [
    "def print_params_4(x,y,z,*pospar,**keypar):\n",
    "    print (x,y,z)\n",
    "    print (pospar)\n",
    "    print (keypar)\n",
    "print_params_4(1,2,3,4,5,6,6,foo=1,bar=2)\n"
   ]
  },
  {
   "cell_type": "code",
   "execution_count": null,
   "metadata": {
    "collapsed": true
   },
   "outputs": [],
   "source": [
    "def store(data,*full_names):\n",
    "    for full_name in full_names:\n",
    "        names=full_name.split()\n",
    "        if  len(names)==2:names.insert(1,'')\n",
    "            labels=('first','middle','last')\n",
    "            for label,name in zip(labels,names):\n",
    "                people=lookup(data,label,name)\n",
    "                if people:\n",
    "                    people.append(full_name)\n",
    "                else:\n",
    "                    data[label][name]=full_name"
   ]
  },
  {
   "cell_type": "markdown",
   "metadata": {},
   "source": [
    "# 参数收集的逆过程\n",
    "也可以使用* **   进行相反的操作"
   ]
  },
  {
   "cell_type": "code",
   "execution_count": null,
   "metadata": {
    "collapsed": true
   },
   "outputs": [],
   "source": [
    "def add(x,y): return x+y\n",
    "params=(1,2)\n",
    "add(*params)#将元组返回成 形参的形式"
   ]
  },
  {
   "cell_type": "code",
   "execution_count": null,
   "metadata": {
    "collapsed": true
   },
   "outputs": [],
   "source": [
    "def story(**kwds):\n",
    "    return 'once upon a time,there was a '\\\n",
    "            '%(job)s called %(name)s. '%kwds#在此处定义的\n",
    "story(job='ok',name='wdd')#实参名字要与下面的参数对应才能够正确的北市别玩\n",
    "def power(x,y,*others):\n",
    "    if others:\n",
    "        print ('Received redundant parameters:',others)\n",
    "    return pow(x,y)\n",
    "def interval(start,stop=None,step=1):\n",
    "    if stop is None:\n",
    "        start,stop=0,start\n",
    "    result=[]\n",
    "    i=start\n",
    "    while i<=stop:\n",
    "        result.append(i)\n",
    "        i+=step\n",
    "    return result\n",
    "story(job='king',name='Gumby')\n",
    "params={'job':'language','name':'Robin'}\n",
    "story(**params)#用双星表示参数的逆过程，对应参数的**kwds\n",
    "print(interval(1,13,3))\n",
    "print (interval(10))\n",
    "print (interval(1,10))"
   ]
  },
  {
   "cell_type": "markdown",
   "metadata": {},
   "source": [
    "# 对象的魔力\n",
    "多态"
   ]
  },
  {
   "cell_type": "markdown",
   "metadata": {},
   "source": [
    "# lambda表达式\n",
    "返回一个没有名字的函数**对象指针**，用完之后会自动删除函数资源\n",
    ">注意：lambda只是一个单纯的函数计算式，没有迭代功能，如果需要迭代需要结合map函数一起使用，相当于将输入的参数进行加工处理并返回值"
   ]
  },
  {
   "cell_type": "code",
   "execution_count": null,
   "metadata": {
    "collapsed": true
   },
   "outputs": [],
   "source": [
    "def ds(x):\n",
    "    return 2*x+1\n",
    "g=lambda x: 2*x+1#相当于构建了一个函数对象,返回函数的指针，x相当于是输入的参数\n",
    "print (g(5))#直接调用g（5）的输出会被下面的覆盖掉，用print可以都打印出来\n",
    "\n",
    "g=lambda x,y:x+y\n",
    "print (g(4,6))"
   ]
  },
  {
   "cell_type": "markdown",
   "metadata": {},
   "source": [
    "* 用python写一些脚本时，使用lambda就可以剩下定义函数的过程，比如说我们只是学要写一个简单的脚本，就不需要专门去定义一个函数然后写调用，使用lambda可以使代码更简洁。\n",
    "* 对于一些比较抽象泵且整个程序执行下来只需要调用一两次的函数，有时候给函数起个名字就会很头疼\n",
    "* 简化代码的可读性，一目了然"
   ]
  },
  {
   "cell_type": "markdown",
   "metadata": {},
   "source": [
    "## filter\n",
    "过滤器，filter(func,*iterable) 根据func条件从iterable中过滤出True的元素"
   ]
  },
  {
   "cell_type": "code",
   "execution_count": null,
   "metadata": {
    "collapsed": true
   },
   "outputs": [],
   "source": [
    "t=lambda x:x%2 #筛选出奇数\n",
    "a=range(1,10)\n",
    "a=filter(t,a)#返回迭代器中元素经过fun后返回值为TRUE的元素\n",
    "print(a)\n",
    "list(a)"
   ]
  },
  {
   "cell_type": "markdown",
   "metadata": {},
   "source": [
    "# map 映射\n",
    "map(func,*iterables)\n",
    "将迭代器的每一个元素当作func函数的参数进行加工,最后返回一个序列\n",
    "对应每个函数"
   ]
  },
  {
   "cell_type": "code",
   "execution_count": null,
   "metadata": {
    "collapsed": true
   },
   "outputs": [],
   "source": [
    "list(map(lambda x:x*2,range(10)))"
   ]
  },
  {
   "cell_type": "markdown",
   "metadata": {},
   "source": [
    "# 模块\n",
    "模块的后缀为.py，模块就是一个py文件\n",
    "在`import 小明`的时候，要保证当前文件与被导入的模块(小明),在同一路径下，否则需要修改python默认搜索环境变量才能导入相应的模块<br/>\n",
    "```math\n",
    "$$\\int f(x)dx$$\n",
    "```"
   ]
  },
  {
   "cell_type": "code",
   "execution_count": null,
   "metadata": {
    "collapsed": true
   },
   "outputs": [],
   "source": [
    "#a.py\n",
    "def fun1():\n",
    "    print ('hello')\n",
    "    return \n",
    "class A:\n",
    "    def fun1():\n",
    "        return\n",
    "#b.py\n",
    "import a\n",
    "a.fun1()#导入相应模块后，需要加模块前缀才能调用此模块\n",
    "#\n",
    "from a import fun1()\n",
    "fun1()#这样可以直接调用fun1()\n"
   ]
  },
  {
   "cell_type": "markdown",
   "metadata": {},
   "source": [
    "# os模块\n",
    "操作系统windows，Mac OS,Linux,UNIX不同的操作系统使用了不同的文件系统模块，python是跨平台的语言，可以在不同的操作操作系统中调用文件系统\n",
    ">注意在windows系统下的路径函数用法不太一样,可以使用mkdir(r'路径')模式进行转换，例如：mkdir(r'c:/Program')\n"
   ]
  },
  {
   "cell_type": "code",
   "execution_count": null,
   "metadata": {
    "collapsed": true
   },
   "outputs": [],
   "source": [
    "import os\n",
    "os.getcwd()#返回当前的工作路径\n",
    "os.mkdir('/home/wdd/MyPython')#创建目录，注意里面的路径要用字符串\n",
    "os.rmdir('/home/wdd/MyPython')#删除目录，注意里面得路径要用字符串\n",
    "os.remove('/home/wdd/MyPython/t.txt')#删除目录下的文件"
   ]
  },
  {
   "cell_type": "markdown",
   "metadata": {},
   "source": [
    "### split()方法\n",
    "通过制定字符串进行切片\n",
    "str.split('分隔符号')"
   ]
  },
  {
   "cell_type": "code",
   "execution_count": 17,
   "metadata": {
    "collapsed": true
   },
   "outputs": [],
   "source": [
    "import shutil\n",
    "import glob\n",
    "import scipy.ndimage\n",
    "import os\n",
    "import scipy.ndimage"
   ]
  },
  {
   "cell_type": "code",
   "execution_count": 24,
   "metadata": {},
   "outputs": [
    {
     "data": {
      "text/plain": [
       "array([[[14, 13, 12, 10,  9,  8],\n",
       "        [15, 15, 14, 13, 12, 12],\n",
       "        [17, 17, 18, 19, 20, 20],\n",
       "        [19, 20, 23, 27, 29, 31],\n",
       "        [21, 23, 28, 33, 37, 39],\n",
       "        [22, 24, 29, 36, 41, 43]],\n",
       "\n",
       "       [[15, 14, 12, 10,  9,  8],\n",
       "        [16, 16, 14, 13, 12, 11],\n",
       "        [19, 19, 19, 19, 19, 19],\n",
       "        [23, 23, 25, 26, 27, 28],\n",
       "        [26, 27, 29, 32, 35, 36],\n",
       "        [27, 29, 31, 35, 38, 39]],\n",
       "\n",
       "       [[17, 16, 13, 11,  8,  7],\n",
       "        [19, 18, 16, 13, 11, 10],\n",
       "        [25, 24, 21, 18, 16, 15],\n",
       "        [32, 31, 28, 25, 22, 21],\n",
       "        [38, 36, 34, 30, 28, 27],\n",
       "        [40, 39, 36, 33, 30, 29]],\n",
       "\n",
       "       [[19, 18, 15, 11,  8,  7],\n",
       "        [23, 21, 18, 13,  9,  8],\n",
       "        [32, 30, 24, 18, 13, 10],\n",
       "        [42, 39, 32, 24, 16, 13],\n",
       "        [51, 48, 39, 28, 20, 16],\n",
       "        [55, 51, 42, 30, 21, 17]],\n",
       "\n",
       "       [[21, 20, 16, 11,  8,  6],\n",
       "        [26, 24, 19, 13,  8,  6],\n",
       "        [38, 34, 27, 17, 10,  7],\n",
       "        [51, 47, 36, 22, 11,  7],\n",
       "        [63, 57, 43, 27, 13,  7],\n",
       "        [68, 61, 46, 28, 13,  7]],\n",
       "\n",
       "       [[22, 20, 16, 12,  8,  6],\n",
       "        [27, 25, 20, 13,  8,  6],\n",
       "        [40, 36, 28, 17,  9,  5],\n",
       "        [55, 50, 37, 22,  9,  4],\n",
       "        [68, 61, 45, 26, 10,  3],\n",
       "        [73, 66, 48, 28, 10,  3]]])"
      ]
     },
     "execution_count": 24,
     "metadata": {},
     "output_type": "execute_result"
    }
   ],
   "source": [
    "import numpy as np\n",
    "label=np.random.randint(0,100,(6,6,6))\n",
    "input=scipy.ndimage.interpolation.zoom(label,1/3)\n",
    "input=scipy.ndimage.interpolation.zoom(input,3)\n",
    "input\n"
   ]
  },
  {
   "cell_type": "code",
   "execution_count": 15,
   "metadata": {},
   "outputs": [
    {
     "name": "stdout",
     "output_type": "stream",
     "text": [
      "/home/wdd/3DSRCNN Dataset/train1/0279.bmp\n",
      "/home/wdd/3DSRCNN Dataset/train1/0109.bmp\n",
      "/home/wdd/3DSRCNN Dataset/train1/0269.bmp\n",
      "/home/wdd/3DSRCNN Dataset/train1/0175.bmp\n",
      "/home/wdd/3DSRCNN Dataset/train1/0203.bmp\n",
      "/home/wdd/3DSRCNN Dataset/train1/0274.bmp\n",
      "/home/wdd/3DSRCNN Dataset/train1/0133.bmp\n",
      "/home/wdd/3DSRCNN Dataset/train1/0385.bmp\n",
      "/home/wdd/3DSRCNN Dataset/train1/0195.bmp\n",
      "/home/wdd/3DSRCNN Dataset/train1/0243.bmp\n",
      "/home/wdd/3DSRCNN Dataset/train1/0211.bmp\n",
      "/home/wdd/3DSRCNN Dataset/train1/0072.bmp\n",
      "/home/wdd/3DSRCNN Dataset/train1/0069.bmp\n",
      "/home/wdd/3DSRCNN Dataset/train1/0135.bmp\n",
      "/home/wdd/3DSRCNN Dataset/train1/0361.bmp\n",
      "/home/wdd/3DSRCNN Dataset/train1/0143.bmp\n",
      "/home/wdd/3DSRCNN Dataset/train1/0246.bmp\n",
      "/home/wdd/3DSRCNN Dataset/train1/0031.bmp\n",
      "/home/wdd/3DSRCNN Dataset/train1/0018.bmp\n",
      "/home/wdd/3DSRCNN Dataset/train1/0230.bmp\n",
      "/home/wdd/3DSRCNN Dataset/train1/0194.bmp\n",
      "/home/wdd/3DSRCNN Dataset/train1/0281.bmp\n",
      "/home/wdd/3DSRCNN Dataset/train1/0205.bmp\n",
      "/home/wdd/3DSRCNN Dataset/train1/0121.bmp\n",
      "/home/wdd/3DSRCNN Dataset/train1/0034.bmp\n",
      "/home/wdd/3DSRCNN Dataset/train1/0091.bmp\n",
      "/home/wdd/3DSRCNN Dataset/train1/0057.bmp\n",
      "/home/wdd/3DSRCNN Dataset/train1/0160.bmp\n",
      "/home/wdd/3DSRCNN Dataset/train1/0291.bmp\n",
      "/home/wdd/3DSRCNN Dataset/train1/0056.bmp\n",
      "/home/wdd/3DSRCNN Dataset/train1/0108.bmp\n",
      "/home/wdd/3DSRCNN Dataset/train1/0362.bmp\n",
      "/home/wdd/3DSRCNN Dataset/train1/0208.bmp\n",
      "/home/wdd/3DSRCNN Dataset/train1/0282.bmp\n",
      "/home/wdd/3DSRCNN Dataset/train1/0215.bmp\n",
      "/home/wdd/3DSRCNN Dataset/train1/0391.bmp\n",
      "/home/wdd/3DSRCNN Dataset/train1/0123.bmp\n",
      "/home/wdd/3DSRCNN Dataset/train1/0145.bmp\n",
      "/home/wdd/3DSRCNN Dataset/train1/0036.bmp\n",
      "/home/wdd/3DSRCNN Dataset/train1/0367.bmp\n",
      "/home/wdd/3DSRCNN Dataset/train1/0038.bmp\n",
      "/home/wdd/3DSRCNN Dataset/train1/0182.bmp\n",
      "/home/wdd/3DSRCNN Dataset/train1/0045.bmp\n",
      "/home/wdd/3DSRCNN Dataset/train1/0080.bmp\n",
      "/home/wdd/3DSRCNN Dataset/train1/0043.bmp\n",
      "/home/wdd/3DSRCNN Dataset/train1/0022.bmp\n",
      "/home/wdd/3DSRCNN Dataset/train1/0132.bmp\n",
      "/home/wdd/3DSRCNN Dataset/train1/0193.bmp\n",
      "/home/wdd/3DSRCNN Dataset/train1/0278.bmp\n",
      "/home/wdd/3DSRCNN Dataset/train1/0178.bmp\n",
      "/home/wdd/3DSRCNN Dataset/train1/0267.bmp\n",
      "/home/wdd/3DSRCNN Dataset/train1/0017.bmp\n",
      "/home/wdd/3DSRCNN Dataset/train1/0085.bmp\n",
      "/home/wdd/3DSRCNN Dataset/train1/0159.bmp\n",
      "/home/wdd/3DSRCNN Dataset/train1/0213.bmp\n",
      "/home/wdd/3DSRCNN Dataset/train1/0260.bmp\n",
      "/home/wdd/3DSRCNN Dataset/train1/0386.bmp\n",
      "/home/wdd/3DSRCNN Dataset/train1/0120.bmp\n",
      "/home/wdd/3DSRCNN Dataset/train1/0388.bmp\n",
      "/home/wdd/3DSRCNN Dataset/train1/0286.bmp\n",
      "/home/wdd/3DSRCNN Dataset/train1/0240.bmp\n",
      "/home/wdd/3DSRCNN Dataset/train1/0058.bmp\n",
      "/home/wdd/3DSRCNN Dataset/train1/0146.bmp\n",
      "/home/wdd/3DSRCNN Dataset/train1/0341.bmp\n",
      "/home/wdd/3DSRCNN Dataset/train1/0377.bmp\n",
      "/home/wdd/3DSRCNN Dataset/train1/0165.bmp\n",
      "/home/wdd/3DSRCNN Dataset/train1/0103.bmp\n",
      "/home/wdd/3DSRCNN Dataset/train1/0097.bmp\n",
      "/home/wdd/3DSRCNN Dataset/train1/0383.bmp\n",
      "/home/wdd/3DSRCNN Dataset/train1/0007.bmp\n",
      "/home/wdd/3DSRCNN Dataset/train1/0387.bmp\n",
      "/home/wdd/3DSRCNN Dataset/train1/0251.bmp\n",
      "/home/wdd/3DSRCNN Dataset/train1/0204.bmp\n",
      "/home/wdd/3DSRCNN Dataset/train1/0098.bmp\n",
      "/home/wdd/3DSRCNN Dataset/train1/0252.bmp\n",
      "/home/wdd/3DSRCNN Dataset/train1/0149.bmp\n",
      "/home/wdd/3DSRCNN Dataset/train1/0171.bmp\n",
      "/home/wdd/3DSRCNN Dataset/train1/0307.bmp\n",
      "/home/wdd/3DSRCNN Dataset/train1/0089.bmp\n",
      "/home/wdd/3DSRCNN Dataset/train1/0305.bmp\n",
      "/home/wdd/3DSRCNN Dataset/train1/0226.bmp\n",
      "/home/wdd/3DSRCNN Dataset/train1/0395.bmp\n",
      "/home/wdd/3DSRCNN Dataset/train1/0289.bmp\n",
      "/home/wdd/3DSRCNN Dataset/train1/0153.bmp\n",
      "/home/wdd/3DSRCNN Dataset/train1/0148.bmp\n",
      "/home/wdd/3DSRCNN Dataset/train1/0290.bmp\n",
      "/home/wdd/3DSRCNN Dataset/train1/0337.bmp\n",
      "/home/wdd/3DSRCNN Dataset/train1/0241.bmp\n",
      "/home/wdd/3DSRCNN Dataset/train1/0349.bmp\n",
      "/home/wdd/3DSRCNN Dataset/train1/0310.bmp\n",
      "/home/wdd/3DSRCNN Dataset/train1/0353.bmp\n",
      "/home/wdd/3DSRCNN Dataset/train1/0218.bmp\n",
      "/home/wdd/3DSRCNN Dataset/train1/0201.bmp\n",
      "/home/wdd/3DSRCNN Dataset/train1/0325.bmp\n",
      "/home/wdd/3DSRCNN Dataset/train1/0150.bmp\n",
      "/home/wdd/3DSRCNN Dataset/train1/0321.bmp\n",
      "/home/wdd/3DSRCNN Dataset/train1/0167.bmp\n",
      "/home/wdd/3DSRCNN Dataset/train1/0164.bmp\n",
      "/home/wdd/3DSRCNN Dataset/train1/0138.bmp\n",
      "/home/wdd/3DSRCNN Dataset/train1/0122.bmp\n",
      "/home/wdd/3DSRCNN Dataset/train1/0024.bmp\n",
      "/home/wdd/3DSRCNN Dataset/train1/0140.bmp\n",
      "/home/wdd/3DSRCNN Dataset/train1/0247.bmp\n",
      "/home/wdd/3DSRCNN Dataset/train1/0249.bmp\n",
      "/home/wdd/3DSRCNN Dataset/train1/0268.bmp\n",
      "/home/wdd/3DSRCNN Dataset/train1/0255.bmp\n",
      "/home/wdd/3DSRCNN Dataset/train1/0051.bmp\n",
      "/home/wdd/3DSRCNN Dataset/train1/0312.bmp\n",
      "/home/wdd/3DSRCNN Dataset/train1/0327.bmp\n",
      "/home/wdd/3DSRCNN Dataset/train1/0301.bmp\n",
      "/home/wdd/3DSRCNN Dataset/train1/0117.bmp\n",
      "/home/wdd/3DSRCNN Dataset/train1/0093.bmp\n",
      "/home/wdd/3DSRCNN Dataset/train1/0254.bmp\n",
      "/home/wdd/3DSRCNN Dataset/train1/0087.bmp\n",
      "/home/wdd/3DSRCNN Dataset/train1/0317.bmp\n",
      "/home/wdd/3DSRCNN Dataset/train1/0141.bmp\n",
      "/home/wdd/3DSRCNN Dataset/train1/0177.bmp\n",
      "/home/wdd/3DSRCNN Dataset/train1/0185.bmp\n",
      "/home/wdd/3DSRCNN Dataset/train1/0095.bmp\n",
      "/home/wdd/3DSRCNN Dataset/train1/0228.bmp\n",
      "/home/wdd/3DSRCNN Dataset/train1/0253.bmp\n",
      "/home/wdd/3DSRCNN Dataset/train1/0151.bmp\n",
      "/home/wdd/3DSRCNN Dataset/train1/0003.bmp\n",
      "/home/wdd/3DSRCNN Dataset/train1/0092.bmp\n",
      "/home/wdd/3DSRCNN Dataset/train1/0343.bmp\n",
      "/home/wdd/3DSRCNN Dataset/train1/0082.bmp\n",
      "/home/wdd/3DSRCNN Dataset/train1/0191.bmp\n",
      "/home/wdd/3DSRCNN Dataset/train1/0033.bmp\n",
      "/home/wdd/3DSRCNN Dataset/train1/0113.bmp\n",
      "/home/wdd/3DSRCNN Dataset/train1/0063.bmp\n",
      "/home/wdd/3DSRCNN Dataset/train1/0314.bmp\n",
      "/home/wdd/3DSRCNN Dataset/train1/0392.bmp\n",
      "/home/wdd/3DSRCNN Dataset/train1/0147.bmp\n",
      "/home/wdd/3DSRCNN Dataset/train1/0040.bmp\n",
      "/home/wdd/3DSRCNN Dataset/train1/0304.bmp\n",
      "/home/wdd/3DSRCNN Dataset/train1/0350.bmp\n",
      "/home/wdd/3DSRCNN Dataset/train1/0285.bmp\n",
      "/home/wdd/3DSRCNN Dataset/train1/0352.bmp\n",
      "/home/wdd/3DSRCNN Dataset/train1/0173.bmp\n",
      "/home/wdd/3DSRCNN Dataset/train1/0114.bmp\n",
      "/home/wdd/3DSRCNN Dataset/train1/0363.bmp\n",
      "/home/wdd/3DSRCNN Dataset/train1/0326.bmp\n",
      "/home/wdd/3DSRCNN Dataset/train1/0336.bmp\n",
      "/home/wdd/3DSRCNN Dataset/train1/0014.bmp\n",
      "/home/wdd/3DSRCNN Dataset/train1/0111.bmp\n",
      "/home/wdd/3DSRCNN Dataset/train1/0162.bmp\n",
      "/home/wdd/3DSRCNN Dataset/train1/0384.bmp\n",
      "/home/wdd/3DSRCNN Dataset/train1/0256.bmp\n",
      "/home/wdd/3DSRCNN Dataset/train1/0046.bmp\n",
      "/home/wdd/3DSRCNN Dataset/train1/0020.bmp\n",
      "/home/wdd/3DSRCNN Dataset/train1/0163.bmp\n",
      "/home/wdd/3DSRCNN Dataset/train1/0225.bmp\n",
      "/home/wdd/3DSRCNN Dataset/train1/0302.bmp\n",
      "/home/wdd/3DSRCNN Dataset/train1/0016.bmp\n",
      "/home/wdd/3DSRCNN Dataset/train1/0342.bmp\n",
      "/home/wdd/3DSRCNN Dataset/train1/0270.bmp\n",
      "/home/wdd/3DSRCNN Dataset/train1/0015.bmp\n",
      "/home/wdd/3DSRCNN Dataset/train1/0239.bmp\n",
      "/home/wdd/3DSRCNN Dataset/train1/0070.bmp\n",
      "/home/wdd/3DSRCNN Dataset/train1/0319.bmp\n",
      "/home/wdd/3DSRCNN Dataset/train1/0071.bmp\n",
      "/home/wdd/3DSRCNN Dataset/train1/0032.bmp\n",
      "/home/wdd/3DSRCNN Dataset/train1/0155.bmp\n",
      "/home/wdd/3DSRCNN Dataset/train1/0102.bmp\n",
      "/home/wdd/3DSRCNN Dataset/train1/0130.bmp\n",
      "/home/wdd/3DSRCNN Dataset/train1/0129.bmp\n",
      "/home/wdd/3DSRCNN Dataset/train1/0339.bmp\n",
      "/home/wdd/3DSRCNN Dataset/train1/0340.bmp\n",
      "/home/wdd/3DSRCNN Dataset/train1/0348.bmp\n",
      "/home/wdd/3DSRCNN Dataset/train1/0364.bmp\n",
      "/home/wdd/3DSRCNN Dataset/train1/0116.bmp\n",
      "/home/wdd/3DSRCNN Dataset/train1/0030.bmp\n",
      "/home/wdd/3DSRCNN Dataset/train1/0284.bmp\n",
      "/home/wdd/3DSRCNN Dataset/train1/0273.bmp\n",
      "/home/wdd/3DSRCNN Dataset/train1/0049.bmp\n",
      "/home/wdd/3DSRCNN Dataset/train1/0300.bmp\n",
      "/home/wdd/3DSRCNN Dataset/train1/0335.bmp\n",
      "/home/wdd/3DSRCNN Dataset/train1/0081.bmp\n",
      "/home/wdd/3DSRCNN Dataset/train1/0245.bmp\n",
      "/home/wdd/3DSRCNN Dataset/train1/0306.bmp\n",
      "/home/wdd/3DSRCNN Dataset/train1/0323.bmp\n",
      "/home/wdd/3DSRCNN Dataset/train1/0023.bmp\n",
      "/home/wdd/3DSRCNN Dataset/train1/0028.bmp\n",
      "/home/wdd/3DSRCNN Dataset/train1/0206.bmp\n",
      "/home/wdd/3DSRCNN Dataset/train1/0083.bmp\n",
      "/home/wdd/3DSRCNN Dataset/train1/0373.bmp\n",
      "/home/wdd/3DSRCNN Dataset/train1/0174.bmp\n",
      "/home/wdd/3DSRCNN Dataset/train1/0157.bmp\n",
      "/home/wdd/3DSRCNN Dataset/train1/0179.bmp\n",
      "/home/wdd/3DSRCNN Dataset/train1/0216.bmp\n",
      "/home/wdd/3DSRCNN Dataset/train1/0334.bmp\n",
      "/home/wdd/3DSRCNN Dataset/train1/0074.bmp\n",
      "/home/wdd/3DSRCNN Dataset/train1/0398.bmp\n",
      "/home/wdd/3DSRCNN Dataset/train1/0219.bmp\n",
      "/home/wdd/3DSRCNN Dataset/train1/0166.bmp\n",
      "/home/wdd/3DSRCNN Dataset/train1/0217.bmp\n",
      "/home/wdd/3DSRCNN Dataset/train1/0047.bmp\n",
      "/home/wdd/3DSRCNN Dataset/train1/0276.bmp\n",
      "/home/wdd/3DSRCNN Dataset/train1/0303.bmp\n",
      "/home/wdd/3DSRCNN Dataset/train1/0197.bmp\n",
      "/home/wdd/3DSRCNN Dataset/train1/0318.bmp\n",
      "/home/wdd/3DSRCNN Dataset/train1/0271.bmp\n",
      "/home/wdd/3DSRCNN Dataset/train1/0366.bmp\n",
      "/home/wdd/3DSRCNN Dataset/train1/0347.bmp\n",
      "/home/wdd/3DSRCNN Dataset/train1/0139.bmp\n",
      "/home/wdd/3DSRCNN Dataset/train1/0235.bmp\n",
      "/home/wdd/3DSRCNN Dataset/train1/0316.bmp\n",
      "/home/wdd/3DSRCNN Dataset/train1/0344.bmp\n",
      "/home/wdd/3DSRCNN Dataset/train1/0196.bmp\n",
      "/home/wdd/3DSRCNN Dataset/train1/0012.bmp\n",
      "/home/wdd/3DSRCNN Dataset/train1/0394.bmp\n",
      "/home/wdd/3DSRCNN Dataset/train1/0399.bmp\n",
      "/home/wdd/3DSRCNN Dataset/train1/0371.bmp\n",
      "/home/wdd/3DSRCNN Dataset/train1/0264.bmp\n",
      "/home/wdd/3DSRCNN Dataset/train1/0107.bmp\n",
      "/home/wdd/3DSRCNN Dataset/train1/0199.bmp\n",
      "/home/wdd/3DSRCNN Dataset/train1/0041.bmp\n",
      "/home/wdd/3DSRCNN Dataset/train1/0079.bmp\n",
      "/home/wdd/3DSRCNN Dataset/train1/0313.bmp\n",
      "/home/wdd/3DSRCNN Dataset/train1/0054.bmp\n",
      "/home/wdd/3DSRCNN Dataset/train1/0202.bmp\n",
      "/home/wdd/3DSRCNN Dataset/train1/0296.bmp\n",
      "/home/wdd/3DSRCNN Dataset/train1/0212.bmp\n",
      "/home/wdd/3DSRCNN Dataset/train1/0169.bmp\n",
      "/home/wdd/3DSRCNN Dataset/train1/0035.bmp\n",
      "/home/wdd/3DSRCNN Dataset/train1/0055.bmp\n",
      "/home/wdd/3DSRCNN Dataset/train1/0356.bmp\n",
      "/home/wdd/3DSRCNN Dataset/train1/0187.bmp\n",
      "/home/wdd/3DSRCNN Dataset/train1/0389.bmp\n",
      "/home/wdd/3DSRCNN Dataset/train1/0168.bmp\n",
      "/home/wdd/3DSRCNN Dataset/train1/0280.bmp\n",
      "/home/wdd/3DSRCNN Dataset/train1/0231.bmp\n",
      "/home/wdd/3DSRCNN Dataset/train1/0021.bmp\n",
      "/home/wdd/3DSRCNN Dataset/train1/0234.bmp\n",
      "/home/wdd/3DSRCNN Dataset/train1/0257.bmp\n",
      "/home/wdd/3DSRCNN Dataset/train1/0067.bmp\n",
      "/home/wdd/3DSRCNN Dataset/train1/0360.bmp\n",
      "/home/wdd/3DSRCNN Dataset/train1/0357.bmp\n",
      "/home/wdd/3DSRCNN Dataset/train1/0064.bmp\n",
      "/home/wdd/3DSRCNN Dataset/train1/0315.bmp\n",
      "/home/wdd/3DSRCNN Dataset/train1/0400.bmp\n",
      "/home/wdd/3DSRCNN Dataset/train1/0188.bmp\n",
      "/home/wdd/3DSRCNN Dataset/train1/0011.bmp\n",
      "/home/wdd/3DSRCNN Dataset/train1/0338.bmp\n",
      "/home/wdd/3DSRCNN Dataset/train1/0390.bmp\n",
      "/home/wdd/3DSRCNN Dataset/train1/0244.bmp\n",
      "/home/wdd/3DSRCNN Dataset/train1/0073.bmp\n",
      "/home/wdd/3DSRCNN Dataset/train1/0065.bmp\n",
      "/home/wdd/3DSRCNN Dataset/train1/0330.bmp\n",
      "/home/wdd/3DSRCNN Dataset/train1/0090.bmp\n",
      "/home/wdd/3DSRCNN Dataset/train1/0396.bmp\n",
      "/home/wdd/3DSRCNN Dataset/train1/0053.bmp\n",
      "/home/wdd/3DSRCNN Dataset/train1/0250.bmp\n",
      "/home/wdd/3DSRCNN Dataset/train1/0027.bmp\n",
      "/home/wdd/3DSRCNN Dataset/train1/0198.bmp\n",
      "/home/wdd/3DSRCNN Dataset/train1/0346.bmp\n",
      "/home/wdd/3DSRCNN Dataset/train1/0221.bmp\n",
      "/home/wdd/3DSRCNN Dataset/train1/0048.bmp\n",
      "/home/wdd/3DSRCNN Dataset/train1/0100.bmp\n",
      "/home/wdd/3DSRCNN Dataset/train1/0263.bmp\n",
      "/home/wdd/3DSRCNN Dataset/train1/0297.bmp\n",
      "/home/wdd/3DSRCNN Dataset/train1/0374.bmp\n",
      "/home/wdd/3DSRCNN Dataset/train1/0272.bmp\n",
      "/home/wdd/3DSRCNN Dataset/train1/0029.bmp\n",
      "/home/wdd/3DSRCNN Dataset/train1/0222.bmp\n",
      "/home/wdd/3DSRCNN Dataset/train1/0170.bmp\n",
      "/home/wdd/3DSRCNN Dataset/train1/0009.bmp\n",
      "/home/wdd/3DSRCNN Dataset/train1/0096.bmp\n",
      "/home/wdd/3DSRCNN Dataset/train1/0076.bmp\n",
      "/home/wdd/3DSRCNN Dataset/train1/0190.bmp\n",
      "/home/wdd/3DSRCNN Dataset/train1/0382.bmp\n",
      "/home/wdd/3DSRCNN Dataset/train1/0277.bmp\n",
      "/home/wdd/3DSRCNN Dataset/train1/0180.bmp\n",
      "/home/wdd/3DSRCNN Dataset/train1/0283.bmp\n",
      "/home/wdd/3DSRCNN Dataset/train1/0005.bmp\n",
      "/home/wdd/3DSRCNN Dataset/train1/0059.bmp\n",
      "/home/wdd/3DSRCNN Dataset/train1/0105.bmp\n",
      "/home/wdd/3DSRCNN Dataset/train1/0275.bmp\n",
      "/home/wdd/3DSRCNN Dataset/train1/0288.bmp\n",
      "/home/wdd/3DSRCNN Dataset/train1/0127.bmp\n",
      "/home/wdd/3DSRCNN Dataset/train1/0124.bmp\n",
      "/home/wdd/3DSRCNN Dataset/train1/0381.bmp\n",
      "/home/wdd/3DSRCNN Dataset/train1/0013.bmp\n",
      "/home/wdd/3DSRCNN Dataset/train1/0075.bmp\n",
      "/home/wdd/3DSRCNN Dataset/train1/0354.bmp\n",
      "/home/wdd/3DSRCNN Dataset/train1/0142.bmp\n",
      "/home/wdd/3DSRCNN Dataset/train1/0345.bmp\n",
      "/home/wdd/3DSRCNN Dataset/train1/0265.bmp\n",
      "/home/wdd/3DSRCNN Dataset/train1/0128.bmp\n",
      "/home/wdd/3DSRCNN Dataset/train1/0365.bmp\n",
      "/home/wdd/3DSRCNN Dataset/train1/0154.bmp\n",
      "/home/wdd/3DSRCNN Dataset/train1/0112.bmp\n",
      "/home/wdd/3DSRCNN Dataset/train1/0287.bmp\n",
      "/home/wdd/3DSRCNN Dataset/train1/0370.bmp\n",
      "/home/wdd/3DSRCNN Dataset/train1/0294.bmp\n",
      "/home/wdd/3DSRCNN Dataset/train1/0248.bmp\n",
      "/home/wdd/3DSRCNN Dataset/train1/0172.bmp\n",
      "/home/wdd/3DSRCNN Dataset/train1/0210.bmp\n",
      "/home/wdd/3DSRCNN Dataset/train1/0004.bmp\n",
      "/home/wdd/3DSRCNN Dataset/train1/0229.bmp\n",
      "/home/wdd/3DSRCNN Dataset/train1/0156.bmp\n",
      "/home/wdd/3DSRCNN Dataset/train1/0368.bmp\n",
      "/home/wdd/3DSRCNN Dataset/train1/0207.bmp\n",
      "/home/wdd/3DSRCNN Dataset/train1/0181.bmp\n",
      "/home/wdd/3DSRCNN Dataset/train1/0068.bmp\n",
      "/home/wdd/3DSRCNN Dataset/train1/0299.bmp\n",
      "/home/wdd/3DSRCNN Dataset/train1/0372.bmp\n",
      "/home/wdd/3DSRCNN Dataset/train1/0358.bmp\n",
      "/home/wdd/3DSRCNN Dataset/train1/0050.bmp\n",
      "/home/wdd/3DSRCNN Dataset/train1/0328.bmp\n",
      "/home/wdd/3DSRCNN Dataset/train1/0224.bmp\n",
      "/home/wdd/3DSRCNN Dataset/train1/0077.bmp\n",
      "/home/wdd/3DSRCNN Dataset/train1/0118.bmp\n",
      "/home/wdd/3DSRCNN Dataset/train1/0376.bmp\n",
      "/home/wdd/3DSRCNN Dataset/train1/0019.bmp\n",
      "/home/wdd/3DSRCNN Dataset/train1/0183.bmp\n",
      "/home/wdd/3DSRCNN Dataset/train1/0295.bmp\n",
      "/home/wdd/3DSRCNN Dataset/train1/0292.bmp\n",
      "/home/wdd/3DSRCNN Dataset/train1/0052.bmp\n",
      "/home/wdd/3DSRCNN Dataset/train1/0158.bmp\n",
      "/home/wdd/3DSRCNN Dataset/train1/0101.bmp\n",
      "/home/wdd/3DSRCNN Dataset/train1/0184.bmp\n",
      "/home/wdd/3DSRCNN Dataset/train1/0060.bmp\n",
      "/home/wdd/3DSRCNN Dataset/train1/0078.bmp\n",
      "/home/wdd/3DSRCNN Dataset/train1/0379.bmp\n",
      "/home/wdd/3DSRCNN Dataset/train1/0176.bmp\n",
      "/home/wdd/3DSRCNN Dataset/train1/0262.bmp\n",
      "/home/wdd/3DSRCNN Dataset/train1/0104.bmp\n",
      "/home/wdd/3DSRCNN Dataset/train1/0126.bmp\n",
      "/home/wdd/3DSRCNN Dataset/train1/0320.bmp\n",
      "/home/wdd/3DSRCNN Dataset/train1/0261.bmp\n",
      "/home/wdd/3DSRCNN Dataset/train1/0209.bmp\n",
      "/home/wdd/3DSRCNN Dataset/train1/0044.bmp\n",
      "/home/wdd/3DSRCNN Dataset/train1/0186.bmp\n",
      "/home/wdd/3DSRCNN Dataset/train1/0001.bmp\n",
      "/home/wdd/3DSRCNN Dataset/train1/0220.bmp\n",
      "/home/wdd/3DSRCNN Dataset/train1/0233.bmp\n",
      "/home/wdd/3DSRCNN Dataset/train1/0227.bmp\n",
      "/home/wdd/3DSRCNN Dataset/train1/0397.bmp\n",
      "/home/wdd/3DSRCNN Dataset/train1/0214.bmp\n",
      "/home/wdd/3DSRCNN Dataset/train1/0042.bmp\n",
      "/home/wdd/3DSRCNN Dataset/train1/0192.bmp\n",
      "/home/wdd/3DSRCNN Dataset/train1/0393.bmp\n",
      "/home/wdd/3DSRCNN Dataset/train1/0131.bmp\n",
      "/home/wdd/3DSRCNN Dataset/train1/0161.bmp\n",
      "/home/wdd/3DSRCNN Dataset/train1/0332.bmp\n",
      "/home/wdd/3DSRCNN Dataset/train1/0311.bmp\n",
      "/home/wdd/3DSRCNN Dataset/train1/0119.bmp\n",
      "/home/wdd/3DSRCNN Dataset/train1/0238.bmp\n",
      "/home/wdd/3DSRCNN Dataset/train1/0369.bmp\n",
      "/home/wdd/3DSRCNN Dataset/train1/0084.bmp\n",
      "/home/wdd/3DSRCNN Dataset/train1/0375.bmp\n",
      "/home/wdd/3DSRCNN Dataset/train1/0039.bmp\n",
      "/home/wdd/3DSRCNN Dataset/train1/0378.bmp\n",
      "/home/wdd/3DSRCNN Dataset/train1/0125.bmp\n",
      "/home/wdd/3DSRCNN Dataset/train1/0008.bmp\n",
      "/home/wdd/3DSRCNN Dataset/train1/0144.bmp\n",
      "/home/wdd/3DSRCNN Dataset/train1/0086.bmp\n",
      "/home/wdd/3DSRCNN Dataset/train1/0333.bmp\n",
      "/home/wdd/3DSRCNN Dataset/train1/0200.bmp\n",
      "/home/wdd/3DSRCNN Dataset/train1/0037.bmp\n",
      "/home/wdd/3DSRCNN Dataset/train1/0223.bmp\n",
      "/home/wdd/3DSRCNN Dataset/train1/0309.bmp\n",
      "/home/wdd/3DSRCNN Dataset/train1/0322.bmp\n",
      "/home/wdd/3DSRCNN Dataset/train1/0331.bmp\n",
      "/home/wdd/3DSRCNN Dataset/train1/0359.bmp\n",
      "/home/wdd/3DSRCNN Dataset/train1/0329.bmp\n",
      "/home/wdd/3DSRCNN Dataset/train1/0242.bmp\n",
      "/home/wdd/3DSRCNN Dataset/train1/0010.bmp\n",
      "/home/wdd/3DSRCNN Dataset/train1/0152.bmp\n",
      "/home/wdd/3DSRCNN Dataset/train1/0189.bmp\n",
      "/home/wdd/3DSRCNN Dataset/train1/0088.bmp\n",
      "/home/wdd/3DSRCNN Dataset/train1/0136.bmp\n",
      "/home/wdd/3DSRCNN Dataset/train1/0002.bmp\n",
      "/home/wdd/3DSRCNN Dataset/train1/0293.bmp\n",
      "/home/wdd/3DSRCNN Dataset/train1/0061.bmp\n",
      "/home/wdd/3DSRCNN Dataset/train1/0355.bmp\n",
      "/home/wdd/3DSRCNN Dataset/train1/0258.bmp\n",
      "/home/wdd/3DSRCNN Dataset/train1/0094.bmp\n",
      "/home/wdd/3DSRCNN Dataset/train1/0259.bmp\n",
      "/home/wdd/3DSRCNN Dataset/train1/0232.bmp\n",
      "/home/wdd/3DSRCNN Dataset/train1/0099.bmp\n",
      "/home/wdd/3DSRCNN Dataset/train1/0351.bmp\n",
      "/home/wdd/3DSRCNN Dataset/train1/0236.bmp\n",
      "/home/wdd/3DSRCNN Dataset/train1/0237.bmp\n",
      "/home/wdd/3DSRCNN Dataset/train1/0266.bmp\n",
      "/home/wdd/3DSRCNN Dataset/train1/0380.bmp\n",
      "/home/wdd/3DSRCNN Dataset/train1/0115.bmp\n",
      "/home/wdd/3DSRCNN Dataset/train1/0134.bmp\n",
      "/home/wdd/3DSRCNN Dataset/train1/0006.bmp\n",
      "/home/wdd/3DSRCNN Dataset/train1/0324.bmp\n",
      "/home/wdd/3DSRCNN Dataset/train1/0137.bmp\n",
      "/home/wdd/3DSRCNN Dataset/train1/0062.bmp\n",
      "/home/wdd/3DSRCNN Dataset/train1/0025.bmp\n",
      "/home/wdd/3DSRCNN Dataset/train1/0106.bmp\n",
      "/home/wdd/3DSRCNN Dataset/train1/0308.bmp\n",
      "/home/wdd/3DSRCNN Dataset/train1/0298.bmp\n",
      "/home/wdd/3DSRCNN Dataset/train1/0066.bmp\n",
      "/home/wdd/3DSRCNN Dataset/train1/0026.bmp\n",
      "/home/wdd/3DSRCNN Dataset/train1/0110.bmp\n"
     ]
    },
    {
     "ename": "ValueError",
     "evalue": "invalid literal for int() with base 10: 'train1'",
     "output_type": "error",
     "traceback": [
      "\u001b[0;31m---------------------------------------------------------------------------\u001b[0m",
      "\u001b[0;31mValueError\u001b[0m                                Traceback (most recent call last)",
      "\u001b[0;32m<ipython-input-15-86ccda6cbd0d>\u001b[0m in \u001b[0;36m<module>\u001b[0;34m()\u001b[0m\n\u001b[1;32m      3\u001b[0m \u001b[0;32mfor\u001b[0m \u001b[0mimage\u001b[0m \u001b[0;32min\u001b[0m \u001b[0mimages\u001b[0m\u001b[0;34m:\u001b[0m\u001b[0;34m\u001b[0m\u001b[0m\n\u001b[1;32m      4\u001b[0m     \u001b[0mprint\u001b[0m \u001b[0;34m(\u001b[0m\u001b[0mimage\u001b[0m\u001b[0;34m)\u001b[0m\u001b[0;34m\u001b[0m\u001b[0m\n\u001b[0;32m----> 5\u001b[0;31m \u001b[0;32mif\u001b[0m \u001b[0mint\u001b[0m\u001b[0;34m(\u001b[0m\u001b[0mdir_path\u001b[0m\u001b[0;34m.\u001b[0m\u001b[0msplit\u001b[0m\u001b[0;34m(\u001b[0m\u001b[0;34m'/'\u001b[0m\u001b[0;34m)\u001b[0m\u001b[0;34m[\u001b[0m\u001b[0;34m-\u001b[0m\u001b[0;36m1\u001b[0m\u001b[0;34m]\u001b[0m\u001b[0;34m.\u001b[0m\u001b[0msplit\u001b[0m\u001b[0;34m(\u001b[0m\u001b[0;34m'.'\u001b[0m\u001b[0;34m)\u001b[0m\u001b[0;34m[\u001b[0m\u001b[0;36m0\u001b[0m\u001b[0;34m]\u001b[0m\u001b[0;34m)\u001b[0m\u001b[0;34m%\u001b[0m\u001b[0;36m2\u001b[0m\u001b[0;34m==\u001b[0m\u001b[0;36m0\u001b[0m\u001b[0;34m:\u001b[0m\u001b[0;34m\u001b[0m\u001b[0m\n\u001b[0m\u001b[1;32m      6\u001b[0m     \u001b[0mint\u001b[0m\u001b[0;34m(\u001b[0m\u001b[0mdir_path\u001b[0m\u001b[0;34m.\u001b[0m\u001b[0msplit\u001b[0m\u001b[0;34m(\u001b[0m\u001b[0;34m'/'\u001b[0m\u001b[0;34m)\u001b[0m\u001b[0;34m[\u001b[0m\u001b[0;34m-\u001b[0m\u001b[0;36m1\u001b[0m\u001b[0;34m]\u001b[0m\u001b[0;34m.\u001b[0m\u001b[0msplit\u001b[0m\u001b[0;34m(\u001b[0m\u001b[0;34m'.'\u001b[0m\u001b[0;34m)\u001b[0m\u001b[0;34m[\u001b[0m\u001b[0;36m0\u001b[0m\u001b[0;34m]\u001b[0m\u001b[0;34m)\u001b[0m\u001b[0;34m%\u001b[0m\u001b[0;36m2\u001b[0m\u001b[0;34m==\u001b[0m\u001b[0;36m0\u001b[0m\u001b[0;34m\u001b[0m\u001b[0m\n",
      "\u001b[0;31mValueError\u001b[0m: invalid literal for int() with base 10: 'train1'"
     ]
    }
   ],
   "source": [
    "dir_path='/home/wdd/3DSRCNN Dataset/train1'\n",
    "images=glob.glob(os.path.join(dir_path,'*.bmp'))\n",
    "for image in images:\n",
    "    print (image)\n",
    "if int(dir_path.split('/')[-1].split('.')[0])%2==0:\n",
    "    int(dir_path.split('/')[-1].split('.')[0])%2==0"
   ]
  },
  {
   "cell_type": "markdown",
   "metadata": {},
   "source": [
    "# pickle文件系统"
   ]
  },
  {
   "cell_type": "code",
   "execution_count": null,
   "metadata": {
    "collapsed": true
   },
   "outputs": [],
   "source": [
    "import pickle\n",
    "import os\n",
    "#os.mkdir('/home/wdd/MyPython')\n",
    "my_list=[1,2,3,4,5,6,'考拉',['another list']]\n",
    "pickle_file=open('my_list.pkl','wb')#open是内嵌函数，没有前缀名，如果没有该文件将会自动创建该文件\n",
    "pickle.dump(my_list,pickle_file)\n",
    "pickle_file.close()\n",
    "pickle_file=open('my_list.pkl','rb')\n",
    "my_list_load=pickle.load(pickle_file)\n",
    "print (my_list)"
   ]
  },
  {
   "cell_type": "markdown",
   "metadata": {},
   "source": [
    "# 工厂函数\n"
   ]
  },
  {
   "cell_type": "code",
   "execution_count": null,
   "metadata": {
    "collapsed": true
   },
   "outputs": [],
   "source": [
    "type(len)\n",
    "type(list)\n",
    "class C:\n",
    "    pass\n",
    "type(C)\n",
    "a=int('123')\n",
    "class New_int(int):\n",
    "    def __add__(self,other):\n",
    "        return int.__sub__(self,other)\n",
    "    def __sub__(self,other):\n",
    "        return int.__add__(self,other)\n",
    "a=New_int(3)\n",
    "b=New_int(5)\n",
    "a+b\n",
    "print(a)\n",
    "print (int(5))\n",
    "\n",
    "class Try_int(int):\n",
    "    def __add__(self,other):\n",
    "        return int(self)+int(other)\n",
    "    def __sub__(self,other):\n",
    "        return int(self)-int(other)\n",
    "a=Try_int(3)\n",
    "b=Try_int(5)\n",
    "a+b#这样会陷入递归无限循环，self传入的参数a，return self+自动调用__add__,这样一来就会陷入无限递归循环"
   ]
  },
  {
   "cell_type": "markdown",
   "metadata": {},
   "source": [
    "# 属性访问\n",
    "可以通过内建函数来访问对象的属性\n"
   ]
  },
  {
   "cell_type": "code",
   "execution_count": null,
   "metadata": {
    "collapsed": true
   },
   "outputs": [],
   "source": [
    "class C:\n",
    "    def __init__(self):\n",
    "        self.x='X-Man'\n",
    "c=C()\n",
    "c.x\n",
    "getattr(c,'x','木有这个属性')\n",
    "getattr(c,'y','木有这个属性')\n",
    "class C:\n",
    "    def __init__(self,size=10):\n",
    "        self.size=size\n",
    "    def getSize(self):\n",
    "        return self.size\n",
    "    def setSize(self,value):\n",
    "        self.size=value\n",
    "    def delSize(self):\n",
    "        del self.size\n",
    "    x=property(getSize,setSize,delSize)\n",
    "c=C()\n",
    "c.x=((1),(2))\n",
    "print(c.size)"
   ]
  },
  {
   "cell_type": "markdown",
   "metadata": {},
   "source": [
    "# 定制容器\n",
    "根据自己的需要对容器进行改进<br/>\n",
    "首先是`__getitem__(self,key)`魔法方法，该魔法方法相当于是对[]运算符的重载，作用是让容器具有下标索引[]的功能，在此基础上还可以对该功能进行增加其他的附加操作\n",
    "```\n",
    "def __getitem__(self,key):\n",
    "    return self.values[key]#此处的value是你读入的变量，名称不是固定的，需要在__init__()中自己定义\n",
    "```如下是我们自己定义的一个容器"
   ]
  },
  {
   "cell_type": "code",
   "execution_count": null,
   "metadata": {
    "collapsed": true
   },
   "outputs": [],
   "source": [
    "class CountList:\n",
    "    def __init__(self,*args):#可变属性量的参数\n",
    "        self.values=[x for x in args]\n",
    "        self.count=dict.fromkeys(range(len(self.values)),0)\n",
    "    def __len__(self):\n",
    "        return lend(self.values)\n",
    "    def __getitem__(self,key):#每当进行下标索引时会自动调用__getitem__()\n",
    "        self.count[key]+=1\n",
    "        return self.values[key]\n",
    "c1=CountList(1,2,3,4,5,6)\n",
    "c1[1]\n",
    "c1[1：3]\n",
    "c1.count"
   ]
  },
  {
   "cell_type": "markdown",
   "metadata": {},
   "source": [
    "# 生成器\n",
    "**概念引入：**通过列表生成式，我们可以直接创建一个列表。但是收到内存的限制，列表容量肯定是有限的。而且，如果创建一个包含100万个元素的列表，不仅占用很大的存储空间，如果我们仅仅需要访问的前面几个元素，那后面绝大多数元素占用的空间都白白浪费了。\n",
    "所以，如果累彪元素可以按照某种算法推算出来，那我们是否可以在循环的过程中不断推算出后续的元素？这样就不必创建完整的list，从而节省大量的空间。**在python中，这种一边循环一边计算的机制，用多少就生产多少的方式，称为为生成器：generator。**<br>\n",
    "**特性：**生成器是迭代器的一种实现，关键词\n",
    "`yield`出现函数被定义为生成器\n",
    "的程序，可以运行的独立函数调用，函数可以暂停或者挂起，并在需要的时候从程序里开得地方继续或者重新开始\n",
    "**创建方法：**要创建一个generator，有很多种方法，第一种方法很简单，只要把一个列表生成式的[]改成(),就创建了一个generator\n",
    ">generator和函数是密不可分的，generator也类似一种可迭代的方法，并不是一个元素的集合。通过下面一个例子可以看出\n",
    "yield出现的地方相当于是一个断点，继续迭代相当于接着上次yield中断的位置继续执行。"
   ]
  },
  {
   "cell_type": "code",
   "execution_count": 32,
   "metadata": {},
   "outputs": [
    {
     "name": "stdout",
     "output_type": "stream",
     "text": [
      "[0, 1, 2, 3, 4, 5, 6, 7, 8, 9]\n",
      "<class 'generator'>\n",
      "<generator object <genexpr> at 0x7efe604c2990>\n"
     ]
    }
   ],
   "source": [
    "L = [x for x in range(10)]\n",
    "print(L)\n",
    "g = (x for x in range(10))\n",
    "print(type(g))#可以看到g是一个generator类型\n",
    "print(g)#直接对g打印出的是其对象所在的地址"
   ]
  },
  {
   "cell_type": "markdown",
   "metadata": {},
   "source": [
    "`L`和`g`的区别仅在最外层的`[]`和`()`,`L`是一个list，`g`是一个generator,可以通过`next()`函数获得generator的返回值"
   ]
  },
  {
   "cell_type": "code",
   "execution_count": 30,
   "metadata": {},
   "outputs": [
    {
     "ename": "StopIteration",
     "evalue": "",
     "output_type": "error",
     "traceback": [
      "\u001b[0;31m---------------------------------------------------------------------------\u001b[0m",
      "\u001b[0;31mStopIteration\u001b[0m                             Traceback (most recent call last)",
      "\u001b[0;32m<ipython-input-30-b555b80f5856>\u001b[0m in \u001b[0;36m<module>\u001b[0;34m()\u001b[0m\n\u001b[0;32m----> 1\u001b[0;31m \u001b[0mnext\u001b[0m\u001b[0;34m(\u001b[0m\u001b[0mg\u001b[0m\u001b[0;34m)\u001b[0m\u001b[0;31m#注意jupyter是具有记忆性的，类似断点调试，执行过后的变量状态将会被记录下来。不断执行这一句话可以迭代generator\u001b[0m\u001b[0;34m\u001b[0m\u001b[0m\n\u001b[0m",
      "\u001b[0;31mStopIteration\u001b[0m: "
     ]
    }
   ],
   "source": [
    "next(g)#注意jupyter是具有记忆性的，类似断点调试，执行过后的变量状态将会被记录下来。不断执行这一句话可以迭代generator"
   ]
  },
  {
   "cell_type": "markdown",
   "metadata": {},
   "source": [
    "generator保存的是算法，每次调用`next(g)`,就计算出`g`的下一个元素的值，知道计算到最后一个元素，没有更多的元素时，跑出`StopIteration`的错误，当然也可以使用for循环进行迭代,别忘了generator本身也是一个迭代器O(∩_∩)O~~:"
   ]
  },
  {
   "cell_type": "code",
   "execution_count": 33,
   "metadata": {},
   "outputs": [
    {
     "name": "stdout",
     "output_type": "stream",
     "text": [
      "0\n",
      "1\n",
      "2\n",
      "3\n",
      "4\n",
      "5\n",
      "6\n",
      "7\n",
      "8\n",
      "9\n"
     ]
    }
   ],
   "source": [
    "for n in g:\n",
    "    print(n)"
   ]
  },
  {
   "cell_type": "code",
   "execution_count": 44,
   "metadata": {},
   "outputs": [
    {
     "name": "stdout",
     "output_type": "stream",
     "text": [
      "生成器被执行\n",
      "1\n",
      "2\n"
     ]
    }
   ],
   "source": [
    "def myGen():\n",
    "    print ('生成器被执行')\n",
    "    yield 1\n",
    "    yield 2\n",
    "myG=myGen()\n",
    "for i in myGen():#可以看到运行的结果\n",
    "    print(i)"
   ]
  },
  {
   "cell_type": "code",
   "execution_count": 43,
   "metadata": {},
   "outputs": [
    {
     "name": "stdout",
     "output_type": "stream",
     "text": [
      "1\n",
      "2\n",
      "3\n",
      "5\n",
      "8\n",
      "13\n",
      "21\n",
      "34\n",
      "55\n",
      "89\n",
      "144\n",
      "233\n",
      "377\n",
      "610\n",
      "987\n",
      "1597\n",
      "2584\n",
      "4181\n",
      "6765\n",
      "10946\n",
      "17711\n",
      "28657\n",
      "46368\n",
      "75025\n",
      "121393\n",
      "196418\n",
      "317811\n",
      "514229\n",
      "832040\n",
      "1346269\n",
      "2178309\n",
      "3524578\n",
      "5702887\n",
      "9227465\n",
      "14930352\n",
      "24157817\n",
      "39088169\n",
      "63245986\n",
      "102334155\n",
      "165580141\n"
     ]
    }
   ],
   "source": [
    "def fib(maxx):\n",
    "    n,a,b = 0, 0, 1\n",
    "    while n<maxx:\n",
    "        a,b = b,a+b\n",
    "        n=n+1\n",
    "        yield b\n",
    "for n in fib(40):#需要把生成器放在迭代器的位置\n",
    "    print(n)"
   ]
  },
  {
   "cell_type": "code",
   "execution_count": 17,
   "metadata": {},
   "outputs": [
    {
     "data": {
      "text/plain": [
       "list"
      ]
     },
     "execution_count": 17,
     "metadata": {},
     "output_type": "execute_result"
    }
   ],
   "source": [
    "a=[x for x in range(4) if x%2==0]\n",
    "type(a)"
   ]
  },
  {
   "cell_type": "markdown",
   "metadata": {},
   "source": [
    "# 异常\n",
    "在编写程序的时候，程序员通常需要辨别事件的正常过程和异常情况。<br/>\n",
    "python用异常对象exception object来表示异常情况，于晓错误后，会引发异常\n",
    "## raise语句\n",
    "为了引发异常，可以使用一个类或者实例参数调用raise语句，使用类时，程序会自动创建类的一个实例"
   ]
  },
  {
   "cell_type": "code",
   "execution_count": null,
   "metadata": {
    "collapsed": true
   },
   "outputs": [],
   "source": [
    "raise Exception#就是引发了一个没有任何相关错误信息的异常"
   ]
  },
  {
   "cell_type": "markdown",
   "metadata": {},
   "source": [
    "## python 内建异常\n",
    "***\n",
    "Exception 异常的基类<br/>\n",
    "AttributeError 特性引用或者赋值失败引发\n",
    "IOError试图打开不存在的文件引发<br/>\n",
    "IndexError在使用序列不存在索引时引发<br/>\n",
    "NameError在找不到名字时引发<br/>\n",
    "SynaxError语法错误引发<br/>\n",
    "ValueError在内建操作或者函数对象使用不合适值引发<br/>\n",
    "TypeError函数应用于错误类型的对象时引发<br/>\n"
   ]
  },
  {
   "cell_type": "markdown",
   "metadata": {},
   "source": [
    "### 自定义异常类\n",
    "从Exception类继承\n"
   ]
  },
  {
   "cell_type": "code",
   "execution_count": null,
   "metadata": {
    "collapsed": true
   },
   "outputs": [],
   "source": [
    "class SomeCustomException(Exception):\n",
    "    pass\n"
   ]
  },
  {
   "cell_type": "markdown",
   "metadata": {},
   "source": [
    "### 捕捉异常\n",
    "错误常常有，但是出错后弹出一行红色的Traceback，用户体验十分不好，因此使用try..except语句来捕捉错误是一种很有必要的手段<br/>\n",
    "使用try/except语句来实现<br>\n",
    "try:<br/>\n",
    "    <pre>检测范围</pre>\n",
    "except (Exception1, Exception2...) [as reason]:<br/>\n",
    "    <pre>出现异常后的代码处理 <br/></pre>\n",
    "finally:\n",
    "    <pre>无论如何都会被执行的代码</pre>"
   ]
  },
  {
   "cell_type": "code",
   "execution_count": 6,
   "metadata": {},
   "outputs": [
    {
     "name": "stdout",
     "output_type": "stream",
     "text": [
      "cannot transfer str to int!\n",
      " Reason is :invalid literal for int() with base 10: 'abc'\n",
      "whatever happened, i will be excuted!\n"
     ]
    }
   ],
   "source": [
    "try:\n",
    "    int('abc')\n",
    "    var=1+'1'\n",
    "    f=open('why.txt')\n",
    "    print(f.read())\n",
    "    f.close()\n",
    "    var=1+'1'\n",
    "except OSError as reason:\n",
    "    print('File load Error\\n Reason is :'+str(reason))\n",
    "except ValueError as reason:\n",
    "    print ('cannot transfer str to int!\\n Reason is :'+str(reason))\n",
    "finally:\n",
    "    print('whatever happened, i will be excuted!')"
   ]
  },
  {
   "cell_type": "markdown",
   "metadata": {},
   "source": [
    "单纯使用 Except 出来的错误可能不够具体，可以使用[as reason]可选项将出错的原因具体存储下来"
   ]
  },
  {
   "cell_type": "markdown",
   "metadata": {},
   "source": [
    "## raise\n",
    "人工引出已有的异常\n"
   ]
  },
  {
   "cell_type": "code",
   "execution_count": 8,
   "metadata": {},
   "outputs": [
    {
     "ename": "TypeError",
     "evalue": "",
     "output_type": "error",
     "traceback": [
      "\u001b[0;31m---------------------------------------------------------------------------\u001b[0m",
      "\u001b[0;31mTypeError\u001b[0m                                 Traceback (most recent call last)",
      "\u001b[0;32m<ipython-input-8-75490c935c9b>\u001b[0m in \u001b[0;36m<module>\u001b[0;34m()\u001b[0m\n\u001b[0;32m----> 1\u001b[0;31m \u001b[0;32mraise\u001b[0m \u001b[0mTypeError\u001b[0m\u001b[0;34m\u001b[0m\u001b[0m\n\u001b[0m",
      "\u001b[0;31mTypeError\u001b[0m: "
     ]
    }
   ],
   "source": [
    "raise TypeError"
   ]
  },
  {
   "cell_type": "code",
   "execution_count": 45,
   "metadata": {},
   "outputs": [
    {
     "name": "stdout",
     "output_type": "stream",
     "text": [
      "Enter the first number:12\n",
      "Enter the second number12\n",
      "x/y is: 1\n"
     ]
    }
   ],
   "source": [
    "while True:\n",
    "    try:\n",
    "        x=input('Enter the first number:')\n",
    "        y=input('Enter the second number')\n",
    "        value=int(x)/int(y)\n",
    "        print ('x/y is: %d'%value)\n",
    "    except Exception:\n",
    "        print ('Invalid input:',e)\n",
    "        print ('please try again')\n",
    "    else :\n",
    "        break"
   ]
  },
  {
   "cell_type": "markdown",
   "metadata": {},
   "source": [
    "## with\n",
    "with 语句是一种异常处理相关的功能,要使用with语句,首先要明白上下文管理器这一概念,有了上下文管理器,with语句才能工作.\n",
    "\n",
    "* **上下文管协议(Context Management Protocol):**包含方法__enter__()和__exit__(),负责执行with语句块上下文的进入与推出操作,通常使用with语句调用上下文管理器<br/>\n"
   ]
  },
  {
   "cell_type": "code",
   "execution_count": null,
   "metadata": {
    "collapsed": true
   },
   "outputs": [],
   "source": [
    "with context_expression [as target]:#使用格式\n",
    "    with-body"
   ]
  },
  {
   "cell_type": "markdown",
   "metadata": {},
   "source": [
    "如果context_expression运行异常的话,会默认context_expression这句话没有说过,如果没有异常会\n",
    "将这句话的赋给target,并往下执行"
   ]
  },
  {
   "cell_type": "code",
   "execution_count": null,
   "metadata": {
    "collapsed": true
   },
   "outputs": [],
   "source": [
    "with open('filename') as somefile:\n",
    "    for line in somefile:\n",
    "        print (line)\n",
    "###\n",
    "somefile=open('filename')\n",
    "try:\n",
    "    for line in somefile:\n",
    "        print (line)\n",
    "finally:\n",
    "    somefile.close()\n",
    "###上下等同"
   ]
  },
  {
   "cell_type": "markdown",
   "metadata": {
    "collapsed": true
   },
   "source": [
    "## else丰富的用法\n",
    "else在python中有更丰富的用法，\n",
    "\n",
    "* 要么怎样，要么不怎么样(if....else....)\n",
    "* 干完了怎样，干不完就别想怎样(与while与for搭配)\n",
    "* 没有问题，那就干吧(与异常处理进行搭配)"
   ]
  },
  {
   "cell_type": "markdown",
   "metadata": {},
   "source": [
    "### 干完了怎样？"
   ]
  },
  {
   "cell_type": "code",
   "execution_count": null,
   "metadata": {
    "collapsed": true
   },
   "outputs": [],
   "source": [
    "def showMaxFactor(num):\n",
    "    count=num//2\n",
    "    while count>1:\n",
    "        if num%count==0:\n",
    "            print ('%d max factor is %d'%(num,count))\n",
    "            break\n",
    "        count-=1\n",
    "    else:#注意else语句的用法\n",
    "        print('%dis 素数'%(num))\n",
    "num=int(input('please input a value:'))\n",
    "showMaxFactor(num)"
   ]
  },
  {
   "cell_type": "markdown",
   "metadata": {},
   "source": [
    "### 没有问题就干！"
   ]
  },
  {
   "cell_type": "code",
   "execution_count": 12,
   "metadata": {},
   "outputs": [
    {
     "name": "stdout",
     "output_type": "stream",
     "text": [
      "oh yeah\n"
     ]
    }
   ],
   "source": [
    "try:\n",
    "    int('1')\n",
    "except ValueError as reason:\n",
    "    print('Error!!'+str(reason))\n",
    "else:#上面except没有发生，则执行当前else语句\n",
    "    print('oh yeah')"
   ]
  },
  {
   "cell_type": "markdown",
   "metadata": {
    "collapsed": true
   },
   "source": [
    "# 常见BUG\n",
    "\n"
   ]
  },
  {
   "cell_type": "code",
   "execution_count": null,
   "metadata": {
    "collapsed": true
   },
   "outputs": [],
   "source": [
    "#在使用魔法方法的时候，切记下划线不能多加，否则会出错\n",
    "def __init__():\n",
    "#如果写成\n",
    "def __init___():\n",
    "#就会出现相应的问题"
   ]
  },
  {
   "cell_type": "code",
   "execution_count": null,
   "metadata": {
    "collapsed": true
   },
   "outputs": [],
   "source": []
  }
 ],
 "metadata": {
  "kernelspec": {
   "display_name": "Python 3",
   "language": "python",
   "name": "python3"
  },
  "language_info": {
   "codemirror_mode": {
    "name": "ipython",
    "version": 3
   },
   "file_extension": ".py",
   "mimetype": "text/x-python",
   "name": "python",
   "nbconvert_exporter": "python",
   "pygments_lexer": "ipython3",
   "version": "3.6.6"
  }
 },
 "nbformat": 4,
 "nbformat_minor": 2
}
