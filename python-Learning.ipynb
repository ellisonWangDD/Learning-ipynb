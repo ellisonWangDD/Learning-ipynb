{
 "cells": [
  {
   "cell_type": "markdown",
   "metadata": {},
   "source": [
    "# 函数\n",
    "如果函数有返回值，则可以把函数当作一个对象来直接使用"
   ]
  },
  {
   "cell_type": "code",
   "execution_count": 1,
   "metadata": {},
   "outputs": [
    {
     "data": {
      "text/plain": [
       "'Andy'"
      ]
     },
     "execution_count": 1,
     "metadata": {},
     "output_type": "execute_result"
    }
   ],
   "source": [
    "def fun1():\n",
    "    a=['Andy','July',3,4]\n",
    "    return a\n",
    "fun1()[0]"
   ]
  },
  {
   "cell_type": "code",
   "execution_count": 2,
   "metadata": {},
   "outputs": [
    {
     "ename": "TypeError",
     "evalue": "'function' object is not subscriptable",
     "output_type": "error",
     "traceback": [
      "\u001b[0;31m---------------------------------------------------------------------------\u001b[0m",
      "\u001b[0;31mTypeError\u001b[0m                                 Traceback (most recent call last)",
      "\u001b[0;32m<ipython-input-2-959f42ef36c4>\u001b[0m in \u001b[0;36m<module>\u001b[0;34m()\u001b[0m\n\u001b[0;32m----> 1\u001b[0;31m \u001b[0mfun1\u001b[0m\u001b[0;34m[\u001b[0m\u001b[0;36m0\u001b[0m\u001b[0;34m]\u001b[0m\u001b[0;31m#不加括号会报错，()相当于是一个callable调用，不加括号fun1只是一个指针\u001b[0m\u001b[0;34m\u001b[0m\u001b[0m\n\u001b[0m",
      "\u001b[0;31mTypeError\u001b[0m: 'function' object is not subscriptable"
     ]
    }
   ],
   "source": [
    "fun1[0]#不加括号会报错，()相当于是一个callable调用，不加括号fun1只是一个指针"
   ]
  },
  {
   "cell_type": "markdown",
   "metadata": {},
   "source": [
    "# 同时多个赋值\n",
    "python很灵活"
   ]
  },
  {
   "cell_type": "code",
   "execution_count": null,
   "metadata": {
    "collapsed": true
   },
   "outputs": [],
   "source": [
    "a1,a2=[1,2],[3,4]#同时给多个赋值，其实，逗号，可以看成是元组的标志\n",
    "print (a1,a2)"
   ]
  },
  {
   "cell_type": "markdown",
   "metadata": {},
   "source": [
    "# 强大的[]\n",
    "[]里面支持iterable，可将iterable变成列表形式"
   ]
  },
  {
   "cell_type": "code",
   "execution_count": null,
   "metadata": {
    "collapsed": true
   },
   "outputs": [],
   "source": [
    "a=[[1,2],[3,4]]\n",
    "a[0,1]"
   ]
  },
  {
   "cell_type": "markdown",
   "metadata": {},
   "source": [
    "# 注意强大的迭代器iterable\n",
    "很多函数接受的参数都是迭代器类型，×/都支持迭代器操作，因此使用起来很是灵活"
   ]
  },
  {
   "cell_type": "code",
   "execution_count": null,
   "metadata": {
    "collapsed": true
   },
   "outputs": [],
   "source": [
    "a=[1,2,3,4,5,6]\n",
    "sum(x for x in a if x%2)#等价于下列表达式\n",
    "sum(filter(lambda x:x%2,a))"
   ]
  },
  {
   "cell_type": "markdown",
   "metadata": {},
   "source": [
    "# zip\n",
    "zip(seq1,seq2)\n",
    "用两个序列合成，返回一个元祖序列[(),(),()...]每一个元组中的第一、二个元素对应两个序列中第i个值"
   ]
  },
  {
   "cell_type": "code",
   "execution_count": null,
   "metadata": {
    "collapsed": true
   },
   "outputs": [],
   "source": [
    "a=[1,2,3,4]\n",
    "b=['a','b','c','d']\n",
    "list(zip(a,b))\n"
   ]
  },
  {
   "cell_type": "code",
   "execution_count": null,
   "metadata": {
    "collapsed": true
   },
   "outputs": [],
   "source": [
    "list(ab)"
   ]
  },
  {
   "cell_type": "markdown",
   "metadata": {},
   "source": [
    "# 强大的for循环\n",
    "python的for循环比c++更加强大和智能\n",
    "**迭代的思想要贯彻始终**\n",
    "```\n",
    "for iterating_var in *iterables:\n",
    "    statements\n",
    "```\n",
    "iterables是一个可迭代的容器，只要它可以迭代，它可以是列表，元祖，甚至函数"
   ]
  },
  {
   "cell_type": "code",
   "execution_count": null,
   "metadata": {
    "collapsed": true
   },
   "outputs": [],
   "source": [
    "favourite='FIshC'\n",
    "for i in favourite:\n",
    "    print (i,end='')"
   ]
  },
  {
   "cell_type": "markdown",
   "metadata": {},
   "source": [
    "## for循环用于列表的解析\n",
    "列表解析提供一种优雅的生成列表的方法，可读性高，而且性能还能快很多<br/>\n",
    "f(x) for x in iterable if x...条件<br/>\n",
    "需要注意的是x作为形参，iterable作为迭代器实参<br/>\n",
    ">f(x)是x的函数或表达式\n",
    "注意iterable只要是可迭代的序列就可以，不论他是列表抑或其他类型的数据"
   ]
  },
  {
   "cell_type": "code",
   "execution_count": null,
   "metadata": {
    "collapsed": true
   },
   "outputs": [],
   "source": [
    "one=range(1,9)\n",
    "[x for x in one if x%2==0]\n",
    "[x**2 for x in one if x%2==0]#根据规则生成了一个列表,"
   ]
  },
  {
   "cell_type": "code",
   "execution_count": null,
   "metadata": {
    "collapsed": true
   },
   "outputs": [],
   "source": [
    "a=[0,1,2,3,4,5]\n",
    "print (a[:]!=0)"
   ]
  },
  {
   "cell_type": "markdown",
   "metadata": {},
   "source": [
    "* x：我们从列表中取得的结果,也可以为x的表达式或者函数func（x）\n",
    "* for x in one :x的来源--one列表\n",
    "* if x%2==0:x成立的条件，如果不能成立就不能放在返回的列表中了"
   ]
  },
  {
   "cell_type": "code",
   "execution_count": null,
   "metadata": {
    "collapsed": true
   },
   "outputs": [],
   "source": [
    "def func(var_x):\n",
    "    return (var_x**2)\n",
    "one=range(1,9)\n",
    "[func(x) for x in one if x%2==0]"
   ]
  },
  {
   "cell_type": "markdown",
   "metadata": {},
   "source": [
    "利用列表解析快速获得文本中所有单词的第一个字符"
   ]
  },
  {
   "cell_type": "code",
   "execution_count": null,
   "metadata": {
    "collapsed": true
   },
   "outputs": [],
   "source": [
    "text='My house is full of flowers'\n",
    "first_charts=[]\n",
    "for word in text.split():\n",
    "    first_charts.append(word[0])\n",
    "print (first_charts)\n",
    "[word[0] for word in text.split()]#两者输出都是一致的，但是利用列表解析能够大大增强代码的可读性\n"
   ]
  },
  {
   "cell_type": "markdown",
   "metadata": {},
   "source": [
    "# 返回函数的指针\n",
    "fun() 执行这个函数\n",
    "fun 函数的指针"
   ]
  },
  {
   "cell_type": "code",
   "execution_count": null,
   "metadata": {
    "collapsed": true
   },
   "outputs": [],
   "source": [
    "def fun1():\n",
    "    print (fun1)\n",
    "def fun2():\n",
    "    return fun1\n",
    "x=fun2()#\n",
    "print (fun1)#单纯的返回函数名是返回的函数指针，加括号是执行这个函数\n",
    "x()\n"
   ]
  },
  {
   "cell_type": "markdown",
   "metadata": {},
   "source": [
    "# python 作用域\n",
    "> * python能够改变作用域的代码段是def、class、lamda\n",
    "* if/elif/else、try/except/finally、for/while并不能设计变量作用域的改变，也就是说他们的代码快中的变量，在外部也是可以访问的\n",
    "* 变量搜索的路径是：本地变量->全局变量\n"
   ]
  },
  {
   "cell_type": "code",
   "execution_count": null,
   "metadata": {
    "collapsed": true
   },
   "outputs": [],
   "source": [
    "变量"
   ]
  },
  {
   "cell_type": "markdown",
   "metadata": {},
   "source": [
    "# global关键字\n"
   ]
  },
  {
   "cell_type": "code",
   "execution_count": null,
   "metadata": {
    "collapsed": true,
    "scrolled": true
   },
   "outputs": [],
   "source": [
    "count=5#全局变量\n",
    "def Myfun():\n",
    "    count=10\n",
    "    print (count)\n",
    "print (count)#局部变量不能更改全局变量\n",
    "Myfun()"
   ]
  },
  {
   "cell_type": "markdown",
   "metadata": {},
   "source": [
    "如果想在函数中使用全局变量，则可以使用global关键字"
   ]
  },
  {
   "cell_type": "code",
   "execution_count": null,
   "metadata": {
    "collapsed": true
   },
   "outputs": [],
   "source": [
    "def Myfun2():\n",
    "    global count#此处声明的是全局变量\n",
    "    count=5\n",
    "    print (count)\n",
    "print (count)"
   ]
  },
  {
   "cell_type": "markdown",
   "metadata": {},
   "source": [
    "# 闭包\n",
    "如果在一个内部函数中，定义了另外一个函数，形成了函数嵌套\n",
    "如果对内部嵌套的函数对外部函数的变量进行引用，就形成了闭包\n",
    ">需要用一个函数创建另一个函数，每次调用外层函数，内部的函数都会被重新绑定，再次向内部函数传入值就能调用内部函数"
   ]
  },
  {
   "cell_type": "code",
   "execution_count": null,
   "metadata": {
    "collapsed": true
   },
   "outputs": [],
   "source": [
    "def funX(x):#在内部函数中，外部作用域中，引用的变量达到这亮点需求之后\n",
    "    def funY(y):\n",
    "        return x*y\n",
    "    return funY\n",
    "x=funX(8)\n",
    "x(2)\n",
    "funX(2)(8)#两种形式都可以使用\n",
    "\n",
    "def Fun1():\n",
    "    x=[5]\n",
    "    def Fun2():\n",
    "        x[0]*=x[0]\n",
    "        return x[0]\n",
    "    return Fun2()\n",
    "\n",
    "a=Fun1()\n",
    "a"
   ]
  },
  {
   "cell_type": "markdown",
   "metadata": {},
   "source": [
    "# 绑定\n",
    "在python教程中，经常能看见绑定这个词语，绑定是指制定了一个实例化对象，就形成了绑定。"
   ]
  },
  {
   "cell_type": "markdown",
   "metadata": {},
   "source": [
    "# 类的实例和对象\n",
    "在定义的时候如果不加括号，定义的是类的实例，如果加了括号，相当于声明的是类的对象\n",
    "> 类的实例=类的对象"
   ]
  },
  {
   "cell_type": "code",
   "execution_count": null,
   "metadata": {
    "collapsed": true
   },
   "outputs": [],
   "source": [
    "class Fruit:\n",
    "    def prt ():\n",
    "        print ('hello world!')\n",
    "a=Fruit#在定义的时候如果不加括号，相当于定义的是类\n",
    "print (a)\n",
    "a.prt()"
   ]
  },
  {
   "cell_type": "code",
   "execution_count": null,
   "metadata": {
    "collapsed": true
   },
   "outputs": [],
   "source": [
    "b=Fruit()#如果加了括号，相当于定义的是类的对象\n",
    "print (b)"
   ]
  },
  {
   "cell_type": "markdown",
   "metadata": {},
   "source": [
    "## 一些常见的内建函数\n",
    "issubclass(class_one,class_two)  如果class_one是class_two的子类，则返回true"
   ]
  },
  {
   "cell_type": "code",
   "execution_count": null,
   "metadata": {
    "collapsed": true
   },
   "outputs": [],
   "source": [
    "class A:\n",
    "    pass\n",
    "class B(A):\n",
    "    pass\n",
    "print (issubclass(A,B))\n",
    "print (issubclass(B,A))#"
   ]
  },
  {
   "cell_type": "markdown",
   "metadata": {},
   "source": [
    "isinstance(object,classinfo) 检查object是否为classinfo的实例对象，如果第一个传入的不是object对象类型，则永远返回false"
   ]
  },
  {
   "cell_type": "code",
   "execution_count": null,
   "metadata": {
    "collapsed": true
   },
   "outputs": [],
   "source": [
    "b1=B()\n",
    "a1=A()\n",
    "print(isinstance(b1,B))\n",
    "print (isinstance(a1,B))"
   ]
  },
  {
   "cell_type": "markdown",
   "metadata": {},
   "source": [
    "## SELF\n",
    "对象元素和方法中都会有self这个关键字，相当于c++的this指针，类相当于是图纸，只有类的对象才是能住的房子，self相当于每个房子的门牌号,定义了self需要对象才能调用\n",
    "> * self需要人为声明一下它的形参，但是在调用时会自动传入\n",
    "* self总是指向传入的**类的实例(对象)**\n",
    "* 使用self必须定义的是类的对象，如果只是单纯的定义了类，则无法使用带有self的方法"
   ]
  },
  {
   "cell_type": "code",
   "execution_count": null,
   "metadata": {
    "collapsed": true
   },
   "outputs": [],
   "source": [
    "class Test:\n",
    "    def prt(self):\n",
    "        print (self)\n",
    "c=Test()\n",
    "print (c)\n",
    "c.prt()#可以看到，self指向的是一个类的对象位置，多次运行可以看到这个地址是会发生改变的"
   ]
  },
  {
   "cell_type": "code",
   "execution_count": null,
   "metadata": {
    "collapsed": true
   },
   "outputs": [],
   "source": [
    "b=Test\n",
    "b.prt()#可以看到程序报错，下面提示缺少参数self"
   ]
  },
  {
   "cell_type": "markdown",
   "metadata": {},
   "source": [
    "> attention!:  ()相当于是call调用，如果将上面的改成b().prt()同样可以输出 "
   ]
  },
  {
   "cell_type": "markdown",
   "metadata": {},
   "source": [
    "再举一个例子来说明这个问题"
   ]
  },
  {
   "cell_type": "code",
   "execution_count": null,
   "metadata": {
    "collapsed": true
   },
   "outputs": [],
   "source": [
    "class test():\n",
    "    def fun1():\n",
    "        print ('fun1')\n",
    "    def fun2():\n",
    "        print ('fun2')\n",
    "a=test()\n",
    "test.fun2()#这样是可以运行的，"
   ]
  },
  {
   "cell_type": "code",
   "execution_count": null,
   "metadata": {
    "collapsed": true
   },
   "outputs": [],
   "source": [
    "class test():\n",
    "    def fun1(self):\n",
    "        print ('fun1')\n",
    "    def fun2(self):\n",
    "        print ('fun2')\n",
    "a=test()\n",
    "test.fun2()#不加括号是不能运行的，提示缺少传入的参数self"
   ]
  },
  {
   "cell_type": "code",
   "execution_count": null,
   "metadata": {
    "collapsed": true
   },
   "outputs": [],
   "source": [
    "class test():\n",
    "    def fun1():\n",
    "        print ('fun1')\n",
    "    def fun2():\n",
    "        print ('fun2')\n",
    "test().fun1()#加括号反而是用不了，因为此处定义的两个都是静态方法，test()相当于传入了参数self，这样会看到下面的报错，提示多传入了一个参数"
   ]
  },
  {
   "cell_type": "code",
   "execution_count": null,
   "metadata": {
    "collapsed": true
   },
   "outputs": [],
   "source": [
    "class test():\n",
    "    def fun1(self):\n",
    "        print ('fun1')\n",
    "    def fun2(self):\n",
    "        test.fun1(self)\n",
    "        print ('fun2')\n",
    "a=test()\n",
    "a.fun2()"
   ]
  },
  {
   "cell_type": "code",
   "execution_count": null,
   "metadata": {
    "collapsed": true
   },
   "outputs": [],
   "source": [
    "class Ball:\n",
    "    def setName(self,name):\n",
    "        self.name=name\n",
    "    def kick(self):\n",
    "        print ('我叫%s'%self.name) \n",
    "a=Ball()\n",
    "a.setName('Ball A')#self自动传入值\n",
    "b=Ball()\n",
    "b.setName('Ball B')\n",
    "b.kick()"
   ]
  },
  {
   "cell_type": "markdown",
   "metadata": {},
   "source": [
    ">在继承时，传入的是那个实例，slef就是哪个实例，而不是根据定义的时候self所属哪个类"
   ]
  },
  {
   "cell_type": "code",
   "execution_count": null,
   "metadata": {
    "collapsed": true
   },
   "outputs": [],
   "source": [
    "class Parent:\n",
    "    def pprt(self):\n",
    "        print (self)\n",
    "class Child(Parent):\n",
    "    def cprt(self):\n",
    "        print (self)\n",
    "c=Child()\n",
    "c.cprt()\n",
    "c.pprt()#可以看到，当调用父类的函数时，print的腾哦你同样是自己c的对象地址\n",
    "p=Parent()\n",
    "p.pprt()"
   ]
  },
  {
   "cell_type": "markdown",
   "metadata": {},
   "source": [
    "## 类的继承与父类方法的重写"
   ]
  },
  {
   "cell_type": "markdown",
   "metadata": {},
   "source": [
    "子类重写父类的方法后，调用子类对象的该方法会自动使用子类的方法，如果子类不重写该方法，将自动调用父类的方法"
   ]
  },
  {
   "cell_type": "code",
   "execution_count": null,
   "metadata": {
    "collapsed": true
   },
   "outputs": [],
   "source": [
    "class Bird:\n",
    "    def __init__(self):\n",
    "        self.hungry=True\n",
    "    def eat(self):\n",
    "        if self.hungry:\n",
    "            print('Aaaaah')\n",
    "            self.hungry=False\n",
    "        else:\n",
    "            print ('No,thanks')\n",
    "class SongBird(Bird):\n",
    "    def __init__(self):\n",
    "        super(SongBird,self).__init__()\n",
    "        self.sound='Squawk'\n",
    "    def sing(self):\n",
    "        print (self.sound)\n",
    "    def eat(self):\n",
    "        if self.hungry:\n",
    "            print('Yummy')\n",
    "            self.hungry=False\n",
    "        else:\n",
    "            print ('No,thanks')\n",
    "sb=SongBird()\n",
    "sb.sing()\n",
    "sb.eat()#子类重写父类存在的eat方法后，调用子类对象会自动使用子类自己的方法\n",
    "sb.hungry"
   ]
  },
  {
   "cell_type": "code",
   "execution_count": null,
   "metadata": {
    "collapsed": true
   },
   "outputs": [],
   "source": [
    "sq=Bird()\n",
    "sq.eat()"
   ]
  },
  {
   "cell_type": "markdown",
   "metadata": {},
   "source": [
    "# 魔法方法\n",
    "如果你的对象实现了这些方法的某一个"
   ]
  },
  {
   "cell_type": "markdown",
   "metadata": {},
   "source": [
    "__init__(self)：         类似构造函数"
   ]
  },
  {
   "cell_type": "code",
   "execution_count": null,
   "metadata": {
    "collapsed": true
   },
   "outputs": [],
   "source": [
    "class Fun():\n",
    "    def __init__(self,name='Dog'):#name=‘  ’默认参数\n",
    "        self.name=name\n",
    "    def kick(self):\n",
    "        print ('My name is %s'%self.name)\n",
    "a=Fun('Koala')\n",
    "a.kick()\n",
    "b=Fun()#如果进行构造函数初始化，就默认使用构造的函数\n",
    "b.kick()"
   ]
  },
  {
   "cell_type": "code",
   "execution_count": null,
   "metadata": {
    "collapsed": true
   },
   "outputs": [],
   "source": [
    "b.kick#不加括号返回的是kick函数的地址"
   ]
  },
  {
   "cell_type": "markdown",
   "metadata": {},
   "source": [
    "## __getitem__()\n",
    "凡是在类中定义了这个__getitem__方法，那么他的实例对象p，可以向这样p[key]取值，当实例对象在p[key]运算时，会调用类中的方法__getitem__()\n",
    "<br/>\n",
    "**想使用索引进行访问元素时，就要在类中定义这个方法__getitem__(self,key)**"
   ]
  },
  {
   "cell_type": "code",
   "execution_count": null,
   "metadata": {
    "collapsed": true
   },
   "outputs": [],
   "source": [
    "class DataBase:\n",
    "    def __init__(self,ID,address):\n",
    "        self.ID=ID\n",
    "        self.address=address\n",
    "        self.address={self.ID:1,self.address:\"192.168.1.1\"}\n",
    "    def __getitem__(self,key):\n",
    "        return key\n",
    "database=DataBase(1,'192.168.1.0')\n",
    "print (database[0])\n"
   ]
  },
  {
   "cell_type": "markdown",
   "metadata": {},
   "source": [
    "## 魔法方法`__name__()`\n",
    "if __name__=='__main__'\n"
   ]
  },
  {
   "cell_type": "code",
   "execution_count": 3,
   "metadata": {},
   "outputs": [
    {
     "name": "stdout",
     "output_type": "stream",
     "text": [
      "aaaaa\n"
     ]
    }
   ],
   "source": [
    "\n",
    "def fun1():\n",
    "    print ('aaaaa')\n",
    "if __name__=='__main__':\n",
    "    fun1()"
   ]
  },
  {
   "cell_type": "code",
   "execution_count": null,
   "metadata": {
    "collapsed": true
   },
   "outputs": [],
   "source": [
    "import "
   ]
  },
  {
   "cell_type": "markdown",
   "metadata": {},
   "source": [
    "# 公有和私有\n",
    "对象无法直接进行访问，需要调用其他的方法进行操作，定义私有化只需要在其名字前面加上双__"
   ]
  },
  {
   "cell_type": "code",
   "execution_count": null,
   "metadata": {
    "collapsed": true
   },
   "outputs": [],
   "source": [
    "class Person:\n",
    "    __name='WDD'#私有属性\n",
    "    def get_name(self):\n",
    "        return self.__name\n",
    "p=Person()\n",
    "p.get_name()\n"
   ]
  },
  {
   "cell_type": "code",
   "execution_count": null,
   "metadata": {
    "collapsed": true
   },
   "outputs": [],
   "source": [
    "class Secretive:\n",
    "    def __inaccess(self):#私有方法\n",
    "        print ('Bet you cant see me')\n",
    "    def accessible(self):\n",
    "        print (\"the secret message is:\")\n",
    "        self.__inaccess()\n",
    "s=Secretive()\n",
    "s.accessible()"
   ]
  },
  {
   "cell_type": "markdown",
   "metadata": {},
   "source": [
    "# 参数收集\n"
   ]
  },
  {
   "cell_type": "code",
   "execution_count": null,
   "metadata": {
    "collapsed": true
   },
   "outputs": [],
   "source": [
    "def print_params_4(x,y,z,*pospar,**keypar):\n",
    "    print (x,y,z)\n",
    "    print (pospar)\n",
    "    print (keypar)\n",
    "print_params_4(1,2,3,4,5,6,6,foo=1,bar=2)\n"
   ]
  },
  {
   "cell_type": "code",
   "execution_count": null,
   "metadata": {
    "collapsed": true
   },
   "outputs": [],
   "source": [
    "def store(data,*full_names):\n",
    "    for full_name in full_names:\n",
    "        names=full_name.split()\n",
    "        if  len(names)==2:names.insert(1,'')\n",
    "            labels=('first','middle','last')\n",
    "            for label,name in zip(labels,names):\n",
    "                people=lookup(data,label,name)\n",
    "                if people:\n",
    "                    people.append(full_name)\n",
    "                else:\n",
    "                    data[label][name]=full_name"
   ]
  },
  {
   "cell_type": "markdown",
   "metadata": {},
   "source": [
    "# 参数收集的逆过程\n",
    "也可以使用* **   进行相反的操作"
   ]
  },
  {
   "cell_type": "code",
   "execution_count": null,
   "metadata": {
    "collapsed": true
   },
   "outputs": [],
   "source": [
    "def add(x,y): return x+y\n",
    "params=(1,2)\n",
    "add(*params)#将元组返回成 形参的形式"
   ]
  },
  {
   "cell_type": "code",
   "execution_count": null,
   "metadata": {
    "collapsed": true
   },
   "outputs": [],
   "source": [
    "def story(**kwds):\n",
    "    return 'once upon a time,there was a '\\\n",
    "            '%(job)s called %(name)s. '%kwds#在此处定义的\n",
    "story(job='ok',name='wdd')#实参名字要与下面的参数对应才能够正确的北市别玩\n",
    "def power(x,y,*others):\n",
    "    if others:\n",
    "        print ('Received redundant parameters:',others)\n",
    "    return pow(x,y)\n",
    "def interval(start,stop=None,step=1):\n",
    "    if stop is None:\n",
    "        start,stop=0,start\n",
    "    result=[]\n",
    "    i=start\n",
    "    while i<=stop:\n",
    "        result.append(i)\n",
    "        i+=step\n",
    "    return result\n",
    "story(job='king',name='Gumby')\n",
    "params={'job':'language','name':'Robin'}\n",
    "story(**params)#用双星表示参数的逆过程，对应参数的**kwds\n",
    "print(interval(1,13,3))\n",
    "print (interval(10))\n",
    "print (interval(1,10))"
   ]
  },
  {
   "cell_type": "markdown",
   "metadata": {},
   "source": [
    "# 对象的魔力\n",
    "多态"
   ]
  },
  {
   "cell_type": "markdown",
   "metadata": {},
   "source": [
    "# lambda表达式\n",
    "返回一个没有名字的函数**对象指针**，用完之后会自动删除函数资源\n",
    ">注意：lambda只是一个单纯的函数计算式，没有迭代功能，如果需要迭代需要结合map函数一起使用，相当于将输入的参数进行加工处理并返回值"
   ]
  },
  {
   "cell_type": "code",
   "execution_count": null,
   "metadata": {
    "collapsed": true
   },
   "outputs": [],
   "source": [
    "def ds(x):\n",
    "    return 2*x+1\n",
    "g=lambda x: 2*x+1#相当于构建了一个函数对象,返回函数的指针，x相当于是输入的参数\n",
    "print (g(5))#直接调用g（5）的输出会被下面的覆盖掉，用print可以都打印出来\n",
    "\n",
    "g=lambda x,y:x+y\n",
    "print (g(4,6))"
   ]
  },
  {
   "cell_type": "markdown",
   "metadata": {},
   "source": [
    "* 用python写一些脚本时，使用lambda就可以剩下定义函数的过程，比如说我们只是学要写一个简单的脚本，就不需要专门去定义一个函数然后写调用，使用lambda可以使代码更简洁。\n",
    "* 对于一些比较抽象泵且整个程序执行下来只需要调用一两次的函数，有时候给函数起个名字就会很头疼\n",
    "* 简化代码的可读性，一目了然"
   ]
  },
  {
   "cell_type": "markdown",
   "metadata": {},
   "source": [
    "## filter\n",
    "过滤器，filter(func,*iterable) 根据func条件从iterable中过滤出True的元素"
   ]
  },
  {
   "cell_type": "code",
   "execution_count": null,
   "metadata": {
    "collapsed": true
   },
   "outputs": [],
   "source": [
    "t=lambda x:x%2 #筛选出奇数\n",
    "a=range(1,10)\n",
    "a=filter(t,a)#返回迭代器中元素经过fun后返回值为TRUE的元素\n",
    "print(a)\n",
    "list(a)"
   ]
  },
  {
   "cell_type": "markdown",
   "metadata": {},
   "source": [
    "# map 映射\n",
    "map(func,*iterables)\n",
    "将迭代器的每一个元素当作func函数的参数进行加工,最后返回一个序列\n",
    "对应每个函数"
   ]
  },
  {
   "cell_type": "code",
   "execution_count": null,
   "metadata": {
    "collapsed": true
   },
   "outputs": [],
   "source": [
    "list(map(lambda x:x*2,range(10)))"
   ]
  },
  {
   "cell_type": "markdown",
   "metadata": {},
   "source": [
    "# 模块\n",
    "模块的后缀为.py，模块就是一个py文件\n",
    "在`import 小明`的时候，要保证当前文件与被导入的模块(小明),在同一路径下，否则需要修改python默认搜索环境变量才能导入相应的模块<br/>\n",
    "```math\n",
    "$$\\int f(x)dx$$\n",
    "```"
   ]
  },
  {
   "cell_type": "code",
   "execution_count": null,
   "metadata": {
    "collapsed": true
   },
   "outputs": [],
   "source": [
    "#a.py\n",
    "def fun1():\n",
    "    print ('hello')\n",
    "    return \n",
    "class A:\n",
    "    def fun1():\n",
    "        return\n",
    "#b.py\n",
    "import a\n",
    "a.fun1()#导入相应模块后，需要加模块前缀才能调用此模块\n",
    "#\n",
    "from a import fun1()\n",
    "fun1()#这样可以直接调用fun1()\n"
   ]
  },
  {
   "cell_type": "markdown",
   "metadata": {},
   "source": [
    "## os模块\n",
    "操作系统windows，Mac OS,Linux,UNIX不同的操作系统使用了不同的文件系统模块，python是跨平台的语言，可以在不同的操作操作系统中调用文件系统"
   ]
  },
  {
   "cell_type": "code",
   "execution_count": null,
   "metadata": {
    "collapsed": true
   },
   "outputs": [],
   "source": [
    "import os\n",
    "os.getcwd()#返回当前的工作路径\n",
    "os.mkdir('/home/wdd/MyPython')#创建目录，注意里面的路径要用字符串\n",
    "os.rmdir('/home/wdd/MyPython')#删除目录，注意里面得路径要用字符串\n",
    "os.remove('/home/wdd/MyPython/t.txt')#删除目录下的文件"
   ]
  },
  {
   "cell_type": "markdown",
   "metadata": {},
   "source": [
    "### split()方法\n",
    "通过制定字符串进行切片\n",
    "str.split('分隔符号')"
   ]
  },
  {
   "cell_type": "code",
   "execution_count": 17,
   "metadata": {
    "collapsed": true
   },
   "outputs": [],
   "source": [
    "import shutil\n",
    "import glob\n",
    "import scipy.ndimage\n",
    "import os\n",
    "import scipy.ndimage"
   ]
  },
  {
   "cell_type": "code",
   "execution_count": 24,
   "metadata": {},
   "outputs": [
    {
     "data": {
      "text/plain": [
       "array([[[14, 13, 12, 10,  9,  8],\n",
       "        [15, 15, 14, 13, 12, 12],\n",
       "        [17, 17, 18, 19, 20, 20],\n",
       "        [19, 20, 23, 27, 29, 31],\n",
       "        [21, 23, 28, 33, 37, 39],\n",
       "        [22, 24, 29, 36, 41, 43]],\n",
       "\n",
       "       [[15, 14, 12, 10,  9,  8],\n",
       "        [16, 16, 14, 13, 12, 11],\n",
       "        [19, 19, 19, 19, 19, 19],\n",
       "        [23, 23, 25, 26, 27, 28],\n",
       "        [26, 27, 29, 32, 35, 36],\n",
       "        [27, 29, 31, 35, 38, 39]],\n",
       "\n",
       "       [[17, 16, 13, 11,  8,  7],\n",
       "        [19, 18, 16, 13, 11, 10],\n",
       "        [25, 24, 21, 18, 16, 15],\n",
       "        [32, 31, 28, 25, 22, 21],\n",
       "        [38, 36, 34, 30, 28, 27],\n",
       "        [40, 39, 36, 33, 30, 29]],\n",
       "\n",
       "       [[19, 18, 15, 11,  8,  7],\n",
       "        [23, 21, 18, 13,  9,  8],\n",
       "        [32, 30, 24, 18, 13, 10],\n",
       "        [42, 39, 32, 24, 16, 13],\n",
       "        [51, 48, 39, 28, 20, 16],\n",
       "        [55, 51, 42, 30, 21, 17]],\n",
       "\n",
       "       [[21, 20, 16, 11,  8,  6],\n",
       "        [26, 24, 19, 13,  8,  6],\n",
       "        [38, 34, 27, 17, 10,  7],\n",
       "        [51, 47, 36, 22, 11,  7],\n",
       "        [63, 57, 43, 27, 13,  7],\n",
       "        [68, 61, 46, 28, 13,  7]],\n",
       "\n",
       "       [[22, 20, 16, 12,  8,  6],\n",
       "        [27, 25, 20, 13,  8,  6],\n",
       "        [40, 36, 28, 17,  9,  5],\n",
       "        [55, 50, 37, 22,  9,  4],\n",
       "        [68, 61, 45, 26, 10,  3],\n",
       "        [73, 66, 48, 28, 10,  3]]])"
      ]
     },
     "execution_count": 24,
     "metadata": {},
     "output_type": "execute_result"
    }
   ],
   "source": [
    "import numpy as np\n",
    "label=np.random.randint(0,100,(6,6,6))\n",
    "input=scipy.ndimage.interpolation.zoom(label,1/3)\n",
    "input=scipy.ndimage.interpolation.zoom(input,3)\n",
    "input\n"
   ]
  },
  {
   "cell_type": "code",
   "execution_count": 15,
   "metadata": {},
   "outputs": [
    {
     "name": "stdout",
     "output_type": "stream",
     "text": [
      "/home/wdd/3DSRCNN Dataset/train1/0279.bmp\n",
      "/home/wdd/3DSRCNN Dataset/train1/0109.bmp\n",
      "/home/wdd/3DSRCNN Dataset/train1/0269.bmp\n",
      "/home/wdd/3DSRCNN Dataset/train1/0175.bmp\n",
      "/home/wdd/3DSRCNN Dataset/train1/0203.bmp\n",
      "/home/wdd/3DSRCNN Dataset/train1/0274.bmp\n",
      "/home/wdd/3DSRCNN Dataset/train1/0133.bmp\n",
      "/home/wdd/3DSRCNN Dataset/train1/0385.bmp\n",
      "/home/wdd/3DSRCNN Dataset/train1/0195.bmp\n",
      "/home/wdd/3DSRCNN Dataset/train1/0243.bmp\n",
      "/home/wdd/3DSRCNN Dataset/train1/0211.bmp\n",
      "/home/wdd/3DSRCNN Dataset/train1/0072.bmp\n",
      "/home/wdd/3DSRCNN Dataset/train1/0069.bmp\n",
      "/home/wdd/3DSRCNN Dataset/train1/0135.bmp\n",
      "/home/wdd/3DSRCNN Dataset/train1/0361.bmp\n",
      "/home/wdd/3DSRCNN Dataset/train1/0143.bmp\n",
      "/home/wdd/3DSRCNN Dataset/train1/0246.bmp\n",
      "/home/wdd/3DSRCNN Dataset/train1/0031.bmp\n",
      "/home/wdd/3DSRCNN Dataset/train1/0018.bmp\n",
      "/home/wdd/3DSRCNN Dataset/train1/0230.bmp\n",
      "/home/wdd/3DSRCNN Dataset/train1/0194.bmp\n",
      "/home/wdd/3DSRCNN Dataset/train1/0281.bmp\n",
      "/home/wdd/3DSRCNN Dataset/train1/0205.bmp\n",
      "/home/wdd/3DSRCNN Dataset/train1/0121.bmp\n",
      "/home/wdd/3DSRCNN Dataset/train1/0034.bmp\n",
      "/home/wdd/3DSRCNN Dataset/train1/0091.bmp\n",
      "/home/wdd/3DSRCNN Dataset/train1/0057.bmp\n",
      "/home/wdd/3DSRCNN Dataset/train1/0160.bmp\n",
      "/home/wdd/3DSRCNN Dataset/train1/0291.bmp\n",
      "/home/wdd/3DSRCNN Dataset/train1/0056.bmp\n",
      "/home/wdd/3DSRCNN Dataset/train1/0108.bmp\n",
      "/home/wdd/3DSRCNN Dataset/train1/0362.bmp\n",
      "/home/wdd/3DSRCNN Dataset/train1/0208.bmp\n",
      "/home/wdd/3DSRCNN Dataset/train1/0282.bmp\n",
      "/home/wdd/3DSRCNN Dataset/train1/0215.bmp\n",
      "/home/wdd/3DSRCNN Dataset/train1/0391.bmp\n",
      "/home/wdd/3DSRCNN Dataset/train1/0123.bmp\n",
      "/home/wdd/3DSRCNN Dataset/train1/0145.bmp\n",
      "/home/wdd/3DSRCNN Dataset/train1/0036.bmp\n",
      "/home/wdd/3DSRCNN Dataset/train1/0367.bmp\n",
      "/home/wdd/3DSRCNN Dataset/train1/0038.bmp\n",
      "/home/wdd/3DSRCNN Dataset/train1/0182.bmp\n",
      "/home/wdd/3DSRCNN Dataset/train1/0045.bmp\n",
      "/home/wdd/3DSRCNN Dataset/train1/0080.bmp\n",
      "/home/wdd/3DSRCNN Dataset/train1/0043.bmp\n",
      "/home/wdd/3DSRCNN Dataset/train1/0022.bmp\n",
      "/home/wdd/3DSRCNN Dataset/train1/0132.bmp\n",
      "/home/wdd/3DSRCNN Dataset/train1/0193.bmp\n",
      "/home/wdd/3DSRCNN Dataset/train1/0278.bmp\n",
      "/home/wdd/3DSRCNN Dataset/train1/0178.bmp\n",
      "/home/wdd/3DSRCNN Dataset/train1/0267.bmp\n",
      "/home/wdd/3DSRCNN Dataset/train1/0017.bmp\n",
      "/home/wdd/3DSRCNN Dataset/train1/0085.bmp\n",
      "/home/wdd/3DSRCNN Dataset/train1/0159.bmp\n",
      "/home/wdd/3DSRCNN Dataset/train1/0213.bmp\n",
      "/home/wdd/3DSRCNN Dataset/train1/0260.bmp\n",
      "/home/wdd/3DSRCNN Dataset/train1/0386.bmp\n",
      "/home/wdd/3DSRCNN Dataset/train1/0120.bmp\n",
      "/home/wdd/3DSRCNN Dataset/train1/0388.bmp\n",
      "/home/wdd/3DSRCNN Dataset/train1/0286.bmp\n",
      "/home/wdd/3DSRCNN Dataset/train1/0240.bmp\n",
      "/home/wdd/3DSRCNN Dataset/train1/0058.bmp\n",
      "/home/wdd/3DSRCNN Dataset/train1/0146.bmp\n",
      "/home/wdd/3DSRCNN Dataset/train1/0341.bmp\n",
      "/home/wdd/3DSRCNN Dataset/train1/0377.bmp\n",
      "/home/wdd/3DSRCNN Dataset/train1/0165.bmp\n",
      "/home/wdd/3DSRCNN Dataset/train1/0103.bmp\n",
      "/home/wdd/3DSRCNN Dataset/train1/0097.bmp\n",
      "/home/wdd/3DSRCNN Dataset/train1/0383.bmp\n",
      "/home/wdd/3DSRCNN Dataset/train1/0007.bmp\n",
      "/home/wdd/3DSRCNN Dataset/train1/0387.bmp\n",
      "/home/wdd/3DSRCNN Dataset/train1/0251.bmp\n",
      "/home/wdd/3DSRCNN Dataset/train1/0204.bmp\n",
      "/home/wdd/3DSRCNN Dataset/train1/0098.bmp\n",
      "/home/wdd/3DSRCNN Dataset/train1/0252.bmp\n",
      "/home/wdd/3DSRCNN Dataset/train1/0149.bmp\n",
      "/home/wdd/3DSRCNN Dataset/train1/0171.bmp\n",
      "/home/wdd/3DSRCNN Dataset/train1/0307.bmp\n",
      "/home/wdd/3DSRCNN Dataset/train1/0089.bmp\n",
      "/home/wdd/3DSRCNN Dataset/train1/0305.bmp\n",
      "/home/wdd/3DSRCNN Dataset/train1/0226.bmp\n",
      "/home/wdd/3DSRCNN Dataset/train1/0395.bmp\n",
      "/home/wdd/3DSRCNN Dataset/train1/0289.bmp\n",
      "/home/wdd/3DSRCNN Dataset/train1/0153.bmp\n",
      "/home/wdd/3DSRCNN Dataset/train1/0148.bmp\n",
      "/home/wdd/3DSRCNN Dataset/train1/0290.bmp\n",
      "/home/wdd/3DSRCNN Dataset/train1/0337.bmp\n",
      "/home/wdd/3DSRCNN Dataset/train1/0241.bmp\n",
      "/home/wdd/3DSRCNN Dataset/train1/0349.bmp\n",
      "/home/wdd/3DSRCNN Dataset/train1/0310.bmp\n",
      "/home/wdd/3DSRCNN Dataset/train1/0353.bmp\n",
      "/home/wdd/3DSRCNN Dataset/train1/0218.bmp\n",
      "/home/wdd/3DSRCNN Dataset/train1/0201.bmp\n",
      "/home/wdd/3DSRCNN Dataset/train1/0325.bmp\n",
      "/home/wdd/3DSRCNN Dataset/train1/0150.bmp\n",
      "/home/wdd/3DSRCNN Dataset/train1/0321.bmp\n",
      "/home/wdd/3DSRCNN Dataset/train1/0167.bmp\n",
      "/home/wdd/3DSRCNN Dataset/train1/0164.bmp\n",
      "/home/wdd/3DSRCNN Dataset/train1/0138.bmp\n",
      "/home/wdd/3DSRCNN Dataset/train1/0122.bmp\n",
      "/home/wdd/3DSRCNN Dataset/train1/0024.bmp\n",
      "/home/wdd/3DSRCNN Dataset/train1/0140.bmp\n",
      "/home/wdd/3DSRCNN Dataset/train1/0247.bmp\n",
      "/home/wdd/3DSRCNN Dataset/train1/0249.bmp\n",
      "/home/wdd/3DSRCNN Dataset/train1/0268.bmp\n",
      "/home/wdd/3DSRCNN Dataset/train1/0255.bmp\n",
      "/home/wdd/3DSRCNN Dataset/train1/0051.bmp\n",
      "/home/wdd/3DSRCNN Dataset/train1/0312.bmp\n",
      "/home/wdd/3DSRCNN Dataset/train1/0327.bmp\n",
      "/home/wdd/3DSRCNN Dataset/train1/0301.bmp\n",
      "/home/wdd/3DSRCNN Dataset/train1/0117.bmp\n",
      "/home/wdd/3DSRCNN Dataset/train1/0093.bmp\n",
      "/home/wdd/3DSRCNN Dataset/train1/0254.bmp\n",
      "/home/wdd/3DSRCNN Dataset/train1/0087.bmp\n",
      "/home/wdd/3DSRCNN Dataset/train1/0317.bmp\n",
      "/home/wdd/3DSRCNN Dataset/train1/0141.bmp\n",
      "/home/wdd/3DSRCNN Dataset/train1/0177.bmp\n",
      "/home/wdd/3DSRCNN Dataset/train1/0185.bmp\n",
      "/home/wdd/3DSRCNN Dataset/train1/0095.bmp\n",
      "/home/wdd/3DSRCNN Dataset/train1/0228.bmp\n",
      "/home/wdd/3DSRCNN Dataset/train1/0253.bmp\n",
      "/home/wdd/3DSRCNN Dataset/train1/0151.bmp\n",
      "/home/wdd/3DSRCNN Dataset/train1/0003.bmp\n",
      "/home/wdd/3DSRCNN Dataset/train1/0092.bmp\n",
      "/home/wdd/3DSRCNN Dataset/train1/0343.bmp\n",
      "/home/wdd/3DSRCNN Dataset/train1/0082.bmp\n",
      "/home/wdd/3DSRCNN Dataset/train1/0191.bmp\n",
      "/home/wdd/3DSRCNN Dataset/train1/0033.bmp\n",
      "/home/wdd/3DSRCNN Dataset/train1/0113.bmp\n",
      "/home/wdd/3DSRCNN Dataset/train1/0063.bmp\n",
      "/home/wdd/3DSRCNN Dataset/train1/0314.bmp\n",
      "/home/wdd/3DSRCNN Dataset/train1/0392.bmp\n",
      "/home/wdd/3DSRCNN Dataset/train1/0147.bmp\n",
      "/home/wdd/3DSRCNN Dataset/train1/0040.bmp\n",
      "/home/wdd/3DSRCNN Dataset/train1/0304.bmp\n",
      "/home/wdd/3DSRCNN Dataset/train1/0350.bmp\n",
      "/home/wdd/3DSRCNN Dataset/train1/0285.bmp\n",
      "/home/wdd/3DSRCNN Dataset/train1/0352.bmp\n",
      "/home/wdd/3DSRCNN Dataset/train1/0173.bmp\n",
      "/home/wdd/3DSRCNN Dataset/train1/0114.bmp\n",
      "/home/wdd/3DSRCNN Dataset/train1/0363.bmp\n",
      "/home/wdd/3DSRCNN Dataset/train1/0326.bmp\n",
      "/home/wdd/3DSRCNN Dataset/train1/0336.bmp\n",
      "/home/wdd/3DSRCNN Dataset/train1/0014.bmp\n",
      "/home/wdd/3DSRCNN Dataset/train1/0111.bmp\n",
      "/home/wdd/3DSRCNN Dataset/train1/0162.bmp\n",
      "/home/wdd/3DSRCNN Dataset/train1/0384.bmp\n",
      "/home/wdd/3DSRCNN Dataset/train1/0256.bmp\n",
      "/home/wdd/3DSRCNN Dataset/train1/0046.bmp\n",
      "/home/wdd/3DSRCNN Dataset/train1/0020.bmp\n",
      "/home/wdd/3DSRCNN Dataset/train1/0163.bmp\n",
      "/home/wdd/3DSRCNN Dataset/train1/0225.bmp\n",
      "/home/wdd/3DSRCNN Dataset/train1/0302.bmp\n",
      "/home/wdd/3DSRCNN Dataset/train1/0016.bmp\n",
      "/home/wdd/3DSRCNN Dataset/train1/0342.bmp\n",
      "/home/wdd/3DSRCNN Dataset/train1/0270.bmp\n",
      "/home/wdd/3DSRCNN Dataset/train1/0015.bmp\n",
      "/home/wdd/3DSRCNN Dataset/train1/0239.bmp\n",
      "/home/wdd/3DSRCNN Dataset/train1/0070.bmp\n",
      "/home/wdd/3DSRCNN Dataset/train1/0319.bmp\n",
      "/home/wdd/3DSRCNN Dataset/train1/0071.bmp\n",
      "/home/wdd/3DSRCNN Dataset/train1/0032.bmp\n",
      "/home/wdd/3DSRCNN Dataset/train1/0155.bmp\n",
      "/home/wdd/3DSRCNN Dataset/train1/0102.bmp\n",
      "/home/wdd/3DSRCNN Dataset/train1/0130.bmp\n",
      "/home/wdd/3DSRCNN Dataset/train1/0129.bmp\n",
      "/home/wdd/3DSRCNN Dataset/train1/0339.bmp\n",
      "/home/wdd/3DSRCNN Dataset/train1/0340.bmp\n",
      "/home/wdd/3DSRCNN Dataset/train1/0348.bmp\n",
      "/home/wdd/3DSRCNN Dataset/train1/0364.bmp\n",
      "/home/wdd/3DSRCNN Dataset/train1/0116.bmp\n",
      "/home/wdd/3DSRCNN Dataset/train1/0030.bmp\n",
      "/home/wdd/3DSRCNN Dataset/train1/0284.bmp\n",
      "/home/wdd/3DSRCNN Dataset/train1/0273.bmp\n",
      "/home/wdd/3DSRCNN Dataset/train1/0049.bmp\n",
      "/home/wdd/3DSRCNN Dataset/train1/0300.bmp\n",
      "/home/wdd/3DSRCNN Dataset/train1/0335.bmp\n",
      "/home/wdd/3DSRCNN Dataset/train1/0081.bmp\n",
      "/home/wdd/3DSRCNN Dataset/train1/0245.bmp\n",
      "/home/wdd/3DSRCNN Dataset/train1/0306.bmp\n",
      "/home/wdd/3DSRCNN Dataset/train1/0323.bmp\n",
      "/home/wdd/3DSRCNN Dataset/train1/0023.bmp\n",
      "/home/wdd/3DSRCNN Dataset/train1/0028.bmp\n",
      "/home/wdd/3DSRCNN Dataset/train1/0206.bmp\n",
      "/home/wdd/3DSRCNN Dataset/train1/0083.bmp\n",
      "/home/wdd/3DSRCNN Dataset/train1/0373.bmp\n",
      "/home/wdd/3DSRCNN Dataset/train1/0174.bmp\n",
      "/home/wdd/3DSRCNN Dataset/train1/0157.bmp\n",
      "/home/wdd/3DSRCNN Dataset/train1/0179.bmp\n",
      "/home/wdd/3DSRCNN Dataset/train1/0216.bmp\n",
      "/home/wdd/3DSRCNN Dataset/train1/0334.bmp\n",
      "/home/wdd/3DSRCNN Dataset/train1/0074.bmp\n",
      "/home/wdd/3DSRCNN Dataset/train1/0398.bmp\n",
      "/home/wdd/3DSRCNN Dataset/train1/0219.bmp\n",
      "/home/wdd/3DSRCNN Dataset/train1/0166.bmp\n",
      "/home/wdd/3DSRCNN Dataset/train1/0217.bmp\n",
      "/home/wdd/3DSRCNN Dataset/train1/0047.bmp\n",
      "/home/wdd/3DSRCNN Dataset/train1/0276.bmp\n",
      "/home/wdd/3DSRCNN Dataset/train1/0303.bmp\n",
      "/home/wdd/3DSRCNN Dataset/train1/0197.bmp\n",
      "/home/wdd/3DSRCNN Dataset/train1/0318.bmp\n",
      "/home/wdd/3DSRCNN Dataset/train1/0271.bmp\n",
      "/home/wdd/3DSRCNN Dataset/train1/0366.bmp\n",
      "/home/wdd/3DSRCNN Dataset/train1/0347.bmp\n",
      "/home/wdd/3DSRCNN Dataset/train1/0139.bmp\n",
      "/home/wdd/3DSRCNN Dataset/train1/0235.bmp\n",
      "/home/wdd/3DSRCNN Dataset/train1/0316.bmp\n",
      "/home/wdd/3DSRCNN Dataset/train1/0344.bmp\n",
      "/home/wdd/3DSRCNN Dataset/train1/0196.bmp\n",
      "/home/wdd/3DSRCNN Dataset/train1/0012.bmp\n",
      "/home/wdd/3DSRCNN Dataset/train1/0394.bmp\n",
      "/home/wdd/3DSRCNN Dataset/train1/0399.bmp\n",
      "/home/wdd/3DSRCNN Dataset/train1/0371.bmp\n",
      "/home/wdd/3DSRCNN Dataset/train1/0264.bmp\n",
      "/home/wdd/3DSRCNN Dataset/train1/0107.bmp\n",
      "/home/wdd/3DSRCNN Dataset/train1/0199.bmp\n",
      "/home/wdd/3DSRCNN Dataset/train1/0041.bmp\n",
      "/home/wdd/3DSRCNN Dataset/train1/0079.bmp\n",
      "/home/wdd/3DSRCNN Dataset/train1/0313.bmp\n",
      "/home/wdd/3DSRCNN Dataset/train1/0054.bmp\n",
      "/home/wdd/3DSRCNN Dataset/train1/0202.bmp\n",
      "/home/wdd/3DSRCNN Dataset/train1/0296.bmp\n",
      "/home/wdd/3DSRCNN Dataset/train1/0212.bmp\n",
      "/home/wdd/3DSRCNN Dataset/train1/0169.bmp\n",
      "/home/wdd/3DSRCNN Dataset/train1/0035.bmp\n",
      "/home/wdd/3DSRCNN Dataset/train1/0055.bmp\n",
      "/home/wdd/3DSRCNN Dataset/train1/0356.bmp\n",
      "/home/wdd/3DSRCNN Dataset/train1/0187.bmp\n",
      "/home/wdd/3DSRCNN Dataset/train1/0389.bmp\n",
      "/home/wdd/3DSRCNN Dataset/train1/0168.bmp\n",
      "/home/wdd/3DSRCNN Dataset/train1/0280.bmp\n",
      "/home/wdd/3DSRCNN Dataset/train1/0231.bmp\n",
      "/home/wdd/3DSRCNN Dataset/train1/0021.bmp\n",
      "/home/wdd/3DSRCNN Dataset/train1/0234.bmp\n",
      "/home/wdd/3DSRCNN Dataset/train1/0257.bmp\n",
      "/home/wdd/3DSRCNN Dataset/train1/0067.bmp\n",
      "/home/wdd/3DSRCNN Dataset/train1/0360.bmp\n",
      "/home/wdd/3DSRCNN Dataset/train1/0357.bmp\n",
      "/home/wdd/3DSRCNN Dataset/train1/0064.bmp\n",
      "/home/wdd/3DSRCNN Dataset/train1/0315.bmp\n",
      "/home/wdd/3DSRCNN Dataset/train1/0400.bmp\n",
      "/home/wdd/3DSRCNN Dataset/train1/0188.bmp\n",
      "/home/wdd/3DSRCNN Dataset/train1/0011.bmp\n",
      "/home/wdd/3DSRCNN Dataset/train1/0338.bmp\n",
      "/home/wdd/3DSRCNN Dataset/train1/0390.bmp\n",
      "/home/wdd/3DSRCNN Dataset/train1/0244.bmp\n",
      "/home/wdd/3DSRCNN Dataset/train1/0073.bmp\n",
      "/home/wdd/3DSRCNN Dataset/train1/0065.bmp\n",
      "/home/wdd/3DSRCNN Dataset/train1/0330.bmp\n",
      "/home/wdd/3DSRCNN Dataset/train1/0090.bmp\n",
      "/home/wdd/3DSRCNN Dataset/train1/0396.bmp\n",
      "/home/wdd/3DSRCNN Dataset/train1/0053.bmp\n",
      "/home/wdd/3DSRCNN Dataset/train1/0250.bmp\n",
      "/home/wdd/3DSRCNN Dataset/train1/0027.bmp\n",
      "/home/wdd/3DSRCNN Dataset/train1/0198.bmp\n",
      "/home/wdd/3DSRCNN Dataset/train1/0346.bmp\n",
      "/home/wdd/3DSRCNN Dataset/train1/0221.bmp\n",
      "/home/wdd/3DSRCNN Dataset/train1/0048.bmp\n",
      "/home/wdd/3DSRCNN Dataset/train1/0100.bmp\n",
      "/home/wdd/3DSRCNN Dataset/train1/0263.bmp\n",
      "/home/wdd/3DSRCNN Dataset/train1/0297.bmp\n",
      "/home/wdd/3DSRCNN Dataset/train1/0374.bmp\n",
      "/home/wdd/3DSRCNN Dataset/train1/0272.bmp\n",
      "/home/wdd/3DSRCNN Dataset/train1/0029.bmp\n",
      "/home/wdd/3DSRCNN Dataset/train1/0222.bmp\n",
      "/home/wdd/3DSRCNN Dataset/train1/0170.bmp\n",
      "/home/wdd/3DSRCNN Dataset/train1/0009.bmp\n",
      "/home/wdd/3DSRCNN Dataset/train1/0096.bmp\n",
      "/home/wdd/3DSRCNN Dataset/train1/0076.bmp\n",
      "/home/wdd/3DSRCNN Dataset/train1/0190.bmp\n",
      "/home/wdd/3DSRCNN Dataset/train1/0382.bmp\n",
      "/home/wdd/3DSRCNN Dataset/train1/0277.bmp\n",
      "/home/wdd/3DSRCNN Dataset/train1/0180.bmp\n",
      "/home/wdd/3DSRCNN Dataset/train1/0283.bmp\n",
      "/home/wdd/3DSRCNN Dataset/train1/0005.bmp\n",
      "/home/wdd/3DSRCNN Dataset/train1/0059.bmp\n",
      "/home/wdd/3DSRCNN Dataset/train1/0105.bmp\n",
      "/home/wdd/3DSRCNN Dataset/train1/0275.bmp\n",
      "/home/wdd/3DSRCNN Dataset/train1/0288.bmp\n",
      "/home/wdd/3DSRCNN Dataset/train1/0127.bmp\n",
      "/home/wdd/3DSRCNN Dataset/train1/0124.bmp\n",
      "/home/wdd/3DSRCNN Dataset/train1/0381.bmp\n",
      "/home/wdd/3DSRCNN Dataset/train1/0013.bmp\n",
      "/home/wdd/3DSRCNN Dataset/train1/0075.bmp\n",
      "/home/wdd/3DSRCNN Dataset/train1/0354.bmp\n",
      "/home/wdd/3DSRCNN Dataset/train1/0142.bmp\n",
      "/home/wdd/3DSRCNN Dataset/train1/0345.bmp\n",
      "/home/wdd/3DSRCNN Dataset/train1/0265.bmp\n",
      "/home/wdd/3DSRCNN Dataset/train1/0128.bmp\n",
      "/home/wdd/3DSRCNN Dataset/train1/0365.bmp\n",
      "/home/wdd/3DSRCNN Dataset/train1/0154.bmp\n",
      "/home/wdd/3DSRCNN Dataset/train1/0112.bmp\n",
      "/home/wdd/3DSRCNN Dataset/train1/0287.bmp\n",
      "/home/wdd/3DSRCNN Dataset/train1/0370.bmp\n",
      "/home/wdd/3DSRCNN Dataset/train1/0294.bmp\n",
      "/home/wdd/3DSRCNN Dataset/train1/0248.bmp\n",
      "/home/wdd/3DSRCNN Dataset/train1/0172.bmp\n",
      "/home/wdd/3DSRCNN Dataset/train1/0210.bmp\n",
      "/home/wdd/3DSRCNN Dataset/train1/0004.bmp\n",
      "/home/wdd/3DSRCNN Dataset/train1/0229.bmp\n",
      "/home/wdd/3DSRCNN Dataset/train1/0156.bmp\n",
      "/home/wdd/3DSRCNN Dataset/train1/0368.bmp\n",
      "/home/wdd/3DSRCNN Dataset/train1/0207.bmp\n",
      "/home/wdd/3DSRCNN Dataset/train1/0181.bmp\n",
      "/home/wdd/3DSRCNN Dataset/train1/0068.bmp\n",
      "/home/wdd/3DSRCNN Dataset/train1/0299.bmp\n",
      "/home/wdd/3DSRCNN Dataset/train1/0372.bmp\n",
      "/home/wdd/3DSRCNN Dataset/train1/0358.bmp\n",
      "/home/wdd/3DSRCNN Dataset/train1/0050.bmp\n",
      "/home/wdd/3DSRCNN Dataset/train1/0328.bmp\n",
      "/home/wdd/3DSRCNN Dataset/train1/0224.bmp\n",
      "/home/wdd/3DSRCNN Dataset/train1/0077.bmp\n",
      "/home/wdd/3DSRCNN Dataset/train1/0118.bmp\n",
      "/home/wdd/3DSRCNN Dataset/train1/0376.bmp\n",
      "/home/wdd/3DSRCNN Dataset/train1/0019.bmp\n",
      "/home/wdd/3DSRCNN Dataset/train1/0183.bmp\n",
      "/home/wdd/3DSRCNN Dataset/train1/0295.bmp\n",
      "/home/wdd/3DSRCNN Dataset/train1/0292.bmp\n",
      "/home/wdd/3DSRCNN Dataset/train1/0052.bmp\n",
      "/home/wdd/3DSRCNN Dataset/train1/0158.bmp\n",
      "/home/wdd/3DSRCNN Dataset/train1/0101.bmp\n",
      "/home/wdd/3DSRCNN Dataset/train1/0184.bmp\n",
      "/home/wdd/3DSRCNN Dataset/train1/0060.bmp\n",
      "/home/wdd/3DSRCNN Dataset/train1/0078.bmp\n",
      "/home/wdd/3DSRCNN Dataset/train1/0379.bmp\n",
      "/home/wdd/3DSRCNN Dataset/train1/0176.bmp\n",
      "/home/wdd/3DSRCNN Dataset/train1/0262.bmp\n",
      "/home/wdd/3DSRCNN Dataset/train1/0104.bmp\n",
      "/home/wdd/3DSRCNN Dataset/train1/0126.bmp\n",
      "/home/wdd/3DSRCNN Dataset/train1/0320.bmp\n",
      "/home/wdd/3DSRCNN Dataset/train1/0261.bmp\n",
      "/home/wdd/3DSRCNN Dataset/train1/0209.bmp\n",
      "/home/wdd/3DSRCNN Dataset/train1/0044.bmp\n",
      "/home/wdd/3DSRCNN Dataset/train1/0186.bmp\n",
      "/home/wdd/3DSRCNN Dataset/train1/0001.bmp\n",
      "/home/wdd/3DSRCNN Dataset/train1/0220.bmp\n",
      "/home/wdd/3DSRCNN Dataset/train1/0233.bmp\n",
      "/home/wdd/3DSRCNN Dataset/train1/0227.bmp\n",
      "/home/wdd/3DSRCNN Dataset/train1/0397.bmp\n",
      "/home/wdd/3DSRCNN Dataset/train1/0214.bmp\n",
      "/home/wdd/3DSRCNN Dataset/train1/0042.bmp\n",
      "/home/wdd/3DSRCNN Dataset/train1/0192.bmp\n",
      "/home/wdd/3DSRCNN Dataset/train1/0393.bmp\n",
      "/home/wdd/3DSRCNN Dataset/train1/0131.bmp\n",
      "/home/wdd/3DSRCNN Dataset/train1/0161.bmp\n",
      "/home/wdd/3DSRCNN Dataset/train1/0332.bmp\n",
      "/home/wdd/3DSRCNN Dataset/train1/0311.bmp\n",
      "/home/wdd/3DSRCNN Dataset/train1/0119.bmp\n",
      "/home/wdd/3DSRCNN Dataset/train1/0238.bmp\n",
      "/home/wdd/3DSRCNN Dataset/train1/0369.bmp\n",
      "/home/wdd/3DSRCNN Dataset/train1/0084.bmp\n",
      "/home/wdd/3DSRCNN Dataset/train1/0375.bmp\n",
      "/home/wdd/3DSRCNN Dataset/train1/0039.bmp\n",
      "/home/wdd/3DSRCNN Dataset/train1/0378.bmp\n",
      "/home/wdd/3DSRCNN Dataset/train1/0125.bmp\n",
      "/home/wdd/3DSRCNN Dataset/train1/0008.bmp\n",
      "/home/wdd/3DSRCNN Dataset/train1/0144.bmp\n",
      "/home/wdd/3DSRCNN Dataset/train1/0086.bmp\n",
      "/home/wdd/3DSRCNN Dataset/train1/0333.bmp\n",
      "/home/wdd/3DSRCNN Dataset/train1/0200.bmp\n",
      "/home/wdd/3DSRCNN Dataset/train1/0037.bmp\n",
      "/home/wdd/3DSRCNN Dataset/train1/0223.bmp\n",
      "/home/wdd/3DSRCNN Dataset/train1/0309.bmp\n",
      "/home/wdd/3DSRCNN Dataset/train1/0322.bmp\n",
      "/home/wdd/3DSRCNN Dataset/train1/0331.bmp\n",
      "/home/wdd/3DSRCNN Dataset/train1/0359.bmp\n",
      "/home/wdd/3DSRCNN Dataset/train1/0329.bmp\n",
      "/home/wdd/3DSRCNN Dataset/train1/0242.bmp\n",
      "/home/wdd/3DSRCNN Dataset/train1/0010.bmp\n",
      "/home/wdd/3DSRCNN Dataset/train1/0152.bmp\n",
      "/home/wdd/3DSRCNN Dataset/train1/0189.bmp\n",
      "/home/wdd/3DSRCNN Dataset/train1/0088.bmp\n",
      "/home/wdd/3DSRCNN Dataset/train1/0136.bmp\n",
      "/home/wdd/3DSRCNN Dataset/train1/0002.bmp\n",
      "/home/wdd/3DSRCNN Dataset/train1/0293.bmp\n",
      "/home/wdd/3DSRCNN Dataset/train1/0061.bmp\n",
      "/home/wdd/3DSRCNN Dataset/train1/0355.bmp\n",
      "/home/wdd/3DSRCNN Dataset/train1/0258.bmp\n",
      "/home/wdd/3DSRCNN Dataset/train1/0094.bmp\n",
      "/home/wdd/3DSRCNN Dataset/train1/0259.bmp\n",
      "/home/wdd/3DSRCNN Dataset/train1/0232.bmp\n",
      "/home/wdd/3DSRCNN Dataset/train1/0099.bmp\n",
      "/home/wdd/3DSRCNN Dataset/train1/0351.bmp\n",
      "/home/wdd/3DSRCNN Dataset/train1/0236.bmp\n",
      "/home/wdd/3DSRCNN Dataset/train1/0237.bmp\n",
      "/home/wdd/3DSRCNN Dataset/train1/0266.bmp\n",
      "/home/wdd/3DSRCNN Dataset/train1/0380.bmp\n",
      "/home/wdd/3DSRCNN Dataset/train1/0115.bmp\n",
      "/home/wdd/3DSRCNN Dataset/train1/0134.bmp\n",
      "/home/wdd/3DSRCNN Dataset/train1/0006.bmp\n",
      "/home/wdd/3DSRCNN Dataset/train1/0324.bmp\n",
      "/home/wdd/3DSRCNN Dataset/train1/0137.bmp\n",
      "/home/wdd/3DSRCNN Dataset/train1/0062.bmp\n",
      "/home/wdd/3DSRCNN Dataset/train1/0025.bmp\n",
      "/home/wdd/3DSRCNN Dataset/train1/0106.bmp\n",
      "/home/wdd/3DSRCNN Dataset/train1/0308.bmp\n",
      "/home/wdd/3DSRCNN Dataset/train1/0298.bmp\n",
      "/home/wdd/3DSRCNN Dataset/train1/0066.bmp\n",
      "/home/wdd/3DSRCNN Dataset/train1/0026.bmp\n",
      "/home/wdd/3DSRCNN Dataset/train1/0110.bmp\n"
     ]
    },
    {
     "ename": "ValueError",
     "evalue": "invalid literal for int() with base 10: 'train1'",
     "output_type": "error",
     "traceback": [
      "\u001b[0;31m---------------------------------------------------------------------------\u001b[0m",
      "\u001b[0;31mValueError\u001b[0m                                Traceback (most recent call last)",
      "\u001b[0;32m<ipython-input-15-86ccda6cbd0d>\u001b[0m in \u001b[0;36m<module>\u001b[0;34m()\u001b[0m\n\u001b[1;32m      3\u001b[0m \u001b[0;32mfor\u001b[0m \u001b[0mimage\u001b[0m \u001b[0;32min\u001b[0m \u001b[0mimages\u001b[0m\u001b[0;34m:\u001b[0m\u001b[0;34m\u001b[0m\u001b[0m\n\u001b[1;32m      4\u001b[0m     \u001b[0mprint\u001b[0m \u001b[0;34m(\u001b[0m\u001b[0mimage\u001b[0m\u001b[0;34m)\u001b[0m\u001b[0;34m\u001b[0m\u001b[0m\n\u001b[0;32m----> 5\u001b[0;31m \u001b[0;32mif\u001b[0m \u001b[0mint\u001b[0m\u001b[0;34m(\u001b[0m\u001b[0mdir_path\u001b[0m\u001b[0;34m.\u001b[0m\u001b[0msplit\u001b[0m\u001b[0;34m(\u001b[0m\u001b[0;34m'/'\u001b[0m\u001b[0;34m)\u001b[0m\u001b[0;34m[\u001b[0m\u001b[0;34m-\u001b[0m\u001b[0;36m1\u001b[0m\u001b[0;34m]\u001b[0m\u001b[0;34m.\u001b[0m\u001b[0msplit\u001b[0m\u001b[0;34m(\u001b[0m\u001b[0;34m'.'\u001b[0m\u001b[0;34m)\u001b[0m\u001b[0;34m[\u001b[0m\u001b[0;36m0\u001b[0m\u001b[0;34m]\u001b[0m\u001b[0;34m)\u001b[0m\u001b[0;34m%\u001b[0m\u001b[0;36m2\u001b[0m\u001b[0;34m==\u001b[0m\u001b[0;36m0\u001b[0m\u001b[0;34m:\u001b[0m\u001b[0;34m\u001b[0m\u001b[0m\n\u001b[0m\u001b[1;32m      6\u001b[0m     \u001b[0mint\u001b[0m\u001b[0;34m(\u001b[0m\u001b[0mdir_path\u001b[0m\u001b[0;34m.\u001b[0m\u001b[0msplit\u001b[0m\u001b[0;34m(\u001b[0m\u001b[0;34m'/'\u001b[0m\u001b[0;34m)\u001b[0m\u001b[0;34m[\u001b[0m\u001b[0;34m-\u001b[0m\u001b[0;36m1\u001b[0m\u001b[0;34m]\u001b[0m\u001b[0;34m.\u001b[0m\u001b[0msplit\u001b[0m\u001b[0;34m(\u001b[0m\u001b[0;34m'.'\u001b[0m\u001b[0;34m)\u001b[0m\u001b[0;34m[\u001b[0m\u001b[0;36m0\u001b[0m\u001b[0;34m]\u001b[0m\u001b[0;34m)\u001b[0m\u001b[0;34m%\u001b[0m\u001b[0;36m2\u001b[0m\u001b[0;34m==\u001b[0m\u001b[0;36m0\u001b[0m\u001b[0;34m\u001b[0m\u001b[0m\n",
      "\u001b[0;31mValueError\u001b[0m: invalid literal for int() with base 10: 'train1'"
     ]
    }
   ],
   "source": [
    "dir_path='/home/wdd/3DSRCNN Dataset/train1'\n",
    "images=glob.glob(os.path.join(dir_path,'*.bmp'))\n",
    "for image in images:\n",
    "    print (image)\n",
    "if int(dir_path.split('/')[-1].split('.')[0])%2==0:\n",
    "    int(dir_path.split('/')[-1].split('.')[0])%2==0"
   ]
  },
  {
   "cell_type": "markdown",
   "metadata": {},
   "source": [
    "# pickle文件系统"
   ]
  },
  {
   "cell_type": "code",
   "execution_count": null,
   "metadata": {
    "collapsed": true
   },
   "outputs": [],
   "source": [
    "import pickle\n",
    "import os\n",
    "#os.mkdir('/home/wdd/MyPython')\n",
    "my_list=[1,2,3,4,5,6,'考拉',['another list']]\n",
    "pickle_file=open('my_list.pkl','wb')#open是内嵌函数，没有前缀名，如果没有该文件将会自动创建该文件\n",
    "pickle.dump(my_list,pickle_file)\n",
    "pickle_file.close()\n",
    "pickle_file=open('my_list.pkl','rb')\n",
    "my_list_load=pickle.load(pickle_file)\n",
    "print (my_list)"
   ]
  },
  {
   "cell_type": "markdown",
   "metadata": {},
   "source": [
    "# 魔法方法__init__()\n",
    "实例化的时候，会调用__init__方法，但不是第一个调用的，其实，第一个调用的魔法方法是__new__(cls[,...])"
   ]
  },
  {
   "cell_type": "code",
   "execution_count": null,
   "metadata": {
    "collapsed": true
   },
   "outputs": [],
   "source": [
    "class Rectangle:\n",
    "    def __init__(self,x,y):\n",
    "        self.x=x\n",
    "        self.y=y\n",
    "        print (\"我是__init__方法\")\n",
    "    def getPeri(self):\n",
    "        return (self.x+self.y)*2\n",
    "    def getArea(self):\n",
    "        return self.x*self.y\n",
    "class CapStr(str):\n",
    "    def __new__(cls,string):\n",
    "        string =string.upper()\n",
    "        return str.__new__(cls,string)\n",
    "a=Rectangle(1,2)\n",
    "a=CapStr(\"I love china\")\n",
    "a\n"
   ]
  },
  {
   "cell_type": "markdown",
   "metadata": {},
   "source": [
    "### __iter__迭代器\n",
    "一种特殊的魔法方法，类型可以进行迭代，其实就是这个特殊的魔法方法__iter__起到的作用<br/>\n",
    "__iter__方法会犯回一个迭代器iterator,所谓的迭代器就是具有next方法的对象\n"
   ]
  },
  {
   "cell_type": "code",
   "execution_count": null,
   "metadata": {
    "collapsed": true
   },
   "outputs": [],
   "source": [
    "class TestIterator:\n",
    "    value=0\n",
    "    def next(self):\n",
    "        self.value+=1\n",
    "        if self.value>10:\n",
    "            raise StopItetation\n",
    "        return self.value\n",
    "    def __iter__(self):\n",
    "        return self\n",
    "ti=TestIterator()\n",
    "for i in ti:\n",
    "    print (i)"
   ]
  },
  {
   "cell_type": "markdown",
   "metadata": {},
   "source": [
    "# 工厂函数\n"
   ]
  },
  {
   "cell_type": "code",
   "execution_count": null,
   "metadata": {
    "collapsed": true
   },
   "outputs": [],
   "source": [
    "type(len)\n",
    "type(list)\n",
    "class C:\n",
    "    pass\n",
    "type(C)\n",
    "a=int('123')\n",
    "class New_int(int):\n",
    "    def __add__(self,other):\n",
    "        return int.__sub__(self,other)\n",
    "    def __sub__(self,other):\n",
    "        return int.__add__(self,other)\n",
    "a=New_int(3)\n",
    "b=New_int(5)\n",
    "a+b\n",
    "print(a)\n",
    "print (int(5))\n",
    "\n",
    "class Try_int(int):\n",
    "    def __add__(self,other):\n",
    "        return int(self)+int(other)\n",
    "    def __sub__(self,other):\n",
    "        return int(self)-int(other)\n",
    "a=Try_int(3)\n",
    "b=Try_int(5)\n",
    "a+b#这样会陷入递归无限循环，self传入的参数a，return self+自动调用__add__,这样一来就会陷入无限递归循环"
   ]
  },
  {
   "cell_type": "markdown",
   "metadata": {},
   "source": [
    "# 属性访问\n",
    "可以通过内建函数来访问对象的属性\n"
   ]
  },
  {
   "cell_type": "code",
   "execution_count": null,
   "metadata": {
    "collapsed": true
   },
   "outputs": [],
   "source": [
    "class C:\n",
    "    def __init__(self):\n",
    "        self.x='X-Man'\n",
    "c=C()\n",
    "c.x\n",
    "getattr(c,'x','木有这个属性')\n",
    "getattr(c,'y','木有这个属性')\n",
    "class C:\n",
    "    def __init__(self,size=10):\n",
    "        self.size=size\n",
    "    def getSize(self):\n",
    "        return self.size\n",
    "    def setSize(self,value):\n",
    "        self.size=value\n",
    "    def delSize(self):\n",
    "        del self.size\n",
    "    x=property(getSize,setSize,delSize)\n",
    "c=C()\n",
    "c.x=((1),(2))\n",
    "print(c.size)"
   ]
  },
  {
   "cell_type": "markdown",
   "metadata": {},
   "source": [
    "# 定制容器\n",
    "根据自己的需要对容器进行改进\n",
    "首先是__getitem__(self,key)魔法方法，该魔法方法相当于是对[]运算符的重载，作用是让容器具有下标索引[]的功能，在此基础上还可以对该功能进行增加其他的附加操作\n",
    "```\n",
    "def __getitem__(self,key):\n",
    "    return self.values[key]#此处的value是你读入的变量，名称不是固定的，需要在__init__()中自己定义\n",
    "```如下是我们自己定义的一个容器，"
   ]
  },
  {
   "cell_type": "code",
   "execution_count": null,
   "metadata": {
    "collapsed": true
   },
   "outputs": [],
   "source": [
    "class CountList:\n",
    "    def __init__(self,*args):#可变属性量的参数\n",
    "        self.values=[x for x in args]\n",
    "        self.count=dict.fromkeys(range(len(self.values)),0)\n",
    "    def __len__(self):\n",
    "        return lend(self.values)\n",
    "    def __getitem__(self,key):#每当进行下标索引时会自动调用__getitem__()\n",
    "        self.count[key]+=1\n",
    "        return self.values[key]\n",
    "c1=CountList(1,2,3,4,5,6)\n",
    "c1[1]\n",
    "c1[1：3]\n",
    "c1.count"
   ]
  },
  {
   "cell_type": "markdown",
   "metadata": {},
   "source": [
    "# 生成器\n",
    "生成器是迭代器的一种实现，关键词\n",
    "`yield()`出现函数被定义为生成器\n",
    "协同程序，可以运行的独立函数调用，函数可以暂停或者挂起，并在需要的时候从程序里开得地方继续或者重新开始\n"
   ]
  },
  {
   "cell_type": "code",
   "execution_count": null,
   "metadata": {
    "collapsed": true
   },
   "outputs": [],
   "source": [
    "def myGen():\n",
    "    print ('生成器被执行')\n",
    "    yield 1\n",
    "    yield 2\n",
    "myG=myGen()\n",
    "for i in myGen():\n",
    "    print(i)\n",
    "def libs():\n",
    "    a=0\n",
    "    b=1\n",
    "    while True:\n",
    "        a,b=b,a+b\n",
    "        yield a\n",
    "for each in libs()"
   ]
  },
  {
   "cell_type": "code",
   "execution_count": null,
   "metadata": {
    "collapsed": true
   },
   "outputs": [],
   "source": [
    "a=[x for x in range(4) if x%2==0]\n",
    "type(a)"
   ]
  },
  {
   "cell_type": "markdown",
   "metadata": {},
   "source": [
    "# 异常\n",
    "在编写程序的时候，程序员通常需要辨别事件的正常过程和异常情况。<br/>\n",
    "python用异常对象exception object来表示异常情况，于晓错误后，会引发异常\n",
    "## raise语句\n",
    "为了引发异常，可以使用一个类或者实例参数调用raise语句，使用类时，程序会自动创建类的一个实例"
   ]
  },
  {
   "cell_type": "code",
   "execution_count": null,
   "metadata": {
    "collapsed": true
   },
   "outputs": [],
   "source": [
    "raise Exception#就是引发了一个没有任何相关错误信息的异常"
   ]
  },
  {
   "cell_type": "markdown",
   "metadata": {},
   "source": [
    "## python 内建异常\n",
    "***\n",
    "Exception 异常的基类<br/>\n",
    "AttributeError 特性引用或者赋值失败引发\n",
    "IOError试图打开不存在的文件引发<br/>\n",
    "IndexError在使用序列不存在索引时引发<br/>\n",
    "NameError在找不到名字时引发<br/>\n",
    "SynaxError语法错误引发<br/>\n",
    "ValueError在内建操作或者函数对象使用不合适值引发<br/>\n",
    "TypeError函数应用于错误类型的对象时引发<br/>\n"
   ]
  },
  {
   "cell_type": "markdown",
   "metadata": {},
   "source": [
    "### 自定义异常类\n",
    "从Exception类继承\n"
   ]
  },
  {
   "cell_type": "code",
   "execution_count": null,
   "metadata": {
    "collapsed": true
   },
   "outputs": [],
   "source": [
    "class SomeCustomException(Exception):\n",
    "    pass\n"
   ]
  },
  {
   "cell_type": "markdown",
   "metadata": {},
   "source": [
    "### 捕捉异常\n",
    "使用try/except语句来实现"
   ]
  },
  {
   "cell_type": "code",
   "execution_count": null,
   "metadata": {
    "collapsed": true
   },
   "outputs": [],
   "source": [
    "while True:\n",
    "    try:\n",
    "        x=input('Enter the first number:')\n",
    "        y=input('Enter the second number')\n",
    "        value=int(x)/int(y)\n",
    "        print ('x/y is: %d'%value)\n",
    "    except Exception:\n",
    "        print ('Invalid input:',e)\n",
    "        print ('please try again')\n",
    "    else :\n",
    "        break"
   ]
  },
  {
   "cell_type": "markdown",
   "metadata": {},
   "source": [
    "## with\n",
    "with 语句是一种异常处理相关的功能,要使用with语句,首先要明白上下文管理器这一概念,有了上下文管理器,with语句才能工作.\n",
    "\n",
    "* **上下文管协议(Context Management Protocol):**包含方法__enter__()和__exit__(),负责执行with语句块上下文的进入与推出操作,通常使用with语句调用上下文管理器<br/>\n"
   ]
  },
  {
   "cell_type": "code",
   "execution_count": null,
   "metadata": {
    "collapsed": true
   },
   "outputs": [],
   "source": [
    "with context_expression [as target]:#使用格式\n",
    "    with-body"
   ]
  },
  {
   "cell_type": "markdown",
   "metadata": {},
   "source": [
    "如果context_expression运行异常的话,会默认context_expression这句话没有说过,如果没有异常会\n",
    "将这句话的赋给target,并往下执行"
   ]
  },
  {
   "cell_type": "code",
   "execution_count": null,
   "metadata": {
    "collapsed": true
   },
   "outputs": [],
   "source": [
    "with open('filename') as somefile:\n",
    "    for line in somefile:\n",
    "        print (line)\n",
    "###\n",
    "somefile=open('filename')\n",
    "try:\n",
    "    for line in somefile:\n",
    "        print (line)\n",
    "finally:\n",
    "    somefile.close()\n",
    "###上下等同"
   ]
  },
  {
   "cell_type": "code",
   "execution_count": null,
   "metadata": {
    "collapsed": true
   },
   "outputs": [],
   "source": []
  },
  {
   "cell_type": "code",
   "execution_count": null,
   "metadata": {
    "collapsed": true
   },
   "outputs": [],
   "source": []
  }
 ],
 "metadata": {
  "kernelspec": {
   "display_name": "Python 3",
   "language": "python",
   "name": "python3"
  },
  "language_info": {
   "codemirror_mode": {
    "name": "ipython",
    "version": 3
   },
   "file_extension": ".py",
   "mimetype": "text/x-python",
   "name": "python",
   "nbconvert_exporter": "python",
   "pygments_lexer": "ipython3",
   "version": "3.6.3"
  }
 },
 "nbformat": 4,
 "nbformat_minor": 2
}
