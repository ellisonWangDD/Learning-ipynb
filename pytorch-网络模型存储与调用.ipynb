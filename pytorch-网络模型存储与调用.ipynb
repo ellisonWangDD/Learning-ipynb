{
 "cells": [
  {
   "cell_type": "markdown",
   "metadata": {},
   "source": [
    "# Pytorch网络模型存储与\n",
    "pytorh网络模型的存储和调用主要利用了`torch.save()`和`torch.load()`这两个函数"
   ]
  },
  {
   "cell_type": "code",
   "execution_count": 1,
   "metadata": {},
   "outputs": [],
   "source": [
    "import torch"
   ]
  },
  {
   "cell_type": "code",
   "execution_count": null,
   "metadata": {},
   "outputs": [],
   "source": [
    "def save_checkpoint(model, epoch, save_mode='generator'):\n",
    "    model_out_path = save_mode+'model/'+'model_epoch_{}.pkl'.format(epoch)\n",
    "    state = {'epoch':epoch, 'model':model}#使用字典的方式进行存储，可以将epoch编号和网络参数都存储下来\n",
    "    if not os.path.exists('model/'):#判断当前路径下文件夹是否存在，注意`model`后面要有`/`表示文件夹\n",
    "        os.makedirs('model/')\n",
    "    torch.save(state,model_out_path)\n",
    "    print('Checkpoint saved to {}'.format(model_out_path))#使用format格式化输出"
   ]
  },
  {
   "cell_type": "code",
   "execution_count": null,
   "metadata": {},
   "outputs": [],
   "source": [
    "def load_checkpoint(epoch, model, model_path):\n",
    "    if os.path.isfile(model_path):\n",
    "        print('====>loading checkpoint:{}'.format(model_path))\n",
    "        checkpoint = torch.load(model_path)#注意要先用load加载出网络\n",
    "        start_epoch += 1\n",
    "        model.load_state_dict(checkpoint['model'].state_dict())#读取网络模型参数，注意checkpoint是用字典存储的，索引model才是之前训练的网络模型\n",
    "    print('There is no file named :{}'.format(model_path))"
   ]
  },
  {
   "cell_type": "markdown",
   "metadata": {},
   "source": [
    "`torch.save(obj, f, pickle_module)`\n",
    "**功能：**存储一个对象至本地文件,相当于把计算机内存里的对象存到本地，任意obj的类型都可以存储，load后可以继续使用。\n",
    "**参数：**\n",
    "-obj:待存储的对象\n",
    "-f:存储的文件名，string类型"
   ]
  },
  {
   "cell_type": "markdown",
   "metadata": {},
   "source": [
    "`torch.load(f, map_location=None, pickle_module)`\n",
    "**功能：**读取save存储的文件，返回save相应的obj\n",
    "**参数：**\n",
    "f:文件名称"
   ]
  },
  {
   "cell_type": "markdown",
   "metadata": {},
   "source": [
    "`torch.nn.Module.load_state_dict(dict)`\n",
    "**功能：**网络模型载入已有的参数字典<br>\n",
    "**参数：**\n",
    "state_dict:参数字典"
   ]
  },
  {
   "cell_type": "markdown",
   "metadata": {},
   "source": [
    "`torch.nn.Module.state_dict()`\n",
    "**功能：**返回包括网络所有参数的一个字典<br>\n",
    "**参数：**可以像字典一样使用,调用`.keys()`可以查看里面的键值"
   ]
  },
  {
   "cell_type": "code",
   "execution_count": 10,
   "metadata": {},
   "outputs": [
    {
     "name": "stdout",
     "output_type": "stream",
     "text": [
      "Help on function state_dict in module torch.nn.modules.module:\n",
      "\n",
      "state_dict(self, destination=None, prefix='', keep_vars=False)\n",
      "    Returns a dictionary containing a whole state of the module.\n",
      "    \n",
      "    Both parameters and persistent buffers (e.g. running averages) are\n",
      "    included. Keys are corresponding parameter and buffer names.\n",
      "    \n",
      "    Returns:\n",
      "        dict:\n",
      "            a dictionary containing a whole state of the module\n",
      "    \n",
      "    Example::\n",
      "    \n",
      "        >>> module.state_dict().keys()\n",
      "        ['bias', 'weight']\n",
      "\n"
     ]
    }
   ],
   "source": [
    "help(torch.nn.Module.state_dict)"
   ]
  },
  {
   "cell_type": "code",
   "execution_count": 4,
   "metadata": {},
   "outputs": [
    {
     "name": "stdout",
     "output_type": "stream",
     "text": [
      "Help on function load in module torch.serialization:\n",
      "\n",
      "load(f, map_location=None, pickle_module=<module 'pickle' from '/home/wdd/anaconda3/lib/python3.6/pickle.py'>)\n",
      "    Loads an object saved with :func:`torch.save` from a file.\n",
      "    \n",
      "    :meth:`torch.load` uses Python's unpickling facilities but treats storages,\n",
      "    which underlie tensors, specially. They are first deserialized on the\n",
      "    CPU and are then moved to the device they were saved from. If this fails\n",
      "    (e.g. because the run time system doesn't have certain devices), an exception\n",
      "    is raised. However, storages can be dynamically remapped to an alternative\n",
      "    set of devices using the `map_location` argument.\n",
      "    \n",
      "    If `map_location` is a callable, it will be called once for each serialized\n",
      "    storage with two arguments: storage and location. The storage argument\n",
      "    will be the initial deserialization of the storage, residing on the CPU.\n",
      "    Each serialized storage has a location tag associated with it which\n",
      "    identifies the device it was saved from, and this tag is the second\n",
      "    argument passed to map_location. The builtin location tags are `'cpu'` for\n",
      "    CPU tensors and `'cuda:device_id'` (e.g. `'cuda:2'`) for CUDA tensors.\n",
      "    `map_location` should return either None or a storage. If `map_location` returns\n",
      "    a storage, it will be used as the final deserialized object, already moved to\n",
      "    the right device. Otherwise, :math:`torch.load` will fall back to the default\n",
      "    behavior, as if `map_location` wasn't specified.\n",
      "    \n",
      "    If `map_location` is a string, it should be a device tag, where all tensors\n",
      "    should be loaded.\n",
      "    \n",
      "    Otherwise, if `map_location` is a dict, it will be used to remap location tags\n",
      "    appearing in the file (keys), to ones that specify where to put the\n",
      "    storages (values).\n",
      "    \n",
      "    User extensions can register their own location tags and tagging and\n",
      "    deserialization methods using `register_package`.\n",
      "    \n",
      "    Args:\n",
      "        f: a file-like object (has to implement read, readline, tell, and seek),\n",
      "            or a string containing a file name\n",
      "        map_location: a function, string or a dict specifying how to remap storage\n",
      "            locations\n",
      "        pickle_module: module used for unpickling metadata and objects (has to\n",
      "            match the pickle_module used to serialize file)\n",
      "    \n",
      "    Example:\n",
      "        >>> torch.load('tensors.pt')\n",
      "        # Load all tensors onto the CPU\n",
      "        >>> torch.load('tensors.pt', map_location='cpu')\n",
      "        # Load all tensors onto the CPU, using a function\n",
      "        >>> torch.load('tensors.pt', map_location=lambda storage, loc: storage)\n",
      "        # Load all tensors onto GPU 1\n",
      "        >>> torch.load('tensors.pt', map_location=lambda storage, loc: storage.cuda(1))\n",
      "        # Map tensors from GPU 1 to GPU 0\n",
      "        >>> torch.load('tensors.pt', map_location={'cuda:1':'cuda:0'})\n",
      "        # Load tensor from io.BytesIO object\n",
      "        >>> with open('tensor.pt') as f:\n",
      "                buffer = io.BytesIO(f.read())\n",
      "        >>> torch.load(buffer)\n",
      "\n"
     ]
    }
   ],
   "source": [
    "help(torch.load)"
   ]
  },
  {
   "cell_type": "code",
   "execution_count": 11,
   "metadata": {},
   "outputs": [
    {
     "name": "stdout",
     "output_type": "stream",
     "text": [
      "Help on function save in module torch.serialization:\n",
      "\n",
      "save(obj, f, pickle_module=<module 'pickle' from '/home/wdd/anaconda3/lib/python3.6/pickle.py'>, pickle_protocol=2)\n",
      "    Saves an object to a disk file.\n",
      "    \n",
      "    See also: :ref:`recommend-saving-models`\n",
      "    \n",
      "    Args:\n",
      "        obj: saved object\n",
      "        f: a file-like object (has to implement write and flush) or a string\n",
      "           containing a file name\n",
      "        pickle_module: module used for pickling metadata and objects\n",
      "        pickle_protocol: can be specified to override the default protocol\n",
      "    \n",
      "    .. warning::\n",
      "        If you are using Python 2, torch.save does NOT support StringIO.StringIO\n",
      "        as a valid file-like object. This is because the write method should return\n",
      "        the number of bytes written; StringIO.write() does not do this.\n",
      "    \n",
      "        Please use something like io.BytesIO instead.\n",
      "    \n",
      "    Example:\n",
      "        >>> # Save to file\n",
      "        >>> x = torch.tensor([0, 1, 2, 3, 4])\n",
      "        >>> torch.save(x, 'tensor.pt')\n",
      "        >>> # Save to io.BytesIO buffer\n",
      "        >>> buffer = io.BytesIO()\n",
      "        >>> torch.save(x, buffer)\n",
      "\n"
     ]
    }
   ],
   "source": [
    "help(torch.save)"
   ]
  }
 ],
 "metadata": {
  "kernelspec": {
   "display_name": "Python 3",
   "language": "python",
   "name": "python3"
  },
  "language_info": {
   "codemirror_mode": {
    "name": "ipython",
    "version": 3
   },
   "file_extension": ".py",
   "mimetype": "text/x-python",
   "name": "python",
   "nbconvert_exporter": "python",
   "pygments_lexer": "ipython3",
   "version": "3.6.6"
  }
 },
 "nbformat": 4,
 "nbformat_minor": 2
}
