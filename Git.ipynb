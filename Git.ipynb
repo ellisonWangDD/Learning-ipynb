{
 "cells": [
  {
   "cell_type": "markdown",
   "metadata": {},
   "source": [
    "# Git 实用教程\n",
    "版本控制系统，linus大神，开源软件\n",
    "开源之禅\n",
    "优秀的程序员将更多的精力放在程序的设计上！"
   ]
  },
  {
   "cell_type": "markdown",
   "metadata": {},
   "source": [
    "## 初次使用Git前的配置\n",
    "-git config --global user.name '用户名'\n",
    "-git config --global user.email '邮箱'\n",
    "git config --list#显示信息\n"
   ]
  },
  {
   "cell_type": "markdown",
   "metadata": {},
   "source": [
    "## 命令行模式\n",
    "Git记录的是什么？\n",
    "Git将版本独立存储，看似消耗了很多的空间，但是很好的\n",
    "**Git维护三棵树**\n",
    "***\n",
    "Working Directory(Project)：平时存放项目的地方 <br/>\n",
    "Stage(index)：临时存放你的改动<br/>\n",
    "Repository(Head)：最终存放你数据<br/>\n",
    "***\n",
    "* git的工作流程\n",
    "1.在工作目录中添加、修改文件\n",
    "2.将需要进行版本管理的文件放入暂存区域\n",
    "3.将暂存区域的文件提交到Git仓库\n",
    "* Git管理文件有三种状态\n",
    "- 已修改(modified)\n",
    "- 已暂存(staged)\n",
    "- 已提交(committed)\n",
    "***"
   ]
  },
  {
   "cell_type": "markdown",
   "metadata": {},
   "source": [
    "## 实战\n",
    "1.在电脑上面建立一个大本营(文件夹，存放自己的项目),终端输入<br/>\n",
    "`git init`会在当前目录下自动创建一个隐藏的文件夹`.git`，它是用来跟踪管理版本迭代的，眼看手勿动<br/>\n",
    ">注意在终端运行要切换到当前目录\n",
    "2.创建一个README.md文档，给使用者看，`git add README.md`，将文件放入暂存区域\n",
    "3.`git commit -m ‘add a readme file`,将项目提交到仓库\n",
    ">`git commit -m '你干了啥'`每一次提交要写一个注释，这是提交你干了啥子\n",
    "一旦将文件提交到git，就需要收到git的管理和跟踪,可能被git嘿嘿嘿"
   ]
  },
  {
   "cell_type": "markdown",
   "metadata": {},
   "source": [
    "### 查看状态\n",
    "看一下那些文件是新添加的，哪些是没有发生变化的\n",
    "* git status <br/.>\n",
    "》On branch master<br/>\n",
    "nothing to commit,working directory clean<br/>\n",
    "表示当前文件里没有需要提交的文件(针对当前文件都没有变化的),如果你此时在当前目录下添加一个**新的文件License.txt**后，再次执行\n",
    "* git status\n",
    "就会出现提示<br/>\n",
    "》`<use 'git add <file>'>` to include in what will be committed<br/>\n",
    "* git add License<br/>\n",
    "* git commit -m 'commit License.txt file'\n",
    "**或者给你一个反悔的机会**\n",
    "* git reset HEAD 撤销上一次的操作，恢复到暂存区域Stage\n",
    "* git reset HEAD <file>指定恢复的文件\n",
    "**如果我们**<br/>\n",
    "* git chekout --License将暂存区域的文件恢复到工作目录\n",
    "***\n",
    "----------add---->....>--commit--><br/>\n",
    "working<-------->Stage<-------->Repository<br/>\n",
    "<----checkout----<....<----reset----<.....<br/>"
   ]
  },
  {
   "cell_type": "markdown",
   "metadata": {},
   "source": [
    "### log提交日志\n",
    "* git log产看历史提交记录,地址使用了哈希校验和"
   ]
  },
  {
   "cell_type": "markdown",
   "metadata": {},
   "source": [
    "## 回到过去\n",
    "HEAD(Repo)只想提交的最新的版本，\n",
    "* git reset HEAD~\n",
    "* git reset --soft HEAD~ 移动了HEAD的指向，没有发生操作\n",
    "* git reset --hard HEAD~ 撤销上一个操作，直接影响文件目录"
   ]
  },
  {
   "cell_type": "markdown",
   "metadata": {},
   "source": [
    "### reset 回滚快照三部曲\n",
    "1.移动HEAD的指向(--soft)<br/>\n",
    "2.将快照回滚到暂存目录stage([--mixed],默认)<br/>\n",
    "3.将暂存区域还原到工作目录(--hard)<br/>\n",
    ">**指定回滚快照：git reset a5be0**<br/>\n",
    "回滚个别文件git reset <file>但是不会改变HEAD指针"
   ]
  },
  {
   "cell_type": "markdown",
   "metadata": {
    "collapsed": true
   },
   "source": [
    "## 区别命令\n",
    "找茬命令，找到提交文件的区别<br/>\n",
    "git -diff a/<暂存区域的文件> b/<工作区域的文件> 比较两个文件的区别"
   ]
  },
  {
   "cell_type": "markdown",
   "metadata": {},
   "source": [
    "# Git分支\n",
    "最傲娇的技能<br/>\n",
    "克隆一个拥有一万个提交，5个分支的操作，增量文件系统，新的快照存放的是旧的快照不同的那部分，git会耗费更多的空间，但是在速度和效率上<br/>\n",
    "* `git branch 分支名称` #创建一个新的分支\n",
    "* `git branch -d 分支名称`#删除一个分支\n",
    "* `git checkout 分支名称` #切换分支,checkout有两个功能，一个是切换\n",
    "* `git push origin 分支名称`#将该分支推送到远程仓库\n",
    ">注意一下：使用`git checkout`命令的时候，他使用HEAD中的最新内容替换掉工作目录的文件，添加到暂存区的 改动和新 文件都不会受影响"
   ]
  },
  {
   "cell_type": "markdown",
   "metadata": {},
   "source": [
    "## git分支合并\n",
    "* `git merge 分支名称`#将<分支名称>合并到当前分支"
   ]
  },
  {
   "cell_type": "markdown",
   "metadata": {},
   "source": [
    ">对于文件级别的恢复，使用`checkout`和`reset`命令都可以恢复制定快照的指定文件，他们都不会改变HEAD指针的指向。\n",
    "他们的区别是`reset`命令直降指定文件恢复到暂存区域，而`checkout`命令是同时覆盖暂存区域和工作目录，这样看来，在恢复文件方面，reset比checkout更安全一些。\n"
   ]
  },
  {
   "cell_type": "markdown",
   "metadata": {},
   "source": [
    "# Github\n",
    "## 基本概念\n",
    "* 仓库Repository \n",
    "* 收藏star(100个star挺牛逼)，方便下次查看\n",
    "* 复制克隆Fork分叉\n",
    ">一个Repository对应一个开源项目\n"
   ]
  },
  {
   "cell_type": "markdown",
   "metadata": {},
   "source": [
    "* 发起请求Pull Request\n",
    "* 关注Watch 以后这个项目有任何更新，你都会收到\n",
    "* 事务卡片Issue，社交功能，发现程序的bug，与作者交流"
   ]
  },
  {
   "cell_type": "markdown",
   "metadata": {},
   "source": [
    "* `git clone 仓库地址`\n",
    "* `git pull `更新本地仓库至最新改动\n",
    "* `git remote add origin 远程仓库的地址`\n",
    ">后面的链接是在github上面建立Repository后的仓库连接\n",
    "* `git push -u orgin master`提交这个分支到远程仓库"
   ]
  },
  {
   "cell_type": "markdown",
   "metadata": {},
   "source": [
    "## Github Issues\n",
    "* 作用：发现diamanteBUG，但是目前没有成型代码，但是需要与作者进行交流\n",
    "* 使用方法：访问他人的Isuue，create an issue"
   ]
  }
 ],
 "metadata": {
  "kernelspec": {
   "display_name": "Python 3",
   "language": "python",
   "name": "python3"
  },
  "language_info": {
   "codemirror_mode": {
    "name": "ipython",
    "version": 3
   },
   "file_extension": ".py",
   "mimetype": "text/x-python",
   "name": "python",
   "nbconvert_exporter": "python",
   "pygments_lexer": "ipython3",
   "version": "3.6.3"
  }
 },
 "nbformat": 4,
 "nbformat_minor": 2
}
